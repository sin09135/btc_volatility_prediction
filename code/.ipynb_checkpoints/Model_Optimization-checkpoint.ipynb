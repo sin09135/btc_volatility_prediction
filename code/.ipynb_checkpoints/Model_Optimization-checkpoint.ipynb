{
 "cells": [
  {
   "cell_type": "markdown",
   "id": "07c91271-d2eb-4f22-b5c6-63e2086948f9",
   "metadata": {},
   "source": [
    "# Model Optimization\n",
    "- 결측치 보간 후 파일로 진행"
   ]
  },
  {
   "cell_type": "code",
   "execution_count": 18,
   "id": "a090da29",
   "metadata": {
    "tags": []
   },
   "outputs": [
    {
     "data": {
      "text/html": [
       "<div>\n",
       "<style scoped>\n",
       "    .dataframe tbody tr th:only-of-type {\n",
       "        vertical-align: middle;\n",
       "    }\n",
       "\n",
       "    .dataframe tbody tr th {\n",
       "        vertical-align: top;\n",
       "    }\n",
       "\n",
       "    .dataframe thead th {\n",
       "        text-align: right;\n",
       "    }\n",
       "</style>\n",
       "<table border=\"1\" class=\"dataframe\">\n",
       "  <thead>\n",
       "    <tr style=\"text-align: right;\">\n",
       "      <th></th>\n",
       "      <th>time</th>\n",
       "      <th>Open</th>\n",
       "      <th>High</th>\n",
       "      <th>Low</th>\n",
       "      <th>Close</th>\n",
       "      <th>Volume</th>\n",
       "      <th>quote_qty</th>\n",
       "      <th>is_buyer_maker</th>\n",
       "      <th>returns</th>\n",
       "      <th>volatility</th>\n",
       "      <th>...</th>\n",
       "      <th>upper_band_10</th>\n",
       "      <th>lower_band_10</th>\n",
       "      <th>roc_1</th>\n",
       "      <th>roc_2</th>\n",
       "      <th>rsi_7</th>\n",
       "      <th>rsi_9</th>\n",
       "      <th>rsi_14</th>\n",
       "      <th>UO_71014</th>\n",
       "      <th>UO_7911</th>\n",
       "      <th>UO_71012</th>\n",
       "    </tr>\n",
       "  </thead>\n",
       "  <tbody>\n",
       "    <tr>\n",
       "      <th>0</th>\n",
       "      <td>2023-01-01 00:00:00</td>\n",
       "      <td>16537.5</td>\n",
       "      <td>16540.9</td>\n",
       "      <td>16504.0</td>\n",
       "      <td>16527.0</td>\n",
       "      <td>5381.399</td>\n",
       "      <td>7264.129209</td>\n",
       "      <td>16494</td>\n",
       "      <td>0.000138</td>\n",
       "      <td>0.002201</td>\n",
       "      <td>...</td>\n",
       "      <td>42286.896445</td>\n",
       "      <td>41602.459445</td>\n",
       "      <td>0.141586</td>\n",
       "      <td>0.093181</td>\n",
       "      <td>100.000000</td>\n",
       "      <td>100.000000</td>\n",
       "      <td>100.000000</td>\n",
       "      <td>0.000000</td>\n",
       "      <td>0.000000</td>\n",
       "      <td>0.000000</td>\n",
       "    </tr>\n",
       "    <tr>\n",
       "      <th>1</th>\n",
       "      <td>2023-01-01 01:00:00</td>\n",
       "      <td>16527.1</td>\n",
       "      <td>16554.3</td>\n",
       "      <td>16524.1</td>\n",
       "      <td>16550.4</td>\n",
       "      <td>3210.826</td>\n",
       "      <td>6819.889969</td>\n",
       "      <td>8705</td>\n",
       "      <td>0.001416</td>\n",
       "      <td>0.002201</td>\n",
       "      <td>...</td>\n",
       "      <td>42286.896445</td>\n",
       "      <td>41602.459445</td>\n",
       "      <td>0.141586</td>\n",
       "      <td>0.093181</td>\n",
       "      <td>100.000000</td>\n",
       "      <td>100.000000</td>\n",
       "      <td>100.000000</td>\n",
       "      <td>40.577816</td>\n",
       "      <td>40.577816</td>\n",
       "      <td>40.577816</td>\n",
       "    </tr>\n",
       "    <tr>\n",
       "      <th>2</th>\n",
       "      <td>2023-01-01 02:00:00</td>\n",
       "      <td>16550.5</td>\n",
       "      <td>16557.1</td>\n",
       "      <td>16534.8</td>\n",
       "      <td>16542.4</td>\n",
       "      <td>2399.668</td>\n",
       "      <td>6030.420093</td>\n",
       "      <td>8468</td>\n",
       "      <td>-0.000483</td>\n",
       "      <td>0.002201</td>\n",
       "      <td>...</td>\n",
       "      <td>42286.896445</td>\n",
       "      <td>41602.459445</td>\n",
       "      <td>-0.048337</td>\n",
       "      <td>0.093181</td>\n",
       "      <td>74.522293</td>\n",
       "      <td>74.522293</td>\n",
       "      <td>74.522293</td>\n",
       "      <td>45.684084</td>\n",
       "      <td>45.684084</td>\n",
       "      <td>45.684084</td>\n",
       "    </tr>\n",
       "  </tbody>\n",
       "</table>\n",
       "<p>3 rows × 82 columns</p>\n",
       "</div>"
      ],
      "text/plain": [
       "                  time     Open     High      Low    Close    Volume  \\\n",
       "0  2023-01-01 00:00:00  16537.5  16540.9  16504.0  16527.0  5381.399   \n",
       "1  2023-01-01 01:00:00  16527.1  16554.3  16524.1  16550.4  3210.826   \n",
       "2  2023-01-01 02:00:00  16550.5  16557.1  16534.8  16542.4  2399.668   \n",
       "\n",
       "     quote_qty  is_buyer_maker   returns  volatility  ...  upper_band_10  \\\n",
       "0  7264.129209           16494  0.000138    0.002201  ...   42286.896445   \n",
       "1  6819.889969            8705  0.001416    0.002201  ...   42286.896445   \n",
       "2  6030.420093            8468 -0.000483    0.002201  ...   42286.896445   \n",
       "\n",
       "   lower_band_10     roc_1     roc_2       rsi_7       rsi_9      rsi_14  \\\n",
       "0   41602.459445  0.141586  0.093181  100.000000  100.000000  100.000000   \n",
       "1   41602.459445  0.141586  0.093181  100.000000  100.000000  100.000000   \n",
       "2   41602.459445 -0.048337  0.093181   74.522293   74.522293   74.522293   \n",
       "\n",
       "    UO_71014    UO_7911   UO_71012  \n",
       "0   0.000000   0.000000   0.000000  \n",
       "1  40.577816  40.577816  40.577816  \n",
       "2  45.684084  45.684084  45.684084  \n",
       "\n",
       "[3 rows x 82 columns]"
      ]
     },
     "execution_count": 18,
     "metadata": {},
     "output_type": "execute_result"
    }
   ],
   "source": [
    "import pandas as pd\n",
    "\n",
    "df = pd.read_csv('../data/final_dask.csv')\n",
    "df.head(3)"
   ]
  },
  {
   "cell_type": "code",
   "execution_count": 103,
   "id": "d7dacd9a-63b2-4212-a52b-a966469c2b08",
   "metadata": {
    "tags": []
   },
   "outputs": [
    {
     "name": "stdout",
     "output_type": "stream",
     "text": [
      "Requirement already satisfied: BayesianOptimization in /Users/kimsinwoo/anaconda3/lib/python3.11/site-packages (0.0.0)\n",
      "Requirement already satisfied: numpy in /Users/kimsinwoo/anaconda3/lib/python3.11/site-packages (from BayesianOptimization) (1.24.3)\n",
      "Note: you may need to restart the kernel to use updated packages.\n"
     ]
    }
   ],
   "source": [
    "pip install BayesianOptimization"
   ]
  },
  {
   "cell_type": "code",
   "execution_count": 104,
   "id": "58196678-c025-4af9-852d-2a8b62b7d240",
   "metadata": {
    "tags": []
   },
   "outputs": [
    {
     "name": "stdout",
     "output_type": "stream",
     "text": [
      "Requirement already satisfied: bayesian-optimization in /Users/kimsinwoo/anaconda3/lib/python3.11/site-packages (1.4.3)\n",
      "Requirement already satisfied: numpy>=1.9.0 in /Users/kimsinwoo/anaconda3/lib/python3.11/site-packages (from bayesian-optimization) (1.24.3)\n",
      "Requirement already satisfied: scipy>=1.0.0 in /Users/kimsinwoo/anaconda3/lib/python3.11/site-packages (from bayesian-optimization) (1.10.1)\n",
      "Requirement already satisfied: scikit-learn>=0.18.0 in /Users/kimsinwoo/anaconda3/lib/python3.11/site-packages (from bayesian-optimization) (1.3.0)\n",
      "Requirement already satisfied: colorama>=0.4.6 in /Users/kimsinwoo/anaconda3/lib/python3.11/site-packages (from bayesian-optimization) (0.4.6)\n",
      "Requirement already satisfied: joblib>=1.1.1 in /Users/kimsinwoo/anaconda3/lib/python3.11/site-packages (from scikit-learn>=0.18.0->bayesian-optimization) (1.2.0)\n",
      "Requirement already satisfied: threadpoolctl>=2.0.0 in /Users/kimsinwoo/anaconda3/lib/python3.11/site-packages (from scikit-learn>=0.18.0->bayesian-optimization) (2.2.0)\n",
      "Note: you may need to restart the kernel to use updated packages.\n"
     ]
    }
   ],
   "source": [
    "pip install bayesian-optimization"
   ]
  },
  {
   "cell_type": "code",
   "execution_count": 21,
   "id": "e3407979-0da2-4456-92ac-8dcb8163dd22",
   "metadata": {
    "tags": []
   },
   "outputs": [],
   "source": [
    "# from bayes_opt import BayesianOptimization"
   ]
  },
  {
   "cell_type": "code",
   "execution_count": 22,
   "id": "142f447d",
   "metadata": {
    "tags": []
   },
   "outputs": [],
   "source": [
    "df = df.set_index('time')\n",
    "df.index=pd.to_datetime(df.index)"
   ]
  },
  {
   "cell_type": "code",
   "execution_count": 23,
   "id": "8c5b9fcc",
   "metadata": {
    "tags": []
   },
   "outputs": [],
   "source": [
    "from sklearn.ensemble import RandomForestRegressor\n",
    "from sklearn.metrics import mean_squared_error\n",
    "from sklearn.metrics import mean_absolute_percentage_error\n",
    "import numpy as np\n",
    "import matplotlib.pyplot as plt\n",
    "from sklearn.model_selection import TimeSeriesSplit #Timeseires Split"
   ]
  },
  {
   "cell_type": "code",
   "execution_count": 24,
   "id": "c196fbcb",
   "metadata": {
    "tags": []
   },
   "outputs": [],
   "source": [
    "def calculate_rmse(y_true, y_pred):\n",
    "    return np.sqrt(mean_squared_error(y_true, y_pred))"
   ]
  },
  {
   "cell_type": "code",
   "execution_count": 25,
   "id": "d0e77982",
   "metadata": {
    "tags": []
   },
   "outputs": [],
   "source": [
    "def rf_base(df, df_name, n_splits): \n",
    "    \n",
    "    # Feature와 Target 나누기\n",
    "    X = df.drop(columns=['volatility'])\n",
    "    y = df['volatility']\n",
    "\n",
    "    tscv = TimeSeriesSplit(n_splits)\n",
    "    \n",
    "    mape_list = []\n",
    "    rmse_list = []\n",
    "\n",
    "    # TimeSeriesSplit을 사용하여 데이터 분할\n",
    "    for train_index, test_index in tscv.split(X):\n",
    "        X_train, X_test = X.iloc[train_index], X.iloc[test_index]\n",
    "        y_train, y_test = y.iloc[train_index], y.iloc[test_index]\n",
    "        \n",
    "\n",
    "        # RandomForestRegressor\n",
    "        rf_model = RandomForestRegressor(random_state=42)  # random_state 추가\n",
    "\n",
    "        # 모델 학습\n",
    "        rf_model.fit(X_train, y_train)\n",
    "\n",
    "        # 예측\n",
    "        y_pred = rf_model.predict(X_test)\n",
    "\n",
    "        # 평가지표(MAPE, RMSE)\n",
    "        test_mape = mean_absolute_percentage_error(y_test, y_pred)\n",
    "        test_rmse = calculate_rmse(y_test, y_pred)\n",
    "        \n",
    "        # 결과 저장\n",
    "        mape_list.append(test_mape)\n",
    "        rmse_list.append(test_rmse)\n",
    "        \n",
    "        print(f'{df_name} : MAPE: {test_mape}, RMSE: {test_rmse}')\n",
    "    \n",
    "    # 평균 결과a\n",
    "    print(f'{df_name} : Average MAPE: {np.mean(mape_list)}, Average RMSE: {np.mean(rmse_list)}')"
   ]
  },
  {
   "cell_type": "markdown",
   "id": "027c39f6-378b-426b-9dfe-6f7f1a16b8bd",
   "metadata": {},
   "source": [
    "### 1.Optimazation"
   ]
  },
  {
   "cell_type": "code",
   "execution_count": 161,
   "id": "e1deabfe-1219-46ce-9ca4-a85122dba30d",
   "metadata": {
    "tags": []
   },
   "outputs": [],
   "source": [
    "from sklearn.ensemble import RandomForestRegressor\n",
    "from bayes_opt import BayesianOptimization\n",
    "import pandas as pd\n",
    "\n",
    "def predict_next_period_volatility(df, prediction_range_hours, max_features_choice):\n",
    "    # 데이터셋 복사\n",
    "    data = df.copy()\n",
    "    \n",
    "    # 시간 인덱스 설정\n",
    "    data.index = pd.to_datetime(data.index)\n",
    "    \n",
    "    # 특징과 타겟 설정\n",
    "    X = data.drop(columns=['volatility']) \n",
    "    y = data['volatility']  # 타겟\n",
    "    \n",
    "    # 베이지안 옵티마이제이션을 위한 목적 함수 정의\n",
    "    def rf_cv(n_estimators, max_depth, min_samples_split, min_samples_leaf, max_leaf_nodes):\n",
    "        # Ensure the parameters are integers\n",
    "        n_estimators = int(n_estimators)\n",
    "        max_depth = int(max_depth)\n",
    "        min_samples_split = int(min_samples_split)\n",
    "        min_samples_leaf = int(min_samples_leaf)\n",
    "        max_leaf_nodes = int(max_leaf_nodes)\n",
    "\n",
    "        # 랜덤 포레스트 모델 생성\n",
    "        rf_model = RandomForestRegressor(\n",
    "            n_estimators=n_estimators,\n",
    "            max_depth=max_depth,\n",
    "            min_samples_split=min_samples_split,\n",
    "            min_samples_leaf=min_samples_leaf,\n",
    "            max_leaf_nodes=max_leaf_nodes,\n",
    "            max_features=max_features_choice,  # max_features를 선택된 값으로 설정\n",
    "            random_state=42\n",
    "        )\n",
    "\n",
    "        # 모델 학습\n",
    "        rf_model.fit(X, y)\n",
    "\n",
    "        # 마지막 prediction_range_hours만큼의 데이터를 사용하여 예측\n",
    "        X_predict = X.iloc[-prediction_range_hours:]\n",
    "        predicted_values = rf_model.predict(X_predict)\n",
    "\n",
    "        return -predicted_values.mean()  # 목적 함수 최소화\n",
    "\n",
    "    # 베이지안 옵티마이제이션을 위한 탐색 공간 설정\n",
    "    pbounds = {\n",
    "        'n_estimators': (50, 200),\n",
    "        'max_depth': (5, 15),\n",
    "        'min_samples_split': (2, 20),\n",
    "        'min_samples_leaf': (1, 10),\n",
    "        'max_leaf_nodes': (10, 100)   # 기본값은 None\n",
    "    }\n",
    "\n",
    "    # 베이지안 옵티마이제이션 수행\n",
    "    optimizer = BayesianOptimization(\n",
    "        f=rf_cv,\n",
    "        pbounds=pbounds,\n",
    "        random_state=42,\n",
    "        verbose=2\n",
    "    )\n",
    "\n",
    "    optimizer.maximize(init_points=5, n_iter=10)\n",
    "\n",
    "    # 최적의 하이퍼파라미터\n",
    "    best_params = optimizer.max['params']\n",
    "    best_params = {key: int(value) for key, value in best_params.items()}  # 정수형으로 변환\n",
    "\n",
    "    # 최적의 하이퍼파라미터로 랜덤 포레스트 모델 생성 및 학습\n",
    "    rf_model = RandomForestRegressor(**best_params, max_features=max_features_choice, random_state=42)\n",
    "    rf_model.fit(X, y)\n",
    "\n",
    "    # 마지막 prediction_range_hours만큼의 데이터를 사용하여 예측합니다.\n",
    "    X_predict = X.iloc[-prediction_range_hours:]\n",
    "    predicted_values = rf_model.predict(X_predict)\n",
    "    \n",
    "    # 모델 학습 및 예측값 생성\n",
    "    predicted_values, best_params = predict_next_period_volatility(df91, prediction_range_hours=73, max_features_choice='log2')\n",
    "\n",
    "    # 예측값과 실제값 가져오기\n",
    "    actual_values = df91[-73:]['volatility'].values\n",
    "\n",
    "    # MAPE 계산\n",
    "    mape = mean_absolute_percentage_error(actual_values, predicted_values)\n",
    "\n",
    "    # 출력\n",
    "    print(\"Best MAPE:\", mape)\n",
    "\n",
    "    return predicted_values, best_params\n"
   ]
  },
  {
   "cell_type": "code",
   "execution_count": 159,
   "id": "42043877-2181-407a-8d92-2c0b750ca90b",
   "metadata": {
    "tags": []
   },
   "outputs": [
    {
     "name": "stdout",
     "output_type": "stream",
     "text": [
      "|   iter    |  target   | max_depth | max_le... | min_sa... | min_sa... | n_esti... |\n",
      "-------------------------------------------------------------------------------------\n",
      "| \u001b[0m1        \u001b[0m | \u001b[0m-0.004176\u001b[0m | \u001b[0m8.745    \u001b[0m | \u001b[0m95.56    \u001b[0m | \u001b[0m7.588    \u001b[0m | \u001b[0m12.78    \u001b[0m | \u001b[0m73.4     \u001b[0m |\n",
      "| \u001b[0m2        \u001b[0m | \u001b[0m-0.004333\u001b[0m | \u001b[0m6.56     \u001b[0m | \u001b[0m15.23    \u001b[0m | \u001b[0m8.796    \u001b[0m | \u001b[0m12.82    \u001b[0m | \u001b[0m156.2    \u001b[0m |\n",
      "| \u001b[0m3        \u001b[0m | \u001b[0m-0.004364\u001b[0m | \u001b[0m5.206    \u001b[0m | \u001b[0m97.29    \u001b[0m | \u001b[0m8.492    \u001b[0m | \u001b[0m5.822    \u001b[0m | \u001b[0m77.27    \u001b[0m |\n",
      "| \u001b[0m4        \u001b[0m | \u001b[0m-0.004291\u001b[0m | \u001b[0m6.834    \u001b[0m | \u001b[0m37.38    \u001b[0m | \u001b[0m5.723    \u001b[0m | \u001b[0m9.775    \u001b[0m | \u001b[0m93.68    \u001b[0m |\n",
      "| \u001b[0m5        \u001b[0m | \u001b[0m-0.004284\u001b[0m | \u001b[0m11.12    \u001b[0m | \u001b[0m22.55    \u001b[0m | \u001b[0m3.629    \u001b[0m | \u001b[0m8.595    \u001b[0m | \u001b[0m118.4    \u001b[0m |\n",
      "| \u001b[0m6        \u001b[0m | \u001b[0m-0.004177\u001b[0m | \u001b[0m8.871    \u001b[0m | \u001b[0m72.2     \u001b[0m | \u001b[0m3.322    \u001b[0m | \u001b[0m16.98    \u001b[0m | \u001b[0m141.5    \u001b[0m |\n",
      "| \u001b[0m7        \u001b[0m | \u001b[0m-0.004315\u001b[0m | \u001b[0m14.06    \u001b[0m | \u001b[0m19.48    \u001b[0m | \u001b[0m2.325    \u001b[0m | \u001b[0m18.66    \u001b[0m | \u001b[0m165.6    \u001b[0m |\n",
      "| \u001b[0m8        \u001b[0m | \u001b[0m-0.00435 \u001b[0m | \u001b[0m10.84    \u001b[0m | \u001b[0m14.3     \u001b[0m | \u001b[0m1.322    \u001b[0m | \u001b[0m3.881    \u001b[0m | \u001b[0m84.98    \u001b[0m |\n",
      "| \u001b[95m9        \u001b[0m | \u001b[95m-0.004133\u001b[0m | \u001b[95m9.686    \u001b[0m | \u001b[95m99.37    \u001b[0m | \u001b[95m9.297    \u001b[0m | \u001b[95m9.773    \u001b[0m | \u001b[95m97.33    \u001b[0m |\n",
      "| \u001b[0m10       \u001b[0m | \u001b[0m-0.004277\u001b[0m | \u001b[0m13.08    \u001b[0m | \u001b[0m25.82    \u001b[0m | \u001b[0m3.851    \u001b[0m | \u001b[0m6.839    \u001b[0m | \u001b[0m158.9    \u001b[0m |\n",
      "| \u001b[0m11       \u001b[0m | \u001b[0m-0.004221\u001b[0m | \u001b[0m9.913    \u001b[0m | \u001b[0m33.01    \u001b[0m | \u001b[0m7.617    \u001b[0m | \u001b[0m12.72    \u001b[0m | \u001b[0m169.7    \u001b[0m |\n",
      "| \u001b[0m12       \u001b[0m | \u001b[0m-0.004378\u001b[0m | \u001b[0m5.755    \u001b[0m | \u001b[0m83.07    \u001b[0m | \u001b[0m5.2      \u001b[0m | \u001b[0m7.504    \u001b[0m | \u001b[0m94.81    \u001b[0m |\n",
      "| \u001b[0m13       \u001b[0m | \u001b[0m-0.004341\u001b[0m | \u001b[0m5.825    \u001b[0m | \u001b[0m91.34    \u001b[0m | \u001b[0m6.344    \u001b[0m | \u001b[0m15.5     \u001b[0m | \u001b[0m162.2    \u001b[0m |\n",
      "| \u001b[95m14       \u001b[0m | \u001b[95m-0.004125\u001b[0m | \u001b[95m12.28    \u001b[0m | \u001b[95m70.07    \u001b[0m | \u001b[95m9.951    \u001b[0m | \u001b[95m9.319    \u001b[0m | \u001b[95m130.8    \u001b[0m |\n",
      "| \u001b[0m15       \u001b[0m | \u001b[0m-0.004236\u001b[0m | \u001b[0m6.336    \u001b[0m | \u001b[0m76.35    \u001b[0m | \u001b[0m3.712    \u001b[0m | \u001b[0m5.412    \u001b[0m | \u001b[0m84.03    \u001b[0m |\n",
      "=====================================================================================\n",
      "Predicted values: [0.00462334 0.00463384 0.00430403 0.00422599 0.00401095 0.00412953\n",
      " 0.00385808 0.0038476  0.00387739 0.00363891 0.00349668 0.00364425\n",
      " 0.00376481 0.00374218 0.0035987  0.00385828 0.00366806 0.00373793\n",
      " 0.00396396 0.00370854 0.00395528 0.00373952 0.0036942  0.00360057\n",
      " 0.00359972 0.00357743 0.00394063 0.00361056 0.00356646 0.00337675\n",
      " 0.00337641 0.00337952 0.00343577 0.00345544 0.00411896 0.00476707\n",
      " 0.00489175 0.00490769 0.00519155 0.00521234 0.00563785 0.00549425\n",
      " 0.00566239 0.0057095  0.0058089  0.00589925 0.00586128 0.00594744\n",
      " 0.00574392 0.00564241 0.00549131 0.0053907  0.00534096 0.00510719\n",
      " 0.00478959 0.00463099 0.00447412 0.00443976 0.00402592 0.00360867\n",
      " 0.00342857 0.00319307 0.00283971 0.00293833 0.00280601 0.002625\n",
      " 0.00254561 0.00282253 0.00287088 0.0028977  0.00287325 0.00272602]\n",
      "Best hyperparameters: {'max_depth': 12, 'max_leaf_nodes': 70, 'min_samples_leaf': 9, 'min_samples_split': 9, 'n_estimators': 130}\n"
     ]
    }
   ],
   "source": [
    "predicted_values, best_params = predict_next_period_volatility(df91, prediction_range_hours=72, max_features_choice='sqrt')\n",
    "print(\"Predicted values:\", predicted_values)\n",
    "print(\"Best hyperparameters:\", best_params)"
   ]
  },
  {
   "cell_type": "markdown",
   "id": "28063547-10c0-4c9b-857a-69d398f36b98",
   "metadata": {},
   "source": [
    "### 2. Market data(ohlcv)"
   ]
  },
  {
   "cell_type": "code",
   "execution_count": 111,
   "id": "d2ce1c8a-05bb-45b6-ae21-4916101f983b",
   "metadata": {
    "tags": []
   },
   "outputs": [],
   "source": [
    "test = pd.read_csv('../data/output5.csv')"
   ]
  },
  {
   "cell_type": "code",
   "execution_count": 112,
   "id": "f39ef9f0-3122-4c11-a6cd-915a8616d30e",
   "metadata": {
    "tags": []
   },
   "outputs": [
    {
     "data": {
      "text/html": [
       "<div>\n",
       "<style scoped>\n",
       "    .dataframe tbody tr th:only-of-type {\n",
       "        vertical-align: middle;\n",
       "    }\n",
       "\n",
       "    .dataframe tbody tr th {\n",
       "        vertical-align: top;\n",
       "    }\n",
       "\n",
       "    .dataframe thead th {\n",
       "        text-align: right;\n",
       "    }\n",
       "</style>\n",
       "<table border=\"1\" class=\"dataframe\">\n",
       "  <thead>\n",
       "    <tr style=\"text-align: right;\">\n",
       "      <th></th>\n",
       "      <th>Timestamp</th>\n",
       "      <th>Open</th>\n",
       "      <th>High</th>\n",
       "      <th>Low</th>\n",
       "      <th>Close</th>\n",
       "      <th>Volume</th>\n",
       "    </tr>\n",
       "  </thead>\n",
       "  <tbody>\n",
       "    <tr>\n",
       "      <th>0</th>\n",
       "      <td>1706400000000</td>\n",
       "      <td>42122.13</td>\n",
       "      <td>42148.34</td>\n",
       "      <td>41933.99</td>\n",
       "      <td>41995.81</td>\n",
       "      <td>98.03302</td>\n",
       "    </tr>\n",
       "    <tr>\n",
       "      <th>1</th>\n",
       "      <td>1706403600000</td>\n",
       "      <td>41987.63</td>\n",
       "      <td>42240.84</td>\n",
       "      <td>41987.54</td>\n",
       "      <td>42102.15</td>\n",
       "      <td>92.51710</td>\n",
       "    </tr>\n",
       "    <tr>\n",
       "      <th>2</th>\n",
       "      <td>1706407200000</td>\n",
       "      <td>42097.97</td>\n",
       "      <td>42180.23</td>\n",
       "      <td>42091.81</td>\n",
       "      <td>42107.45</td>\n",
       "      <td>89.52966</td>\n",
       "    </tr>\n",
       "    <tr>\n",
       "      <th>3</th>\n",
       "      <td>1706410800000</td>\n",
       "      <td>42095.18</td>\n",
       "      <td>42240.99</td>\n",
       "      <td>42094.50</td>\n",
       "      <td>42230.48</td>\n",
       "      <td>92.44950</td>\n",
       "    </tr>\n",
       "    <tr>\n",
       "      <th>4</th>\n",
       "      <td>1706414400000</td>\n",
       "      <td>42230.28</td>\n",
       "      <td>42768.16</td>\n",
       "      <td>42220.78</td>\n",
       "      <td>42724.83</td>\n",
       "      <td>92.96013</td>\n",
       "    </tr>\n",
       "    <tr>\n",
       "      <th>...</th>\n",
       "      <td>...</td>\n",
       "      <td>...</td>\n",
       "      <td>...</td>\n",
       "      <td>...</td>\n",
       "      <td>...</td>\n",
       "      <td>...</td>\n",
       "    </tr>\n",
       "    <tr>\n",
       "      <th>68</th>\n",
       "      <td>1706644800000</td>\n",
       "      <td>43541.47</td>\n",
       "      <td>43764.07</td>\n",
       "      <td>43481.74</td>\n",
       "      <td>43554.90</td>\n",
       "      <td>93.59847</td>\n",
       "    </tr>\n",
       "    <tr>\n",
       "      <th>69</th>\n",
       "      <td>1706648400000</td>\n",
       "      <td>43563.41</td>\n",
       "      <td>43696.51</td>\n",
       "      <td>43481.08</td>\n",
       "      <td>43548.06</td>\n",
       "      <td>93.77550</td>\n",
       "    </tr>\n",
       "    <tr>\n",
       "      <th>70</th>\n",
       "      <td>1706652000000</td>\n",
       "      <td>43547.92</td>\n",
       "      <td>43582.35</td>\n",
       "      <td>43321.31</td>\n",
       "      <td>43331.38</td>\n",
       "      <td>87.96784</td>\n",
       "    </tr>\n",
       "    <tr>\n",
       "      <th>71</th>\n",
       "      <td>1706655600000</td>\n",
       "      <td>43316.58</td>\n",
       "      <td>43357.93</td>\n",
       "      <td>42683.71</td>\n",
       "      <td>42941.17</td>\n",
       "      <td>95.87972</td>\n",
       "    </tr>\n",
       "    <tr>\n",
       "      <th>72</th>\n",
       "      <td>1706659200000</td>\n",
       "      <td>42920.28</td>\n",
       "      <td>43111.00</td>\n",
       "      <td>42852.56</td>\n",
       "      <td>42932.98</td>\n",
       "      <td>87.90577</td>\n",
       "    </tr>\n",
       "  </tbody>\n",
       "</table>\n",
       "<p>73 rows × 6 columns</p>\n",
       "</div>"
      ],
      "text/plain": [
       "        Timestamp      Open      High       Low     Close    Volume\n",
       "0   1706400000000  42122.13  42148.34  41933.99  41995.81  98.03302\n",
       "1   1706403600000  41987.63  42240.84  41987.54  42102.15  92.51710\n",
       "2   1706407200000  42097.97  42180.23  42091.81  42107.45  89.52966\n",
       "3   1706410800000  42095.18  42240.99  42094.50  42230.48  92.44950\n",
       "4   1706414400000  42230.28  42768.16  42220.78  42724.83  92.96013\n",
       "..            ...       ...       ...       ...       ...       ...\n",
       "68  1706644800000  43541.47  43764.07  43481.74  43554.90  93.59847\n",
       "69  1706648400000  43563.41  43696.51  43481.08  43548.06  93.77550\n",
       "70  1706652000000  43547.92  43582.35  43321.31  43331.38  87.96784\n",
       "71  1706655600000  43316.58  43357.93  42683.71  42941.17  95.87972\n",
       "72  1706659200000  42920.28  43111.00  42852.56  42932.98  87.90577\n",
       "\n",
       "[73 rows x 6 columns]"
      ]
     },
     "execution_count": 112,
     "metadata": {},
     "output_type": "execute_result"
    }
   ],
   "source": [
    "test"
   ]
  },
  {
   "cell_type": "code",
   "execution_count": 113,
   "id": "ec9b34e6-adbb-423a-99ca-01eede7a07bc",
   "metadata": {
    "tags": []
   },
   "outputs": [
    {
     "data": {
      "text/plain": [
       "0    2024-01-28 00:00:00\n",
       "1    2024-01-28 01:00:00\n",
       "2    2024-01-28 02:00:00\n",
       "3    2024-01-28 03:00:00\n",
       "4    2024-01-28 04:00:00\n",
       "             ...        \n",
       "68   2024-01-30 20:00:00\n",
       "69   2024-01-30 21:00:00\n",
       "70   2024-01-30 22:00:00\n",
       "71   2024-01-30 23:00:00\n",
       "72   2024-01-31 00:00:00\n",
       "Name: Timestamp, Length: 73, dtype: datetime64[ns]"
      ]
     },
     "execution_count": 113,
     "metadata": {},
     "output_type": "execute_result"
    }
   ],
   "source": [
    "# timestamp 컬럼을 datetime으로 변환\n",
    "pd.to_datetime(test['Timestamp'], unit='ms')"
   ]
  },
  {
   "cell_type": "code",
   "execution_count": 114,
   "id": "832a1be5-fcbf-4da3-89fa-c91d3e52ab86",
   "metadata": {
    "tags": []
   },
   "outputs": [],
   "source": [
    "def calculate_volatility(data, window=20):\n",
    "    \"\"\"\n",
    "    Calculate the rolling volatility using the standard deviation of returns.\n",
    "    :param data: DataFrame with OHLCV data\n",
    "    :param window: The number of periods to use for calculating the standard deviation\n",
    "    :return: DataFrame with the volatility values\n",
    "    \"\"\"\n",
    "\n",
    "    # Calculate daily returns\n",
    "    data['returns'] = data['Close'].pct_change()\n",
    "\n",
    "    # Calculate the rolling standard deviation of returns\n",
    "    data['volatility'] = data['returns'].rolling(window=window).std()\n",
    "\n",
    "    return data"
   ]
  },
  {
   "cell_type": "code",
   "execution_count": 115,
   "id": "b8bedb9f-d440-4094-9734-a5ff9a2d09e5",
   "metadata": {
    "tags": []
   },
   "outputs": [
    {
     "data": {
      "text/html": [
       "<div>\n",
       "<style scoped>\n",
       "    .dataframe tbody tr th:only-of-type {\n",
       "        vertical-align: middle;\n",
       "    }\n",
       "\n",
       "    .dataframe tbody tr th {\n",
       "        vertical-align: top;\n",
       "    }\n",
       "\n",
       "    .dataframe thead th {\n",
       "        text-align: right;\n",
       "    }\n",
       "</style>\n",
       "<table border=\"1\" class=\"dataframe\">\n",
       "  <thead>\n",
       "    <tr style=\"text-align: right;\">\n",
       "      <th></th>\n",
       "      <th>Timestamp</th>\n",
       "      <th>Open</th>\n",
       "      <th>High</th>\n",
       "      <th>Low</th>\n",
       "      <th>Close</th>\n",
       "      <th>Volume</th>\n",
       "      <th>returns</th>\n",
       "      <th>volatility</th>\n",
       "    </tr>\n",
       "  </thead>\n",
       "  <tbody>\n",
       "    <tr>\n",
       "      <th>0</th>\n",
       "      <td>1706400000000</td>\n",
       "      <td>42122.13</td>\n",
       "      <td>42148.34</td>\n",
       "      <td>41933.99</td>\n",
       "      <td>41995.81</td>\n",
       "      <td>98.03302</td>\n",
       "      <td>NaN</td>\n",
       "      <td>NaN</td>\n",
       "    </tr>\n",
       "    <tr>\n",
       "      <th>1</th>\n",
       "      <td>1706403600000</td>\n",
       "      <td>41987.63</td>\n",
       "      <td>42240.84</td>\n",
       "      <td>41987.54</td>\n",
       "      <td>42102.15</td>\n",
       "      <td>92.51710</td>\n",
       "      <td>0.002532</td>\n",
       "      <td>NaN</td>\n",
       "    </tr>\n",
       "    <tr>\n",
       "      <th>2</th>\n",
       "      <td>1706407200000</td>\n",
       "      <td>42097.97</td>\n",
       "      <td>42180.23</td>\n",
       "      <td>42091.81</td>\n",
       "      <td>42107.45</td>\n",
       "      <td>89.52966</td>\n",
       "      <td>0.000126</td>\n",
       "      <td>NaN</td>\n",
       "    </tr>\n",
       "    <tr>\n",
       "      <th>3</th>\n",
       "      <td>1706410800000</td>\n",
       "      <td>42095.18</td>\n",
       "      <td>42240.99</td>\n",
       "      <td>42094.50</td>\n",
       "      <td>42230.48</td>\n",
       "      <td>92.44950</td>\n",
       "      <td>0.002922</td>\n",
       "      <td>NaN</td>\n",
       "    </tr>\n",
       "    <tr>\n",
       "      <th>4</th>\n",
       "      <td>1706414400000</td>\n",
       "      <td>42230.28</td>\n",
       "      <td>42768.16</td>\n",
       "      <td>42220.78</td>\n",
       "      <td>42724.83</td>\n",
       "      <td>92.96013</td>\n",
       "      <td>0.011706</td>\n",
       "      <td>NaN</td>\n",
       "    </tr>\n",
       "    <tr>\n",
       "      <th>...</th>\n",
       "      <td>...</td>\n",
       "      <td>...</td>\n",
       "      <td>...</td>\n",
       "      <td>...</td>\n",
       "      <td>...</td>\n",
       "      <td>...</td>\n",
       "      <td>...</td>\n",
       "      <td>...</td>\n",
       "    </tr>\n",
       "    <tr>\n",
       "      <th>68</th>\n",
       "      <td>1706644800000</td>\n",
       "      <td>43541.47</td>\n",
       "      <td>43764.07</td>\n",
       "      <td>43481.74</td>\n",
       "      <td>43554.90</td>\n",
       "      <td>93.59847</td>\n",
       "      <td>0.000014</td>\n",
       "      <td>0.002838</td>\n",
       "    </tr>\n",
       "    <tr>\n",
       "      <th>69</th>\n",
       "      <td>1706648400000</td>\n",
       "      <td>43563.41</td>\n",
       "      <td>43696.51</td>\n",
       "      <td>43481.08</td>\n",
       "      <td>43548.06</td>\n",
       "      <td>93.77550</td>\n",
       "      <td>-0.000157</td>\n",
       "      <td>0.002474</td>\n",
       "    </tr>\n",
       "    <tr>\n",
       "      <th>70</th>\n",
       "      <td>1706652000000</td>\n",
       "      <td>43547.92</td>\n",
       "      <td>43582.35</td>\n",
       "      <td>43321.31</td>\n",
       "      <td>43331.38</td>\n",
       "      <td>87.96784</td>\n",
       "      <td>-0.004976</td>\n",
       "      <td>0.002556</td>\n",
       "    </tr>\n",
       "    <tr>\n",
       "      <th>71</th>\n",
       "      <td>1706655600000</td>\n",
       "      <td>43316.58</td>\n",
       "      <td>43357.93</td>\n",
       "      <td>42683.71</td>\n",
       "      <td>42941.17</td>\n",
       "      <td>95.87972</td>\n",
       "      <td>-0.009005</td>\n",
       "      <td>0.003197</td>\n",
       "    </tr>\n",
       "    <tr>\n",
       "      <th>72</th>\n",
       "      <td>1706659200000</td>\n",
       "      <td>42920.28</td>\n",
       "      <td>43111.00</td>\n",
       "      <td>42852.56</td>\n",
       "      <td>42932.98</td>\n",
       "      <td>87.90577</td>\n",
       "      <td>-0.000191</td>\n",
       "      <td>0.003175</td>\n",
       "    </tr>\n",
       "  </tbody>\n",
       "</table>\n",
       "<p>73 rows × 8 columns</p>\n",
       "</div>"
      ],
      "text/plain": [
       "        Timestamp      Open      High       Low     Close    Volume   returns  \\\n",
       "0   1706400000000  42122.13  42148.34  41933.99  41995.81  98.03302       NaN   \n",
       "1   1706403600000  41987.63  42240.84  41987.54  42102.15  92.51710  0.002532   \n",
       "2   1706407200000  42097.97  42180.23  42091.81  42107.45  89.52966  0.000126   \n",
       "3   1706410800000  42095.18  42240.99  42094.50  42230.48  92.44950  0.002922   \n",
       "4   1706414400000  42230.28  42768.16  42220.78  42724.83  92.96013  0.011706   \n",
       "..            ...       ...       ...       ...       ...       ...       ...   \n",
       "68  1706644800000  43541.47  43764.07  43481.74  43554.90  93.59847  0.000014   \n",
       "69  1706648400000  43563.41  43696.51  43481.08  43548.06  93.77550 -0.000157   \n",
       "70  1706652000000  43547.92  43582.35  43321.31  43331.38  87.96784 -0.004976   \n",
       "71  1706655600000  43316.58  43357.93  42683.71  42941.17  95.87972 -0.009005   \n",
       "72  1706659200000  42920.28  43111.00  42852.56  42932.98  87.90577 -0.000191   \n",
       "\n",
       "    volatility  \n",
       "0          NaN  \n",
       "1          NaN  \n",
       "2          NaN  \n",
       "3          NaN  \n",
       "4          NaN  \n",
       "..         ...  \n",
       "68    0.002838  \n",
       "69    0.002474  \n",
       "70    0.002556  \n",
       "71    0.003197  \n",
       "72    0.003175  \n",
       "\n",
       "[73 rows x 8 columns]"
      ]
     },
     "execution_count": 115,
     "metadata": {},
     "output_type": "execute_result"
    }
   ],
   "source": [
    "calculate_volatility(test)"
   ]
  },
  {
   "cell_type": "code",
   "execution_count": 116,
   "id": "a3a69e36-9c45-47fc-9f28-917996138774",
   "metadata": {
    "tags": []
   },
   "outputs": [],
   "source": [
    "volatility_values = test['volatility'].values"
   ]
  },
  {
   "cell_type": "code",
   "execution_count": 117,
   "id": "aa3bd515-17ac-4ac6-941d-c8dc73646259",
   "metadata": {
    "tags": []
   },
   "outputs": [
    {
     "data": {
      "text/plain": [
       "array([       nan,        nan,        nan,        nan,        nan,\n",
       "              nan,        nan,        nan,        nan,        nan,\n",
       "              nan,        nan,        nan,        nan,        nan,\n",
       "              nan,        nan,        nan,        nan,        nan,\n",
       "       0.00383486, 0.00379335, 0.00386   , 0.00395661, 0.00279125,\n",
       "       0.0029479 , 0.00290073, 0.00296158, 0.00294961, 0.00291741,\n",
       "       0.00291595, 0.00290467, 0.00293984, 0.00310177, 0.00306164,\n",
       "       0.00307716, 0.00315799, 0.00310818, 0.00293988, 0.00459708,\n",
       "       0.00529905, 0.00548493, 0.00537989, 0.00534376, 0.00532565,\n",
       "       0.00527156, 0.00530888, 0.0053522 , 0.00536684, 0.0054403 ,\n",
       "       0.00546002, 0.00543433, 0.00550819, 0.00550584, 0.00551804,\n",
       "       0.00548311, 0.00536375, 0.00535579, 0.00532997, 0.00401113,\n",
       "       0.00296199, 0.00279106, 0.00290377, 0.00294731, 0.00292832,\n",
       "       0.00298262, 0.00295929, 0.00294658, 0.00283768, 0.00247445,\n",
       "       0.00255642, 0.00319703, 0.00317506])"
      ]
     },
     "execution_count": 117,
     "metadata": {},
     "output_type": "execute_result"
    }
   ],
   "source": [
    "volatility_values"
   ]
  },
  {
   "cell_type": "code",
   "execution_count": 118,
   "id": "bbc83ca8-9e86-4ec5-8f2a-0a36abf87dd3",
   "metadata": {
    "tags": []
   },
   "outputs": [],
   "source": [
    "predicted_values_test = predicted_values[20:]"
   ]
  },
  {
   "cell_type": "markdown",
   "id": "6c91640c-658a-46c3-9151-885bc9a7a146",
   "metadata": {
    "tags": []
   },
   "source": [
    "- max_features : sqrt"
   ]
  },
  {
   "cell_type": "code",
   "execution_count": 119,
   "id": "13b5156b-1b7f-4efe-ad13-9892db5f8606",
   "metadata": {
    "tags": []
   },
   "outputs": [
    {
     "data": {
      "text/plain": [
       "0.15541190929949303"
      ]
     },
     "execution_count": 119,
     "metadata": {},
     "output_type": "execute_result"
    }
   ],
   "source": [
    "from sklearn.metrics import mean_absolute_percentage_error\n",
    "mean_absolute_percentage_error(volatility_values[20:72], predicted_values_test)"
   ]
  },
  {
   "cell_type": "markdown",
   "id": "574f5825-e912-4caf-bd48-cd9c3d430f6e",
   "metadata": {
    "tags": []
   },
   "source": [
    "- max_features : log2 > log2 채택"
   ]
  },
  {
   "cell_type": "code",
   "execution_count": 160,
   "id": "13c63452-abb6-4caa-85fe-30e183edb047",
   "metadata": {
    "tags": []
   },
   "outputs": [
    {
     "data": {
      "text/plain": [
       "0.14142103943250775"
      ]
     },
     "execution_count": 160,
     "metadata": {},
     "output_type": "execute_result"
    }
   ],
   "source": [
    "from sklearn.metrics import mean_absolute_percentage_error\n",
    "mean_absolute_percentage_error(volatility_values[20:], predicted_values_2[20:])"
   ]
  },
  {
   "cell_type": "markdown",
   "id": "286ca99e-5e51-468e-ad8e-d94d8afca99a",
   "metadata": {},
   "source": [
    "### 3.test code_1\n",
    "- n_estimators, max_depth, min_samples_split, min_samples_leaf, max_leaf_nodes\n",
    "- max_features 입력값 비교"
   ]
  },
  {
   "cell_type": "code",
   "execution_count": 166,
   "id": "77976898-e19d-4e25-82d5-3196c7bb58ca",
   "metadata": {
    "tags": []
   },
   "outputs": [],
   "source": [
    "from sklearn.ensemble import RandomForestRegressor\n",
    "from bayes_opt import BayesianOptimization\n",
    "import pandas as pd\n",
    "from sklearn.metrics import mean_absolute_percentage_error\n",
    "\n",
    "def predict_next_period_volatility(df, prediction_range_hours, max_features_choice):\n",
    "    # 데이터셋 복사\n",
    "    data = df.copy()\n",
    "    \n",
    "    # 시간 인덱스 설정\n",
    "    data.index = pd.to_datetime(data.index)\n",
    "    \n",
    "    # 특징과 타겟 설정\n",
    "    X = data.drop(columns=['volatility']) \n",
    "    y = data['volatility']  # 타겟\n",
    "    \n",
    "    # 베이지안 옵티마이제이션을 위한 목적 함수 정의\n",
    "    def rf_cv(n_estimators, max_depth, min_samples_split, min_samples_leaf, max_leaf_nodes):\n",
    "        # Ensure the parameters are integers\n",
    "        n_estimators = int(n_estimators)\n",
    "        max_depth = int(max_depth)\n",
    "        min_samples_split = int(min_samples_split)\n",
    "        min_samples_leaf = int(min_samples_leaf)\n",
    "        max_leaf_nodes = int(max_leaf_nodes)\n",
    "\n",
    "        # 랜덤 포레스트 모델 생성\n",
    "        rf_model = RandomForestRegressor(\n",
    "            n_estimators=n_estimators,\n",
    "            max_depth=max_depth,\n",
    "            min_samples_split=min_samples_split,\n",
    "            min_samples_leaf=min_samples_leaf,\n",
    "            max_leaf_nodes=max_leaf_nodes,\n",
    "            max_features=max_features_choice,  # max_features를 선택된 값으로 설정\n",
    "            random_state=42\n",
    "        )\n",
    "\n",
    "        # 모델 학습\n",
    "        rf_model.fit(X, y)\n",
    "\n",
    "        # 마지막 prediction_range_hours만큼의 데이터를 사용하여 예측\n",
    "        X_predict = X.iloc[-prediction_range_hours:]\n",
    "        predicted_values = rf_model.predict(X_predict)\n",
    "\n",
    "        return -predicted_values.mean()  # 목적 함수 최소화\n",
    "\n",
    "    # 베이지안 옵티마이제이션을 위한 탐색 공간 설정\n",
    "    pbounds = {\n",
    "        'n_estimators': (50, 200),\n",
    "        'max_depth': (5, 15),\n",
    "        'min_samples_split': (2, 20),\n",
    "        'min_samples_leaf': (1, 10),\n",
    "        'max_leaf_nodes': (10, 100)   # 기본값은 None\n",
    "    }\n",
    "\n",
    "    # 베이지안 옵티마이제이션 수행\n",
    "    optimizer = BayesianOptimization(\n",
    "        f=rf_cv,\n",
    "        pbounds=pbounds,\n",
    "        random_state=42,\n",
    "        verbose=2\n",
    "    )\n",
    "\n",
    "    optimizer.maximize(init_points=5, n_iter=10)\n",
    "\n",
    "    # 최적의 하이퍼파라미터\n",
    "    best_params = optimizer.max['params']\n",
    "    best_params = {key: int(value) for key, value in best_params.items()}  # 정수형으로 변환\n",
    "\n",
    "    # 최적의 하이퍼파라미터로 랜덤 포레스트 모델 생성 및 학습\n",
    "    rf_model = RandomForestRegressor(**best_params, max_features=max_features_choice, random_state=42)\n",
    "    rf_model.fit(X, y)\n",
    "\n",
    "    # 마지막 prediction_range_hours만큼의 데이터를 사용하여 예측합니다.\n",
    "    X_predict = X.iloc[-prediction_range_hours:]\n",
    "    predicted_values = rf_model.predict(X_predict)\n",
    "    \n",
    "    # 예측값과 실제값 가져오기\n",
    "    actual_values = df[-prediction_range_hours:]['volatility'].values\n",
    "\n",
    "    # MAPE 계산\n",
    "    mape = mean_absolute_percentage_error(actual_values, predicted_values)\n",
    "\n",
    "    # 출력\n",
    "    print(\"Best MAPE:\", mape)\n",
    "    \n",
    "    return predicted_values, best_params\n",
    "\n",
    "# 사용 예시\n",
    "# predicted_values, best_params = predict_next_period_volatility(df91, prediction_range_hours=73, max_features_choice='log2')\n",
    "# print(\"Predicted values:\", predicted_values)\n",
    "# print(\"Best hyperparameters:\", best_params)\n"
   ]
  },
  {
   "cell_type": "code",
   "execution_count": 164,
   "id": "319c3411-0e10-4d10-bb9e-a784470b17a8",
   "metadata": {
    "tags": []
   },
   "outputs": [
    {
     "name": "stdout",
     "output_type": "stream",
     "text": [
      "|   iter    |  target   | max_depth | max_le... | min_sa... | min_sa... | n_esti... |\n",
      "-------------------------------------------------------------------------------------\n",
      "| \u001b[0m1        \u001b[0m | \u001b[0m-0.004185\u001b[0m | \u001b[0m8.745    \u001b[0m | \u001b[0m95.56    \u001b[0m | \u001b[0m7.588    \u001b[0m | \u001b[0m12.78    \u001b[0m | \u001b[0m73.4     \u001b[0m |\n",
      "| \u001b[0m2        \u001b[0m | \u001b[0m-0.004341\u001b[0m | \u001b[0m6.56     \u001b[0m | \u001b[0m15.23    \u001b[0m | \u001b[0m8.796    \u001b[0m | \u001b[0m12.82    \u001b[0m | \u001b[0m156.2    \u001b[0m |\n",
      "| \u001b[0m3        \u001b[0m | \u001b[0m-0.004371\u001b[0m | \u001b[0m5.206    \u001b[0m | \u001b[0m97.29    \u001b[0m | \u001b[0m8.492    \u001b[0m | \u001b[0m5.822    \u001b[0m | \u001b[0m77.27    \u001b[0m |\n",
      "| \u001b[0m4        \u001b[0m | \u001b[0m-0.004299\u001b[0m | \u001b[0m6.834    \u001b[0m | \u001b[0m37.38    \u001b[0m | \u001b[0m5.723    \u001b[0m | \u001b[0m9.775    \u001b[0m | \u001b[0m93.68    \u001b[0m |\n",
      "| \u001b[0m5        \u001b[0m | \u001b[0m-0.004291\u001b[0m | \u001b[0m11.12    \u001b[0m | \u001b[0m22.55    \u001b[0m | \u001b[0m3.629    \u001b[0m | \u001b[0m8.595    \u001b[0m | \u001b[0m118.4    \u001b[0m |\n",
      "| \u001b[0m6        \u001b[0m | \u001b[0m-0.004186\u001b[0m | \u001b[0m8.871    \u001b[0m | \u001b[0m72.2     \u001b[0m | \u001b[0m3.322    \u001b[0m | \u001b[0m16.98    \u001b[0m | \u001b[0m141.5    \u001b[0m |\n",
      "| \u001b[0m7        \u001b[0m | \u001b[0m-0.004324\u001b[0m | \u001b[0m14.06    \u001b[0m | \u001b[0m19.48    \u001b[0m | \u001b[0m2.325    \u001b[0m | \u001b[0m18.66    \u001b[0m | \u001b[0m165.6    \u001b[0m |\n",
      "| \u001b[0m8        \u001b[0m | \u001b[0m-0.004356\u001b[0m | \u001b[0m10.84    \u001b[0m | \u001b[0m14.3     \u001b[0m | \u001b[0m1.322    \u001b[0m | \u001b[0m3.881    \u001b[0m | \u001b[0m84.98    \u001b[0m |\n",
      "| \u001b[95m9        \u001b[0m | \u001b[95m-0.004142\u001b[0m | \u001b[95m9.686    \u001b[0m | \u001b[95m99.37    \u001b[0m | \u001b[95m9.297    \u001b[0m | \u001b[95m9.773    \u001b[0m | \u001b[95m97.33    \u001b[0m |\n",
      "| \u001b[0m10       \u001b[0m | \u001b[0m-0.004286\u001b[0m | \u001b[0m13.08    \u001b[0m | \u001b[0m25.82    \u001b[0m | \u001b[0m3.851    \u001b[0m | \u001b[0m6.839    \u001b[0m | \u001b[0m158.9    \u001b[0m |\n",
      "| \u001b[0m11       \u001b[0m | \u001b[0m-0.004231\u001b[0m | \u001b[0m9.913    \u001b[0m | \u001b[0m33.01    \u001b[0m | \u001b[0m7.617    \u001b[0m | \u001b[0m12.72    \u001b[0m | \u001b[0m169.7    \u001b[0m |\n",
      "| \u001b[0m12       \u001b[0m | \u001b[0m-0.004385\u001b[0m | \u001b[0m5.755    \u001b[0m | \u001b[0m83.07    \u001b[0m | \u001b[0m5.2      \u001b[0m | \u001b[0m7.504    \u001b[0m | \u001b[0m94.81    \u001b[0m |\n",
      "| \u001b[0m13       \u001b[0m | \u001b[0m-0.004349\u001b[0m | \u001b[0m5.825    \u001b[0m | \u001b[0m91.34    \u001b[0m | \u001b[0m6.344    \u001b[0m | \u001b[0m15.5     \u001b[0m | \u001b[0m162.2    \u001b[0m |\n",
      "| \u001b[95m14       \u001b[0m | \u001b[95m-0.004133\u001b[0m | \u001b[95m12.28    \u001b[0m | \u001b[95m70.07    \u001b[0m | \u001b[95m9.951    \u001b[0m | \u001b[95m9.319    \u001b[0m | \u001b[95m130.8    \u001b[0m |\n",
      "| \u001b[0m15       \u001b[0m | \u001b[0m-0.004245\u001b[0m | \u001b[0m6.336    \u001b[0m | \u001b[0m76.35    \u001b[0m | \u001b[0m3.712    \u001b[0m | \u001b[0m5.412    \u001b[0m | \u001b[0m84.03    \u001b[0m |\n",
      "=====================================================================================\n",
      "Best MAPE: 0.15377095765316812\n",
      "Predicted values: [0.00473244 0.00462334 0.00463384 0.00430403 0.00422599 0.00401095\n",
      " 0.00412953 0.00385808 0.0038476  0.00387739 0.00363891 0.00349668\n",
      " 0.00364425 0.00376481 0.00374218 0.0035987  0.00385828 0.00366806\n",
      " 0.00373793 0.00396396 0.00370854 0.00395528 0.00373952 0.0036942\n",
      " 0.00360057 0.00359972 0.00357743 0.00394063 0.00361056 0.00356646\n",
      " 0.00337675 0.00337641 0.00337952 0.00343577 0.00345544 0.00411896\n",
      " 0.00476707 0.00489175 0.00490769 0.00519155 0.00521234 0.00563785\n",
      " 0.00549425 0.00566239 0.0057095  0.0058089  0.00589925 0.00586128\n",
      " 0.00594744 0.00574392 0.00564241 0.00549131 0.0053907  0.00534096\n",
      " 0.00510719 0.00478959 0.00463099 0.00447412 0.00443976 0.00402592\n",
      " 0.00360867 0.00342857 0.00319307 0.00283971 0.00293833 0.00280601\n",
      " 0.002625   0.00254561 0.00282253 0.00287088 0.0028977  0.00287325\n",
      " 0.00272602]\n",
      "Best hyperparameters: {'max_depth': 12, 'max_leaf_nodes': 70, 'min_samples_leaf': 9, 'min_samples_split': 9, 'n_estimators': 130}\n"
     ]
    }
   ],
   "source": [
    "predicted_values, best_params = predict_next_period_volatility(df91, prediction_range_hours=73, max_features_choice='log2')\n",
    "print(\"Predicted values:\", predicted_values)\n",
    "print(\"Best hyperparameters:\", best_params)"
   ]
  },
  {
   "cell_type": "code",
   "execution_count": 165,
   "id": "657ac0eb-06dc-41af-92d1-ef2159769529",
   "metadata": {
    "tags": []
   },
   "outputs": [
    {
     "data": {
      "text/plain": [
       "0.14142103943250775"
      ]
     },
     "execution_count": 165,
     "metadata": {},
     "output_type": "execute_result"
    }
   ],
   "source": [
    "mean_absolute_percentage_error(volatility_values[20:], predicted_values[20:])"
   ]
  },
  {
   "cell_type": "markdown",
   "id": "cc01b1da-9a63-4326-9314-abce6ca95122",
   "metadata": {},
   "source": [
    "- n estimators 300 범위 확장"
   ]
  },
  {
   "cell_type": "code",
   "execution_count": 171,
   "id": "2020d7f9-aecd-40de-b7ff-e47a702c9288",
   "metadata": {
    "tags": []
   },
   "outputs": [],
   "source": [
    "from sklearn.ensemble import RandomForestRegressor\n",
    "from bayes_opt import BayesianOptimization\n",
    "import pandas as pd\n",
    "from sklearn.metrics import mean_absolute_percentage_error\n",
    "\n",
    "def predict_next_period_volatility(df, prediction_range_hours, max_features_choice):\n",
    "    # 데이터셋 복사\n",
    "    data = df.copy()\n",
    "    \n",
    "    # 시간 인덱스 설정\n",
    "    data.index = pd.to_datetime(data.index)\n",
    "    \n",
    "    # 특징과 타겟 설정\n",
    "    X = data.drop(columns=['volatility']) \n",
    "    y = data['volatility']  # 타겟\n",
    "    \n",
    "    # 베이지안 옵티마이제이션을 위한 목적 함수 정의\n",
    "    def rf_cv(n_estimators, max_depth, min_samples_split, min_samples_leaf, max_leaf_nodes):\n",
    "        # Ensure the parameters are integers\n",
    "        n_estimators = int(n_estimators)\n",
    "        max_depth = int(max_depth)\n",
    "        min_samples_split = int(min_samples_split)\n",
    "        min_samples_leaf = int(min_samples_leaf)\n",
    "        max_leaf_nodes = int(max_leaf_nodes)\n",
    "\n",
    "        # 랜덤 포레스트 모델 생성\n",
    "        rf_model = RandomForestRegressor(\n",
    "            n_estimators=n_estimators,\n",
    "            max_depth=max_depth,\n",
    "            min_samples_split=min_samples_split,\n",
    "            min_samples_leaf=min_samples_leaf,\n",
    "            max_leaf_nodes=max_leaf_nodes,\n",
    "            max_features=max_features_choice,  # max_features를 선택된 값으로 설정\n",
    "            random_state=42\n",
    "        )\n",
    "\n",
    "        # 모델 학습\n",
    "        rf_model.fit(X, y)\n",
    "\n",
    "        # 마지막 prediction_range_hours만큼의 데이터를 사용하여 예측\n",
    "        X_predict = X.iloc[-prediction_range_hours:]\n",
    "        predicted_values = rf_model.predict(X_predict)\n",
    "\n",
    "        return -predicted_values.mean()  # 목적 함수 최소화\n",
    "\n",
    "    # 베이지안 옵티마이제이션을 위한 탐색 공간 설정\n",
    "    pbounds = {\n",
    "        'n_estimators': (50, 300),\n",
    "        'max_depth': (5, 15),\n",
    "        'min_samples_split': (2, 20),\n",
    "        'min_samples_leaf': (1, 10),\n",
    "        'max_leaf_nodes': (10, 100)   # 기본값은 None\n",
    "    }\n",
    "\n",
    "    # 베이지안 옵티마이제이션 수행\n",
    "    optimizer = BayesianOptimization(\n",
    "        f=rf_cv,\n",
    "        pbounds=pbounds,\n",
    "        random_state=42,\n",
    "        verbose=2\n",
    "    )\n",
    "\n",
    "    optimizer.maximize(init_points=5, n_iter=10)\n",
    "\n",
    "    # 최적의 하이퍼파라미터\n",
    "    best_params = optimizer.max['params']\n",
    "    best_params = {key: int(value) for key, value in best_params.items()}  # 정수형으로 변환\n",
    "\n",
    "    # 최적의 하이퍼파라미터로 랜덤 포레스트 모델 생성 및 학습\n",
    "    rf_model = RandomForestRegressor(**best_params, max_features=max_features_choice, random_state=42)\n",
    "    rf_model.fit(X, y)\n",
    "\n",
    "    # 마지막 prediction_range_hours만큼의 데이터를 사용하여 예측합니다.\n",
    "    X_predict = X.iloc[-prediction_range_hours:]\n",
    "    predicted_values = rf_model.predict(X_predict)\n",
    "    \n",
    "    # 예측값과 실제값 가져오기\n",
    "    actual_values = df[-prediction_range_hours:]['volatility'].values\n",
    "\n",
    "    # MAPE 계산\n",
    "    mape = mean_absolute_percentage_error(actual_values, predicted_values)\n",
    "\n",
    "    # 출력\n",
    "    print(\"Best MAPE:\", mape)\n",
    "    \n",
    "    return predicted_values, best_params\n",
    "\n",
    "# 사용 예시\n",
    "# predicted_values, best_params = predict_next_period_volatility(df91, prediction_range_hours=73, max_features_choice='log2')\n",
    "# print(\"Predicted values:\", predicted_values)\n",
    "# print(\"Best hyperparameters:\", best_params)\n"
   ]
  },
  {
   "cell_type": "code",
   "execution_count": 172,
   "id": "7f7891f1-204b-42b1-a542-9045ed67ed0c",
   "metadata": {
    "tags": []
   },
   "outputs": [
    {
     "name": "stdout",
     "output_type": "stream",
     "text": [
      "|   iter    |  target   | max_depth | max_le... | min_sa... | min_sa... | n_esti... |\n",
      "-------------------------------------------------------------------------------------\n",
      "| \u001b[0m1        \u001b[0m | \u001b[0m-0.004181\u001b[0m | \u001b[0m8.745    \u001b[0m | \u001b[0m95.56    \u001b[0m | \u001b[0m7.588    \u001b[0m | \u001b[0m12.78    \u001b[0m | \u001b[0m89.0     \u001b[0m |\n",
      "| \u001b[0m2        \u001b[0m | \u001b[0m-0.004334\u001b[0m | \u001b[0m6.56     \u001b[0m | \u001b[0m15.23    \u001b[0m | \u001b[0m8.796    \u001b[0m | \u001b[0m12.82    \u001b[0m | \u001b[0m227.0    \u001b[0m |\n",
      "| \u001b[0m3        \u001b[0m | \u001b[0m-0.004376\u001b[0m | \u001b[0m5.206    \u001b[0m | \u001b[0m97.29    \u001b[0m | \u001b[0m8.492    \u001b[0m | \u001b[0m5.822    \u001b[0m | \u001b[0m95.46    \u001b[0m |\n",
      "| \u001b[0m4        \u001b[0m | \u001b[0m-0.004287\u001b[0m | \u001b[0m6.834    \u001b[0m | \u001b[0m37.38    \u001b[0m | \u001b[0m5.723    \u001b[0m | \u001b[0m9.775    \u001b[0m | \u001b[0m122.8    \u001b[0m |\n",
      "| \u001b[0m5        \u001b[0m | \u001b[0m-0.004296\u001b[0m | \u001b[0m11.12    \u001b[0m | \u001b[0m22.55    \u001b[0m | \u001b[0m3.629    \u001b[0m | \u001b[0m8.595    \u001b[0m | \u001b[0m164.0    \u001b[0m |\n",
      "| \u001b[95m6        \u001b[0m | \u001b[95m-0.004178\u001b[0m | \u001b[95m8.871    \u001b[0m | \u001b[95m72.2     \u001b[0m | \u001b[95m3.322    \u001b[0m | \u001b[95m16.98    \u001b[0m | \u001b[95m202.5    \u001b[0m |\n",
      "| \u001b[0m7        \u001b[0m | \u001b[0m-0.004312\u001b[0m | \u001b[0m14.06    \u001b[0m | \u001b[0m19.48    \u001b[0m | \u001b[0m2.325    \u001b[0m | \u001b[0m18.66    \u001b[0m | \u001b[0m242.7    \u001b[0m |\n",
      "| \u001b[0m8        \u001b[0m | \u001b[0m-0.004343\u001b[0m | \u001b[0m10.84    \u001b[0m | \u001b[0m14.3     \u001b[0m | \u001b[0m1.322    \u001b[0m | \u001b[0m3.881    \u001b[0m | \u001b[0m108.3    \u001b[0m |\n",
      "| \u001b[95m9        \u001b[0m | \u001b[95m-0.00414 \u001b[0m | \u001b[95m9.686    \u001b[0m | \u001b[95m99.37    \u001b[0m | \u001b[95m9.297    \u001b[0m | \u001b[95m9.773    \u001b[0m | \u001b[95m128.9    \u001b[0m |\n",
      "| \u001b[95m10       \u001b[0m | \u001b[95m-0.00413 \u001b[0m | \u001b[95m10.98    \u001b[0m | \u001b[95m70.8     \u001b[0m | \u001b[95m2.997    \u001b[0m | \u001b[95m17.97    \u001b[0m | \u001b[95m201.5    \u001b[0m |\n",
      "| \u001b[95m11       \u001b[0m | \u001b[95m-0.00413 \u001b[0m | \u001b[95m11.39    \u001b[0m | \u001b[95m71.79    \u001b[0m | \u001b[95m1.116    \u001b[0m | \u001b[95m17.28    \u001b[0m | \u001b[95m198.3    \u001b[0m |\n",
      "| \u001b[0m12       \u001b[0m | \u001b[0m-0.004139\u001b[0m | \u001b[0m14.12    \u001b[0m | \u001b[0m67.22    \u001b[0m | \u001b[0m6.146    \u001b[0m | \u001b[0m14.36    \u001b[0m | \u001b[0m199.6    \u001b[0m |\n",
      "| \u001b[0m13       \u001b[0m | \u001b[0m-0.004168\u001b[0m | \u001b[0m12.87    \u001b[0m | \u001b[0m63.58    \u001b[0m | \u001b[0m5.647    \u001b[0m | \u001b[0m19.07    \u001b[0m | \u001b[0m191.7    \u001b[0m |\n",
      "| \u001b[0m14       \u001b[0m | \u001b[0m-0.004161\u001b[0m | \u001b[0m12.05    \u001b[0m | \u001b[0m57.25    \u001b[0m | \u001b[0m1.473    \u001b[0m | \u001b[0m17.7     \u001b[0m | \u001b[0m202.9    \u001b[0m |\n",
      "| \u001b[0m15       \u001b[0m | \u001b[0m-0.004137\u001b[0m | \u001b[0m10.68    \u001b[0m | \u001b[0m88.92    \u001b[0m | \u001b[0m6.108    \u001b[0m | \u001b[0m19.35    \u001b[0m | \u001b[0m81.16    \u001b[0m |\n",
      "=====================================================================================\n",
      "Best MAPE: 0.15867877084762486\n",
      "Predicted values: [0.00473244 0.00462334 0.00463384 0.00430403 0.00422599 0.00401095\n",
      " 0.00412953 0.00385808 0.0038476  0.00387739 0.00363891 0.00349668\n",
      " 0.00364425 0.00376481 0.00374218 0.0035987  0.00385828 0.00366806\n",
      " 0.00373793 0.00396396 0.00370854 0.00395528 0.00373952 0.0036942\n",
      " 0.00360057 0.00359972 0.00357743 0.00394063 0.00361056 0.00356646\n",
      " 0.00337675 0.00337641 0.00337952 0.00343577 0.00345544 0.00411896\n",
      " 0.00476707 0.00489175 0.00490769 0.00519155 0.00521234 0.00563785\n",
      " 0.00549425 0.00566239 0.0057095  0.0058089  0.00589925 0.00586128\n",
      " 0.00594744 0.00574392 0.00564241 0.00549131 0.0053907  0.00534096\n",
      " 0.00510719 0.00478959 0.00463099 0.00447412 0.00443976 0.00402592\n",
      " 0.00360867 0.00342857 0.00319307 0.00283971 0.00293833 0.00280601\n",
      " 0.002625   0.00254561 0.00282253 0.00287088 0.0028977  0.00287325\n",
      " 0.00272602]\n",
      "Best hyperparameters: {'max_depth': 12, 'max_leaf_nodes': 70, 'min_samples_leaf': 9, 'min_samples_split': 9, 'n_estimators': 130}\n"
     ]
    }
   ],
   "source": [
    "predicted_values_2, best_params_2 = predict_next_period_volatility(df91, prediction_range_hours=73, max_features_choice='log2')\n",
    "print(\"Predicted values:\", predicted_values)\n",
    "print(\"Best hyperparameters:\", best_params)"
   ]
  },
  {
   "cell_type": "code",
   "execution_count": 173,
   "id": "23f06416-e28b-4723-abc8-7fc08e920343",
   "metadata": {
    "tags": []
   },
   "outputs": [
    {
     "data": {
      "text/plain": [
       "0.13999434663687726"
      ]
     },
     "execution_count": 173,
     "metadata": {},
     "output_type": "execute_result"
    }
   ],
   "source": [
    "mean_absolute_percentage_error(volatility_values[20:], predicted_values_2[20:])"
   ]
  },
  {
   "cell_type": "markdown",
   "id": "82dfacaa-6788-4371-bfa2-89985a1e8a4f",
   "metadata": {},
   "source": [
    "- 300 , max_features 추천"
   ]
  },
  {
   "cell_type": "code",
   "execution_count": 174,
   "id": "6f6918a0-70a1-4189-b051-b496296a1251",
   "metadata": {
    "tags": []
   },
   "outputs": [],
   "source": [
    "from sklearn.ensemble import RandomForestRegressor\n",
    "from bayes_opt import BayesianOptimization\n",
    "import pandas as pd\n",
    "from sklearn.metrics import mean_absolute_percentage_error\n",
    "\n",
    "def predict_next_period_volatility(df, prediction_range_hours):\n",
    "    # 데이터셋 복사\n",
    "    data = df.copy()\n",
    "    \n",
    "    # 시간 인덱스 설정\n",
    "    data.index = pd.to_datetime(data.index)\n",
    "    \n",
    "    # 특징과 타겟 설정\n",
    "    X = data.drop(columns=['volatility']) \n",
    "    y = data['volatility']  # 타겟\n",
    "    \n",
    "    # 베이지안 옵티마이제이션을 위한 목적 함수 정의\n",
    "    def rf_cv(n_estimators, max_depth, min_samples_split, min_samples_leaf, max_leaf_nodes, max_features):\n",
    "        # Ensure the parameters are integers\n",
    "        n_estimators = int(n_estimators)\n",
    "        max_depth = int(max_depth)\n",
    "        min_samples_split = int(min_samples_split)\n",
    "        min_samples_leaf = int(min_samples_leaf)\n",
    "        max_leaf_nodes = int(max_leaf_nodes)\n",
    "        max_features = int(max_features)\n",
    "\n",
    "        # 랜덤 포레스트 모델 생성\n",
    "        rf_model = RandomForestRegressor(\n",
    "            n_estimators=n_estimators,\n",
    "            max_depth=max_depth,\n",
    "            min_samples_split=min_samples_split,\n",
    "            min_samples_leaf=min_samples_leaf,\n",
    "            max_leaf_nodes=max_leaf_nodes,\n",
    "            max_features=max_features,\n",
    "            random_state=42\n",
    "        )\n",
    "\n",
    "        # 모델 학습\n",
    "        rf_model.fit(X, y)\n",
    "\n",
    "        # 마지막 prediction_range_hours만큼의 데이터를 사용하여 예측\n",
    "        X_predict = X.iloc[-prediction_range_hours:]\n",
    "        predicted_values = rf_model.predict(X_predict)\n",
    "\n",
    "        return -predicted_values.mean()  # 목적 함수 최소화\n",
    "\n",
    "    # 베이지안 옵티마이제이션을 위한 탐색 공간 설정\n",
    "    pbounds = {\n",
    "        'n_estimators': (50, 300),\n",
    "        'max_depth': (5, 15),\n",
    "        'min_samples_split': (2, 20),\n",
    "        'min_samples_leaf': (1, 10),\n",
    "        'max_leaf_nodes': (10, 100),\n",
    "        'max_features': (1, X.shape[1]) # 특징의 개수에 따라 max_features의 범위 설정\n",
    "    }\n",
    "\n",
    "    # 베이지안 옵티마이제이션 수행\n",
    "    optimizer = BayesianOptimization(\n",
    "        f=rf_cv,\n",
    "        pbounds=pbounds,\n",
    "        random_state=42,\n",
    "        verbose=2\n",
    "    )\n",
    "\n",
    "    optimizer.maximize(init_points=5, n_iter=10)\n",
    "\n",
    "    # 최적의 하이퍼파라미터\n",
    "    best_params = optimizer.max['params']\n",
    "    best_params = {key: int(value) for key, value in best_params.items()}  # 정수형으로 변환\n",
    "\n",
    "    # 최적의 하이퍼파라미터로 랜덤 포레스트 모델 생성 및 학습\n",
    "    rf_model = RandomForestRegressor(**best_params, random_state=42)\n",
    "    rf_model.fit(X, y)\n",
    "\n",
    "    # 마지막 prediction_range_hours만큼의 데이터를 사용하여 예측합니다.\n",
    "    X_predict = X.iloc[-prediction_range_hours:]\n",
    "    predicted_values = rf_model.predict(X_predict)\n",
    "    \n",
    "    # 예측값과 실제값 가져오기\n",
    "    actual_values = df[-prediction_range_hours:]['volatility'].values\n",
    "\n",
    "    # MAPE 계산\n",
    "    mape = mean_absolute_percentage_error(actual_values, predicted_values)\n",
    "\n",
    "    # 출력\n",
    "    print(\"Best MAPE:\", mape)\n",
    "    \n",
    "    return predicted_values, best_params\n",
    "\n",
    "# 사용 예시\n",
    "# predicted_values, best_params = predict_next_period_volatility(df91, prediction_range_hours=73)\n",
    "# print(\"Predicted values:\", predicted_values)\n",
    "# print(\"Best hyperparameters:\", best_params)\n"
   ]
  },
  {
   "cell_type": "code",
   "execution_count": 175,
   "id": "f436edb9-9990-4987-ab87-f7c1d3be0b64",
   "metadata": {
    "tags": []
   },
   "outputs": [
    {
     "name": "stdout",
     "output_type": "stream",
     "text": [
      "|   iter    |  target   | max_depth | max_fe... | max_le... | min_sa... | min_sa... | n_esti... |\n",
      "-------------------------------------------------------------------------------------------------\n",
      "| \u001b[0m1        \u001b[0m | \u001b[0m-0.003955\u001b[0m | \u001b[0m8.745    \u001b[0m | \u001b[0m14.31    \u001b[0m | \u001b[0m75.88    \u001b[0m | \u001b[0m6.388    \u001b[0m | \u001b[0m4.808    \u001b[0m | \u001b[0m89.0     \u001b[0m |\n",
      "| \u001b[95m2        \u001b[0m | \u001b[95m-0.003832\u001b[0m | \u001b[95m5.581    \u001b[0m | \u001b[95m13.13    \u001b[0m | \u001b[95m64.1     \u001b[0m | \u001b[95m7.373    \u001b[0m | \u001b[95m2.371    \u001b[0m | \u001b[95m292.5    \u001b[0m |\n",
      "| \u001b[0m3        \u001b[0m | \u001b[0m-0.004268\u001b[0m | \u001b[0m13.32    \u001b[0m | \u001b[0m3.973    \u001b[0m | \u001b[0m26.36    \u001b[0m | \u001b[0m2.651    \u001b[0m | \u001b[0m7.476    \u001b[0m | \u001b[0m181.2    \u001b[0m |\n",
      "| \u001b[0m4        \u001b[0m | \u001b[0m-0.004063\u001b[0m | \u001b[0m9.319    \u001b[0m | \u001b[0m5.077    \u001b[0m | \u001b[0m65.07    \u001b[0m | \u001b[0m2.255    \u001b[0m | \u001b[0m7.259    \u001b[0m | \u001b[0m141.6    \u001b[0m |\n",
      "| \u001b[0m5        \u001b[0m | \u001b[0m-0.00386 \u001b[0m | \u001b[0m9.561    \u001b[0m | \u001b[0m11.99    \u001b[0m | \u001b[0m27.97    \u001b[0m | \u001b[0m5.628    \u001b[0m | \u001b[0m12.66    \u001b[0m | \u001b[0m61.61    \u001b[0m |\n",
      "| \u001b[0m6        \u001b[0m | \u001b[0m-0.004196\u001b[0m | \u001b[0m5.471    \u001b[0m | \u001b[0m6.236    \u001b[0m | \u001b[0m17.46    \u001b[0m | \u001b[0m1.03     \u001b[0m | \u001b[0m19.29    \u001b[0m | \u001b[0m299.0    \u001b[0m |\n",
      "| \u001b[95m7        \u001b[0m | \u001b[95m-0.003817\u001b[0m | \u001b[95m11.03    \u001b[0m | \u001b[95m13.44    \u001b[0m | \u001b[95m27.51    \u001b[0m | \u001b[95m6.435    \u001b[0m | \u001b[95m10.09    \u001b[0m | \u001b[95m59.15    \u001b[0m |\n",
      "| \u001b[0m8        \u001b[0m | \u001b[0m-0.003865\u001b[0m | \u001b[0m7.713    \u001b[0m | \u001b[0m13.93    \u001b[0m | \u001b[0m48.48    \u001b[0m | \u001b[0m7.349    \u001b[0m | \u001b[0m3.558    \u001b[0m | \u001b[0m50.75    \u001b[0m |\n",
      "| \u001b[0m9        \u001b[0m | \u001b[0m-0.003956\u001b[0m | \u001b[0m8.856    \u001b[0m | \u001b[0m12.29    \u001b[0m | \u001b[0m94.1     \u001b[0m | \u001b[0m9.31     \u001b[0m | \u001b[0m4.282    \u001b[0m | \u001b[0m289.5    \u001b[0m |\n",
      "| \u001b[0m10       \u001b[0m | \u001b[0m-0.004377\u001b[0m | \u001b[0m14.61    \u001b[0m | \u001b[0m4.325    \u001b[0m | \u001b[0m11.29    \u001b[0m | \u001b[0m6.052    \u001b[0m | \u001b[0m8.411    \u001b[0m | \u001b[0m50.07    \u001b[0m |\n",
      "| \u001b[95m11       \u001b[0m | \u001b[95m-0.00379 \u001b[0m | \u001b[95m8.085    \u001b[0m | \u001b[95m14.64    \u001b[0m | \u001b[95m38.93    \u001b[0m | \u001b[95m4.505    \u001b[0m | \u001b[95m12.03    \u001b[0m | \u001b[95m52.64    \u001b[0m |\n",
      "| \u001b[0m12       \u001b[0m | \u001b[0m-0.003808\u001b[0m | \u001b[0m14.53    \u001b[0m | \u001b[0m14.0     \u001b[0m | \u001b[0m40.44    \u001b[0m | \u001b[0m8.484    \u001b[0m | \u001b[0m8.103    \u001b[0m | \u001b[0m63.71    \u001b[0m |\n",
      "| \u001b[0m13       \u001b[0m | \u001b[0m-0.003832\u001b[0m | \u001b[0m5.881    \u001b[0m | \u001b[0m13.5     \u001b[0m | \u001b[0m62.53    \u001b[0m | \u001b[0m5.61     \u001b[0m | \u001b[0m2.742    \u001b[0m | \u001b[0m269.6    \u001b[0m |\n",
      "| \u001b[0m14       \u001b[0m | \u001b[0m-0.004294\u001b[0m | \u001b[0m6.484    \u001b[0m | \u001b[0m2.412    \u001b[0m | \u001b[0m65.64    \u001b[0m | \u001b[0m1.831    \u001b[0m | \u001b[0m17.54    \u001b[0m | \u001b[0m279.3    \u001b[0m |\n",
      "| \u001b[0m15       \u001b[0m | \u001b[0m-0.003848\u001b[0m | \u001b[0m5.775    \u001b[0m | \u001b[0m12.9     \u001b[0m | \u001b[0m38.54    \u001b[0m | \u001b[0m2.288    \u001b[0m | \u001b[0m2.696    \u001b[0m | \u001b[0m66.47    \u001b[0m |\n",
      "=================================================================================================\n",
      "Best MAPE: 0.16295248457465308\n",
      "Predicted values: [0.00473244 0.00462334 0.00463384 0.00430403 0.00422599 0.00401095\n",
      " 0.00412953 0.00385808 0.0038476  0.00387739 0.00363891 0.00349668\n",
      " 0.00364425 0.00376481 0.00374218 0.0035987  0.00385828 0.00366806\n",
      " 0.00373793 0.00396396 0.00370854 0.00395528 0.00373952 0.0036942\n",
      " 0.00360057 0.00359972 0.00357743 0.00394063 0.00361056 0.00356646\n",
      " 0.00337675 0.00337641 0.00337952 0.00343577 0.00345544 0.00411896\n",
      " 0.00476707 0.00489175 0.00490769 0.00519155 0.00521234 0.00563785\n",
      " 0.00549425 0.00566239 0.0057095  0.0058089  0.00589925 0.00586128\n",
      " 0.00594744 0.00574392 0.00564241 0.00549131 0.0053907  0.00534096\n",
      " 0.00510719 0.00478959 0.00463099 0.00447412 0.00443976 0.00402592\n",
      " 0.00360867 0.00342857 0.00319307 0.00283971 0.00293833 0.00280601\n",
      " 0.002625   0.00254561 0.00282253 0.00287088 0.0028977  0.00287325\n",
      " 0.00272602]\n",
      "Best hyperparameters: {'max_depth': 8, 'max_features': 14, 'max_leaf_nodes': 38, 'min_samples_leaf': 4, 'min_samples_split': 12, 'n_estimators': 52}\n"
     ]
    }
   ],
   "source": [
    "# 사용 예시\n",
    "predicted_values_3, best_params = predict_next_period_volatility(df91, prediction_range_hours=73)\n",
    "print(\"Predicted values:\", predicted_values)\n",
    "print(\"Best hyperparameters:\", best_params)"
   ]
  },
  {
   "cell_type": "code",
   "execution_count": 176,
   "id": "a416050f-4bad-440b-a4a8-361014baa0b4",
   "metadata": {
    "tags": []
   },
   "outputs": [
    {
     "data": {
      "text/plain": [
       "0.13060176647182728"
      ]
     },
     "execution_count": 176,
     "metadata": {},
     "output_type": "execute_result"
    }
   ],
   "source": [
    "mean_absolute_percentage_error(volatility_values[20:], predicted_values_3[20:])"
   ]
  },
  {
   "cell_type": "markdown",
   "id": "85a6031a-0d7b-4312-8a41-58a0567609b4",
   "metadata": {},
   "source": [
    "- max_depth 20"
   ]
  },
  {
   "cell_type": "code",
   "execution_count": 179,
   "id": "a17f9716-ca5d-4555-ab1c-ae418ececfd5",
   "metadata": {
    "tags": []
   },
   "outputs": [],
   "source": [
    "from sklearn.ensemble import RandomForestRegressor\n",
    "from bayes_opt import BayesianOptimization\n",
    "import pandas as pd\n",
    "from sklearn.metrics import mean_absolute_percentage_error\n",
    "\n",
    "def predict_next_period_volatility(df, prediction_range_hours):\n",
    "    # 데이터셋 복사\n",
    "    data = df.copy()\n",
    "    \n",
    "    # 시간 인덱스 설정\n",
    "    data.index = pd.to_datetime(data.index)\n",
    "    \n",
    "    # 특징과 타겟 설정\n",
    "    X = data.drop(columns=['volatility']) \n",
    "    y = data['volatility']  # 타겟\n",
    "    \n",
    "    # 베이지안 옵티마이제이션을 위한 목적 함수 정의\n",
    "    def rf_cv(n_estimators, max_depth, min_samples_split, min_samples_leaf, max_leaf_nodes, max_features):\n",
    "        # Ensure the parameters are integers\n",
    "        n_estimators = int(n_estimators)\n",
    "        max_depth = int(max_depth)\n",
    "        min_samples_split = int(min_samples_split)\n",
    "        min_samples_leaf = int(min_samples_leaf)\n",
    "        max_leaf_nodes = int(max_leaf_nodes)\n",
    "        max_features = int(max_features)\n",
    "\n",
    "        # 랜덤 포레스트 모델 생성\n",
    "        rf_model = RandomForestRegressor(\n",
    "            n_estimators=n_estimators,\n",
    "            max_depth=max_depth,\n",
    "            min_samples_split=min_samples_split,\n",
    "            min_samples_leaf=min_samples_leaf,\n",
    "            max_leaf_nodes=max_leaf_nodes,\n",
    "            max_features=max_features,\n",
    "            random_state=42\n",
    "        )\n",
    "\n",
    "        # 모델 학습\n",
    "        rf_model.fit(X, y)\n",
    "\n",
    "        # 마지막 prediction_range_hours만큼의 데이터를 사용하여 예측\n",
    "        X_predict = X.iloc[-prediction_range_hours:]\n",
    "        predicted_values = rf_model.predict(X_predict)\n",
    "\n",
    "        return -predicted_values.mean()  # 목적 함수 최소화\n",
    "\n",
    "    # 베이지안 옵티마이제이션을 위한 탐색 공간 설정\n",
    "    pbounds = {\n",
    "        'n_estimators': (50, 300),\n",
    "        'max_depth': (5, 20),\n",
    "        'min_samples_split': (2, 20),\n",
    "        'min_samples_leaf': (1, 10),\n",
    "        'max_leaf_nodes': (10, 100),\n",
    "        'max_features': (1, X.shape[1]) # 특징의 개수에 따라 max_features의 범위 설정\n",
    "    }\n",
    "\n",
    "    # 베이지안 옵티마이제이션 수행\n",
    "    optimizer = BayesianOptimization(\n",
    "        f=rf_cv,\n",
    "        pbounds=pbounds,\n",
    "        random_state=42,\n",
    "        verbose=2\n",
    "    )\n",
    "\n",
    "    optimizer.maximize(init_points=5, n_iter=10)\n",
    "\n",
    "    # 최적의 하이퍼파라미터\n",
    "    best_params = optimizer.max['params']\n",
    "    best_params = {key: int(value) for key, value in best_params.items()}  # 정수형으로 변환\n",
    "\n",
    "    # 최적의 하이퍼파라미터로 랜덤 포레스트 모델 생성 및 학습\n",
    "    rf_model = RandomForestRegressor(**best_params, random_state=42)\n",
    "    rf_model.fit(X, y)\n",
    "\n",
    "    # 마지막 prediction_range_hours만큼의 데이터를 사용하여 예측합니다.\n",
    "    X_predict = X.iloc[-prediction_range_hours:]\n",
    "    predicted_values = rf_model.predict(X_predict)\n",
    "    \n",
    "    # 예측값과 실제값 가져오기\n",
    "    actual_values = df[-prediction_range_hours:]['volatility'].values\n",
    "\n",
    "    # MAPE 계산\n",
    "    mape = mean_absolute_percentage_error(actual_values, predicted_values)\n",
    "\n",
    "    # 출력\n",
    "    print(\"Best MAPE:\", mape)\n",
    "    \n",
    "    return predicted_values, best_params\n",
    "\n",
    "# 사용 예시\n",
    "# predicted_values, best_params = predict_next_period_volatility(df91, prediction_range_hours=73)\n",
    "# print(\"Predicted values:\", predicted_values)\n",
    "# print(\"Best hyperparameters:\", best_params)\n"
   ]
  },
  {
   "cell_type": "code",
   "execution_count": 180,
   "id": "f25ca8f8-ca1a-4565-8623-c97ad627a189",
   "metadata": {
    "tags": []
   },
   "outputs": [
    {
     "name": "stdout",
     "output_type": "stream",
     "text": [
      "|   iter    |  target   | max_depth | max_fe... | max_le... | min_sa... | min_sa... | n_esti... |\n",
      "-------------------------------------------------------------------------------------------------\n",
      "| \u001b[0m1        \u001b[0m | \u001b[0m-0.003961\u001b[0m | \u001b[0m10.62    \u001b[0m | \u001b[0m14.31    \u001b[0m | \u001b[0m75.88    \u001b[0m | \u001b[0m6.388    \u001b[0m | \u001b[0m4.808    \u001b[0m | \u001b[0m89.0     \u001b[0m |\n",
      "| \u001b[95m2        \u001b[0m | \u001b[95m-0.003832\u001b[0m | \u001b[95m5.871    \u001b[0m | \u001b[95m13.13    \u001b[0m | \u001b[95m64.1     \u001b[0m | \u001b[95m7.373    \u001b[0m | \u001b[95m2.371    \u001b[0m | \u001b[95m292.5    \u001b[0m |\n",
      "| \u001b[0m3        \u001b[0m | \u001b[0m-0.004268\u001b[0m | \u001b[0m17.49    \u001b[0m | \u001b[0m3.973    \u001b[0m | \u001b[0m26.36    \u001b[0m | \u001b[0m2.651    \u001b[0m | \u001b[0m7.476    \u001b[0m | \u001b[0m181.2    \u001b[0m |\n",
      "| \u001b[0m4        \u001b[0m | \u001b[0m-0.004058\u001b[0m | \u001b[0m11.48    \u001b[0m | \u001b[0m5.077    \u001b[0m | \u001b[0m65.07    \u001b[0m | \u001b[0m2.255    \u001b[0m | \u001b[0m7.259    \u001b[0m | \u001b[0m141.6    \u001b[0m |\n",
      "| \u001b[0m5        \u001b[0m | \u001b[0m-0.00386 \u001b[0m | \u001b[0m11.84    \u001b[0m | \u001b[0m11.99    \u001b[0m | \u001b[0m27.97    \u001b[0m | \u001b[0m5.628    \u001b[0m | \u001b[0m12.66    \u001b[0m | \u001b[0m61.61    \u001b[0m |\n",
      "| \u001b[0m6        \u001b[0m | \u001b[0m-0.004196\u001b[0m | \u001b[0m5.707    \u001b[0m | \u001b[0m6.236    \u001b[0m | \u001b[0m17.46    \u001b[0m | \u001b[0m1.03     \u001b[0m | \u001b[0m19.29    \u001b[0m | \u001b[0m299.0    \u001b[0m |\n",
      "| \u001b[95m7        \u001b[0m | \u001b[95m-0.003817\u001b[0m | \u001b[95m14.05    \u001b[0m | \u001b[95m13.44    \u001b[0m | \u001b[95m27.51    \u001b[0m | \u001b[95m6.435    \u001b[0m | \u001b[95m10.09    \u001b[0m | \u001b[95m59.15    \u001b[0m |\n",
      "| \u001b[0m8        \u001b[0m | \u001b[0m-0.003832\u001b[0m | \u001b[0m9.07     \u001b[0m | \u001b[0m13.93    \u001b[0m | \u001b[0m48.48    \u001b[0m | \u001b[0m7.349    \u001b[0m | \u001b[0m3.558    \u001b[0m | \u001b[0m50.75    \u001b[0m |\n",
      "| \u001b[0m9        \u001b[0m | \u001b[0m-0.003948\u001b[0m | \u001b[0m12.35    \u001b[0m | \u001b[0m9.65     \u001b[0m | \u001b[0m98.51    \u001b[0m | \u001b[0m5.119    \u001b[0m | \u001b[0m2.142    \u001b[0m | \u001b[0m286.8    \u001b[0m |\n",
      "| \u001b[0m10       \u001b[0m | \u001b[0m-0.004377\u001b[0m | \u001b[0m19.41    \u001b[0m | \u001b[0m4.325    \u001b[0m | \u001b[0m11.29    \u001b[0m | \u001b[0m6.052    \u001b[0m | \u001b[0m8.411    \u001b[0m | \u001b[0m50.07    \u001b[0m |\n",
      "| \u001b[95m11       \u001b[0m | \u001b[95m-0.003787\u001b[0m | \u001b[95m9.628    \u001b[0m | \u001b[95m14.64    \u001b[0m | \u001b[95m38.93    \u001b[0m | \u001b[95m4.505    \u001b[0m | \u001b[95m12.03    \u001b[0m | \u001b[95m52.64    \u001b[0m |\n",
      "| \u001b[0m12       \u001b[0m | \u001b[0m-0.003808\u001b[0m | \u001b[0m19.3     \u001b[0m | \u001b[0m14.0     \u001b[0m | \u001b[0m40.44    \u001b[0m | \u001b[0m8.484    \u001b[0m | \u001b[0m8.103    \u001b[0m | \u001b[0m63.71    \u001b[0m |\n",
      "| \u001b[0m13       \u001b[0m | \u001b[0m-0.004318\u001b[0m | \u001b[0m15.59    \u001b[0m | \u001b[0m1.342    \u001b[0m | \u001b[0m58.73    \u001b[0m | \u001b[0m7.468    \u001b[0m | \u001b[0m18.14    \u001b[0m | \u001b[0m54.83    \u001b[0m |\n",
      "| \u001b[95m14       \u001b[0m | \u001b[95m-0.003777\u001b[0m | \u001b[95m11.87    \u001b[0m | \u001b[95m13.71    \u001b[0m | \u001b[95m36.61    \u001b[0m | \u001b[95m1.853    \u001b[0m | \u001b[95m3.006    \u001b[0m | \u001b[95m63.12    \u001b[0m |\n",
      "| \u001b[0m15       \u001b[0m | \u001b[0m-0.003995\u001b[0m | \u001b[0m9.421    \u001b[0m | \u001b[0m6.617    \u001b[0m | \u001b[0m69.92    \u001b[0m | \u001b[0m9.769    \u001b[0m | \u001b[0m8.795    \u001b[0m | \u001b[0m270.6    \u001b[0m |\n",
      "=================================================================================================\n",
      "Best MAPE: 0.1731421111425828\n",
      "Predicted values: [0.00454223 0.00447599 0.0047492  0.00441285 0.00427478 0.00408687\n",
      " 0.0040468  0.00373147 0.0036288  0.00360037 0.0034847  0.00339398\n",
      " 0.00337753 0.00341318 0.00344493 0.00336456 0.00343767 0.00338728\n",
      " 0.00338728 0.00343884 0.00340941 0.00351101 0.00351101 0.00345174\n",
      " 0.00342232 0.00340941 0.00339801 0.00340941 0.00339869 0.00339869\n",
      " 0.00336456 0.00336456 0.00335315 0.00336613 0.00335315 0.00344493\n",
      " 0.0036288  0.00379527 0.00384947 0.00420918 0.00420918 0.00435952\n",
      " 0.00454489 0.00502976 0.00523464 0.00536312 0.00536312 0.00528793\n",
      " 0.00534137 0.00527561 0.00529736 0.00522    0.00522    0.00506739\n",
      " 0.0046983  0.00410829 0.00370897 0.0036484  0.00361141 0.00343238\n",
      " 0.00337657 0.00336675 0.00316378 0.00261759 0.00261759 0.00260992\n",
      " 0.00261686 0.00258588 0.00261131 0.00261131 0.00261131 0.00259993\n",
      " 0.00259993]\n",
      "Best hyperparameters: {'max_depth': 11, 'max_features': 13, 'max_leaf_nodes': 36, 'min_samples_leaf': 1, 'min_samples_split': 3, 'n_estimators': 63}\n"
     ]
    }
   ],
   "source": [
    "predicted_values_4, best_params_4 = predict_next_period_volatility(df91, prediction_range_hours=73)\n",
    "print(\"Predicted values:\", predicted_values_4)\n",
    "print(\"Best hyperparameters:\", best_params_4)"
   ]
  },
  {
   "cell_type": "code",
   "execution_count": 181,
   "id": "d0b029d7-1ec1-4561-8e29-6a707515e388",
   "metadata": {
    "tags": []
   },
   "outputs": [
    {
     "data": {
      "text/plain": [
       "0.13009153371714885"
      ]
     },
     "execution_count": 181,
     "metadata": {},
     "output_type": "execute_result"
    }
   ],
   "source": [
    "mean_absolute_percentage_error(volatility_values[20:], predicted_values_4[20:])"
   ]
  },
  {
   "cell_type": "markdown",
   "id": "3732e886-0a58-49f7-9d3f-0687b6c4403c",
   "metadata": {
    "tags": []
   },
   "source": [
    "- min_samples_spli 15 줄임 > 버림"
   ]
  },
  {
   "cell_type": "code",
   "execution_count": 182,
   "id": "b62b5e13-c030-46c7-ad2e-2cd892ef2113",
   "metadata": {
    "tags": []
   },
   "outputs": [],
   "source": [
    "from sklearn.ensemble import RandomForestRegressor\n",
    "from bayes_opt import BayesianOptimization\n",
    "import pandas as pd\n",
    "from sklearn.metrics import mean_absolute_percentage_error\n",
    "\n",
    "def predict_next_period_volatility(df, prediction_range_hours):\n",
    "    # 데이터셋 복사\n",
    "    data = df.copy()\n",
    "    \n",
    "    # 시간 인덱스 설정\n",
    "    data.index = pd.to_datetime(data.index)\n",
    "    \n",
    "    # 특징과 타겟 설정\n",
    "    X = data.drop(columns=['volatility']) \n",
    "    y = data['volatility']  # 타겟\n",
    "    \n",
    "    # 베이지안 옵티마이제이션을 위한 목적 함수 정의\n",
    "    def rf_cv(n_estimators, max_depth, min_samples_split, min_samples_leaf, max_leaf_nodes, max_features):\n",
    "        # Ensure the parameters are integers\n",
    "        n_estimators = int(n_estimators)\n",
    "        max_depth = int(max_depth)\n",
    "        min_samples_split = int(min_samples_split)\n",
    "        min_samples_leaf = int(min_samples_leaf)\n",
    "        max_leaf_nodes = int(max_leaf_nodes)\n",
    "        max_features = int(max_features)\n",
    "\n",
    "        # 랜덤 포레스트 모델 생성\n",
    "        rf_model = RandomForestRegressor(\n",
    "            n_estimators=n_estimators,\n",
    "            max_depth=max_depth,\n",
    "            min_samples_split=min_samples_split,\n",
    "            min_samples_leaf=min_samples_leaf,\n",
    "            max_leaf_nodes=max_leaf_nodes,\n",
    "            max_features=max_features,\n",
    "            random_state=42\n",
    "        )\n",
    "\n",
    "        # 모델 학습\n",
    "        rf_model.fit(X, y)\n",
    "\n",
    "        # 마지막 prediction_range_hours만큼의 데이터를 사용하여 예측\n",
    "        X_predict = X.iloc[-prediction_range_hours:]\n",
    "        predicted_values = rf_model.predict(X_predict)\n",
    "\n",
    "        return -predicted_values.mean()  # 목적 함수 최소화\n",
    "\n",
    "    # 베이지안 옵티마이제이션을 위한 탐색 공간 설정\n",
    "    pbounds = {\n",
    "        'n_estimators': (50, 300),\n",
    "        'max_depth': (5, 20),\n",
    "        'min_samples_split': (2, 15),\n",
    "        'min_samples_leaf': (1, 10),\n",
    "        'max_leaf_nodes': (10, 100),\n",
    "        'max_features': (1, X.shape[1]) # 특징의 개수에 따라 max_features의 범위 설정\n",
    "    }\n",
    "\n",
    "    # 베이지안 옵티마이제이션 수행\n",
    "    optimizer = BayesianOptimization(\n",
    "        f=rf_cv,\n",
    "        pbounds=pbounds,\n",
    "        random_state=42,\n",
    "        verbose=2\n",
    "    )\n",
    "\n",
    "    optimizer.maximize(init_points=5, n_iter=10)\n",
    "\n",
    "    # 최적의 하이퍼파라미터\n",
    "    best_params = optimizer.max['params']\n",
    "    best_params = {key: int(value) for key, value in best_params.items()}  # 정수형으로 변환\n",
    "\n",
    "    # 최적의 하이퍼파라미터로 랜덤 포레스트 모델 생성 및 학습\n",
    "    rf_model = RandomForestRegressor(**best_params, random_state=42)\n",
    "    rf_model.fit(X, y)\n",
    "\n",
    "    # 마지막 prediction_range_hours만큼의 데이터를 사용하여 예측합니다.\n",
    "    X_predict = X.iloc[-prediction_range_hours:]\n",
    "    predicted_values = rf_model.predict(X_predict)\n",
    "    \n",
    "    # 예측값과 실제값 가져오기\n",
    "    actual_values = df[-prediction_range_hours:]['volatility'].values\n",
    "\n",
    "    # MAPE 계산\n",
    "    mape = mean_absolute_percentage_error(actual_values, predicted_values)\n",
    "\n",
    "    # 출력\n",
    "    print(\"Best MAPE:\", mape)\n",
    "    \n",
    "    return predicted_values, best_params\n",
    "\n",
    "# 사용 예시\n",
    "# predicted_values, best_params = predict_next_period_volatility(df91, prediction_range_hours=73)\n",
    "# print(\"Predicted values:\", predicted_values)\n",
    "# print(\"Best hyperparameters:\", best_params)\n"
   ]
  },
  {
   "cell_type": "code",
   "execution_count": 183,
   "id": "7522ebfc-2f10-47a6-b773-d9cc33d7a8a7",
   "metadata": {
    "tags": []
   },
   "outputs": [
    {
     "name": "stdout",
     "output_type": "stream",
     "text": [
      "|   iter    |  target   | max_depth | max_fe... | max_le... | min_sa... | min_sa... | n_esti... |\n",
      "-------------------------------------------------------------------------------------------------\n",
      "| \u001b[0m1        \u001b[0m | \u001b[0m-0.003961\u001b[0m | \u001b[0m10.62    \u001b[0m | \u001b[0m14.31    \u001b[0m | \u001b[0m75.88    \u001b[0m | \u001b[0m6.388    \u001b[0m | \u001b[0m4.028    \u001b[0m | \u001b[0m89.0     \u001b[0m |\n",
      "| \u001b[95m2        \u001b[0m | \u001b[95m-0.003832\u001b[0m | \u001b[95m5.871    \u001b[0m | \u001b[95m13.13    \u001b[0m | \u001b[95m64.1     \u001b[0m | \u001b[95m7.373    \u001b[0m | \u001b[95m2.268    \u001b[0m | \u001b[95m292.5    \u001b[0m |\n",
      "| \u001b[0m3        \u001b[0m | \u001b[0m-0.004268\u001b[0m | \u001b[0m17.49    \u001b[0m | \u001b[0m3.973    \u001b[0m | \u001b[0m26.36    \u001b[0m | \u001b[0m2.651    \u001b[0m | \u001b[0m5.955    \u001b[0m | \u001b[0m181.2    \u001b[0m |\n",
      "| \u001b[0m4        \u001b[0m | \u001b[0m-0.004052\u001b[0m | \u001b[0m11.48    \u001b[0m | \u001b[0m5.077    \u001b[0m | \u001b[0m65.07    \u001b[0m | \u001b[0m2.255    \u001b[0m | \u001b[0m5.798    \u001b[0m | \u001b[0m141.6    \u001b[0m |\n",
      "| \u001b[0m5        \u001b[0m | \u001b[0m-0.003859\u001b[0m | \u001b[0m11.84    \u001b[0m | \u001b[0m11.99    \u001b[0m | \u001b[0m27.97    \u001b[0m | \u001b[0m5.628    \u001b[0m | \u001b[0m9.701    \u001b[0m | \u001b[0m61.61    \u001b[0m |\n",
      "| \u001b[0m6        \u001b[0m | \u001b[0m-0.004196\u001b[0m | \u001b[0m5.707    \u001b[0m | \u001b[0m6.236    \u001b[0m | \u001b[0m17.46    \u001b[0m | \u001b[0m1.03     \u001b[0m | \u001b[0m14.49    \u001b[0m | \u001b[0m299.0    \u001b[0m |\n",
      "| \u001b[95m7        \u001b[0m | \u001b[95m-0.003817\u001b[0m | \u001b[95m14.05    \u001b[0m | \u001b[95m13.44    \u001b[0m | \u001b[95m27.51    \u001b[0m | \u001b[95m6.435    \u001b[0m | \u001b[95m7.843    \u001b[0m | \u001b[95m59.15    \u001b[0m |\n",
      "| \u001b[0m8        \u001b[0m | \u001b[0m-0.004246\u001b[0m | \u001b[0m17.6     \u001b[0m | \u001b[0m9.634    \u001b[0m | \u001b[0m12.62    \u001b[0m | \u001b[0m2.764    \u001b[0m | \u001b[0m4.682    \u001b[0m | \u001b[0m52.32    \u001b[0m |\n",
      "| \u001b[95m9        \u001b[0m | \u001b[95m-0.003806\u001b[0m | \u001b[95m16.21    \u001b[0m | \u001b[95m12.78    \u001b[0m | \u001b[95m34.88    \u001b[0m | \u001b[95m2.948    \u001b[0m | \u001b[95m3.623    \u001b[0m | \u001b[95m60.14    \u001b[0m |\n",
      "| \u001b[95m10       \u001b[0m | \u001b[95m-0.003803\u001b[0m | \u001b[95m9.657    \u001b[0m | \u001b[95m13.59    \u001b[0m | \u001b[95m40.57    \u001b[0m | \u001b[95m9.809    \u001b[0m | \u001b[95m4.498    \u001b[0m | \u001b[95m52.96    \u001b[0m |\n",
      "| \u001b[0m11       \u001b[0m | \u001b[0m-0.003846\u001b[0m | \u001b[0m18.74    \u001b[0m | \u001b[0m13.8     \u001b[0m | \u001b[0m49.65    \u001b[0m | \u001b[0m7.995    \u001b[0m | \u001b[0m11.69    \u001b[0m | \u001b[0m60.08    \u001b[0m |\n",
      "| \u001b[0m12       \u001b[0m | \u001b[0m-0.003945\u001b[0m | \u001b[0m11.59    \u001b[0m | \u001b[0m11.55    \u001b[0m | \u001b[0m83.28    \u001b[0m | \u001b[0m8.039    \u001b[0m | \u001b[0m7.715    \u001b[0m | \u001b[0m288.1    \u001b[0m |\n",
      "| \u001b[0m13       \u001b[0m | \u001b[0m-0.003876\u001b[0m | \u001b[0m17.6     \u001b[0m | \u001b[0m10.31    \u001b[0m | \u001b[0m39.1     \u001b[0m | \u001b[0m2.2      \u001b[0m | \u001b[0m12.42    \u001b[0m | \u001b[0m50.17    \u001b[0m |\n",
      "| \u001b[0m14       \u001b[0m | \u001b[0m-0.003921\u001b[0m | \u001b[0m8.309    \u001b[0m | \u001b[0m10.48    \u001b[0m | \u001b[0m54.82    \u001b[0m | \u001b[0m2.758    \u001b[0m | \u001b[0m2.4      \u001b[0m | \u001b[0m272.6    \u001b[0m |\n",
      "| \u001b[0m15       \u001b[0m | \u001b[0m-0.004107\u001b[0m | \u001b[0m16.2     \u001b[0m | \u001b[0m5.027    \u001b[0m | \u001b[0m44.59    \u001b[0m | \u001b[0m9.91     \u001b[0m | \u001b[0m2.866    \u001b[0m | \u001b[0m76.78    \u001b[0m |\n",
      "=================================================================================================\n",
      "Best MAPE: 0.16825915379602446\n",
      "Predicted values: [0.00449048 0.00444407 0.0047439  0.0043665  0.00426977 0.00414864\n",
      " 0.00411196 0.00379371 0.00369899 0.00366454 0.00354082 0.00346815\n",
      " 0.0034204  0.00349661 0.00353508 0.00340468 0.00350235 0.00339462\n",
      " 0.00339462 0.00349819 0.00343471 0.00356333 0.00353487 0.00349819\n",
      " 0.00343471 0.00342143 0.00340762 0.0034491  0.00342172 0.00342172\n",
      " 0.00340468 0.00340468 0.00337758 0.00335341 0.00336494 0.00353508\n",
      " 0.00369899 0.00384601 0.00386071 0.00425707 0.00425707 0.00437448\n",
      " 0.00451714 0.0049979  0.00526219 0.00541052 0.00541052 0.00534573\n",
      " 0.00541052 0.00534139 0.00534139 0.00527397 0.00527397 0.0051246\n",
      " 0.00466776 0.00413411 0.00373522 0.00371377 0.00366895 0.00349142\n",
      " 0.00336714 0.00332761 0.00314835 0.00259765 0.00259765 0.00259765\n",
      " 0.00260605 0.00257351 0.00259933 0.00259933 0.00259933 0.00258554\n",
      " 0.00258554]\n",
      "Best hyperparameters: {'max_depth': 9, 'max_features': 13, 'max_leaf_nodes': 40, 'min_samples_leaf': 9, 'min_samples_split': 4, 'n_estimators': 52}\n"
     ]
    }
   ],
   "source": [
    "predicted_values_5, best_params_5 = predict_next_period_volatility(df91, prediction_range_hours=73)\n",
    "print(\"Predicted values:\", predicted_values_5)\n",
    "print(\"Best hyperparameters:\", best_params_5)"
   ]
  },
  {
   "cell_type": "code",
   "execution_count": 184,
   "id": "acb20526-777d-43e9-aa3c-a9df4224307f",
   "metadata": {
    "tags": []
   },
   "outputs": [
    {
     "data": {
      "text/plain": [
       "0.1304477490212385"
      ]
     },
     "execution_count": 184,
     "metadata": {},
     "output_type": "execute_result"
    }
   ],
   "source": [
    "mean_absolute_percentage_error(volatility_values[20:], predicted_values_5[20:])"
   ]
  },
  {
   "cell_type": "markdown",
   "id": "71bcdcaf-25e1-4874-b4ac-b229c5427708",
   "metadata": {},
   "source": [
    "- min sample leaf 15"
   ]
  },
  {
   "cell_type": "code",
   "execution_count": 186,
   "id": "235a5ba8-4b16-477a-bbc1-d620792f1ce5",
   "metadata": {
    "tags": []
   },
   "outputs": [],
   "source": [
    "from sklearn.ensemble import RandomForestRegressor\n",
    "from bayes_opt import BayesianOptimization\n",
    "import pandas as pd\n",
    "from sklearn.metrics import mean_absolute_percentage_error\n",
    "\n",
    "def predict_next_period_volatility(df, prediction_range_hours):\n",
    "    # 데이터셋 복사\n",
    "    data = df.copy()\n",
    "    \n",
    "    # 시간 인덱스 설정\n",
    "    data.index = pd.to_datetime(data.index)\n",
    "    \n",
    "    # 특징과 타겟 설정\n",
    "    X = data.drop(columns=['volatility']) \n",
    "    y = data['volatility']  # 타겟\n",
    "    \n",
    "    # 베이지안 옵티마이제이션을 위한 목적 함수 정의\n",
    "    def rf_cv(n_estimators, max_depth, min_samples_split, min_samples_leaf, max_leaf_nodes, max_features):\n",
    "        # Ensure the parameters are integers\n",
    "        n_estimators = int(n_estimators)\n",
    "        max_depth = int(max_depth)\n",
    "        min_samples_split = int(min_samples_split)\n",
    "        min_samples_leaf = int(min_samples_leaf)\n",
    "        max_leaf_nodes = int(max_leaf_nodes)\n",
    "        max_features = int(max_features)\n",
    "\n",
    "        # 랜덤 포레스트 모델 생성\n",
    "        rf_model = RandomForestRegressor(\n",
    "            n_estimators=n_estimators,\n",
    "            max_depth=max_depth,\n",
    "            min_samples_split=min_samples_split,\n",
    "            min_samples_leaf=min_samples_leaf,\n",
    "            max_leaf_nodes=max_leaf_nodes,\n",
    "            max_features=max_features,\n",
    "            random_state=42\n",
    "        )\n",
    "\n",
    "        # 모델 학습\n",
    "        rf_model.fit(X, y)\n",
    "\n",
    "        # 마지막 prediction_range_hours만큼의 데이터를 사용하여 예측\n",
    "        X_predict = X.iloc[-prediction_range_hours:]\n",
    "        predicted_values = rf_model.predict(X_predict)\n",
    "\n",
    "        return -predicted_values.mean()  # 목적 함수 최소화\n",
    "\n",
    "    # 베이지안 옵티마이제이션을 위한 탐색 공간 설정\n",
    "    pbounds = {\n",
    "        'n_estimators': (50, 300),\n",
    "        'max_depth': (5, 20),\n",
    "        'min_samples_split': (2, 20),\n",
    "        'min_samples_leaf': (1, 15),\n",
    "        'max_leaf_nodes': (10, 100),\n",
    "        'max_features': (1, X.shape[1]) # 특징의 개수에 따라 max_features의 범위 설정\n",
    "    }\n",
    "\n",
    "    # 베이지안 옵티마이제이션 수행\n",
    "    optimizer = BayesianOptimization(\n",
    "        f=rf_cv,\n",
    "        pbounds=pbounds,\n",
    "        random_state=42,\n",
    "        verbose=2\n",
    "    )\n",
    "\n",
    "    optimizer.maximize(init_points=5, n_iter=10)\n",
    "\n",
    "    # 최적의 하이퍼파라미터\n",
    "    best_params = optimizer.max['params']\n",
    "    best_params = {key: int(value) for key, value in best_params.items()}  # 정수형으로 변환\n",
    "\n",
    "    # 최적의 하이퍼파라미터로 랜덤 포레스트 모델 생성 및 학습\n",
    "    rf_model = RandomForestRegressor(**best_params, random_state=42)\n",
    "    rf_model.fit(X, y)\n",
    "\n",
    "    # 마지막 prediction_range_hours만큼의 데이터를 사용하여 예측\n",
    "    X_predict = X.iloc[-prediction_range_hours:]\n",
    "    predicted_values = rf_model.predict(X_predict)\n",
    "    \n",
    "    # 예측값과 실제값 가져오기\n",
    "    actual_values = df[-prediction_range_hours:]['volatility'].values\n",
    "\n",
    "    # MAPE 계산\n",
    "    mape = mean_absolute_percentage_error(actual_values, predicted_values)\n",
    "\n",
    "    # 출력\n",
    "    print(\"Best MAPE:\", mape)\n",
    "    \n",
    "    return predicted_values, best_params\n",
    "\n",
    "# 사용 예시\n",
    "# predicted_values, best_params = predict_next_period_volatility(df91, prediction_range_hours=73)\n",
    "# print(\"Predicted values:\", predicted_values)\n",
    "# print(\"Best hyperparameters:\", best_params)\n"
   ]
  },
  {
   "cell_type": "code",
   "execution_count": 187,
   "id": "dfd1b028-ace1-430c-a876-b57d7c11b928",
   "metadata": {
    "tags": []
   },
   "outputs": [
    {
     "name": "stdout",
     "output_type": "stream",
     "text": [
      "|   iter    |  target   | max_depth | max_fe... | max_le... | min_sa... | min_sa... | n_esti... |\n",
      "-------------------------------------------------------------------------------------------------\n",
      "| \u001b[0m1        \u001b[0m | \u001b[0m-0.003958\u001b[0m | \u001b[0m10.62    \u001b[0m | \u001b[0m14.31    \u001b[0m | \u001b[0m75.88    \u001b[0m | \u001b[0m9.381    \u001b[0m | \u001b[0m4.808    \u001b[0m | \u001b[0m89.0     \u001b[0m |\n",
      "| \u001b[95m2        \u001b[0m | \u001b[95m-0.003833\u001b[0m | \u001b[95m5.871    \u001b[0m | \u001b[95m13.13    \u001b[0m | \u001b[95m64.1     \u001b[0m | \u001b[95m10.91    \u001b[0m | \u001b[95m2.371    \u001b[0m | \u001b[95m292.5    \u001b[0m |\n",
      "| \u001b[0m3        \u001b[0m | \u001b[0m-0.004266\u001b[0m | \u001b[0m17.49    \u001b[0m | \u001b[0m3.973    \u001b[0m | \u001b[0m26.36    \u001b[0m | \u001b[0m3.568    \u001b[0m | \u001b[0m7.476    \u001b[0m | \u001b[0m181.2    \u001b[0m |\n",
      "| \u001b[0m4        \u001b[0m | \u001b[0m-0.004058\u001b[0m | \u001b[0m11.48    \u001b[0m | \u001b[0m5.077    \u001b[0m | \u001b[0m65.07    \u001b[0m | \u001b[0m2.953    \u001b[0m | \u001b[0m7.259    \u001b[0m | \u001b[0m141.6    \u001b[0m |\n",
      "| \u001b[0m5        \u001b[0m | \u001b[0m-0.003856\u001b[0m | \u001b[0m11.84    \u001b[0m | \u001b[0m11.99    \u001b[0m | \u001b[0m27.97    \u001b[0m | \u001b[0m8.199    \u001b[0m | \u001b[0m12.66    \u001b[0m | \u001b[0m61.61    \u001b[0m |\n",
      "| \u001b[0m6        \u001b[0m | \u001b[0m-0.004196\u001b[0m | \u001b[0m5.707    \u001b[0m | \u001b[0m6.236    \u001b[0m | \u001b[0m17.46    \u001b[0m | \u001b[0m1.047    \u001b[0m | \u001b[0m19.29    \u001b[0m | \u001b[0m299.0    \u001b[0m |\n",
      "| \u001b[95m7        \u001b[0m | \u001b[95m-0.003803\u001b[0m | \u001b[95m14.05    \u001b[0m | \u001b[95m13.44    \u001b[0m | \u001b[95m27.51    \u001b[0m | \u001b[95m9.454    \u001b[0m | \u001b[95m10.09    \u001b[0m | \u001b[95m59.15    \u001b[0m |\n",
      "| \u001b[0m8        \u001b[0m | \u001b[0m-0.004246\u001b[0m | \u001b[0m17.6     \u001b[0m | \u001b[0m9.634    \u001b[0m | \u001b[0m12.62    \u001b[0m | \u001b[0m3.745    \u001b[0m | \u001b[0m5.713    \u001b[0m | \u001b[0m52.32    \u001b[0m |\n",
      "| \u001b[95m9        \u001b[0m | \u001b[95m-0.003787\u001b[0m | \u001b[95m6.441    \u001b[0m | \u001b[95m13.98    \u001b[0m | \u001b[95m30.68    \u001b[0m | \u001b[95m14.07    \u001b[0m | \u001b[95m8.353    \u001b[0m | \u001b[95m55.66    \u001b[0m |\n",
      "| \u001b[0m10       \u001b[0m | \u001b[0m-0.003826\u001b[0m | \u001b[0m14.47    \u001b[0m | \u001b[0m12.82    \u001b[0m | \u001b[0m37.61    \u001b[0m | \u001b[0m12.15    \u001b[0m | \u001b[0m5.301    \u001b[0m | \u001b[0m60.3     \u001b[0m |\n",
      "| \u001b[0m11       \u001b[0m | \u001b[0m-0.004055\u001b[0m | \u001b[0m14.43    \u001b[0m | \u001b[0m6.137    \u001b[0m | \u001b[0m34.57    \u001b[0m | \u001b[0m13.96    \u001b[0m | \u001b[0m15.86    \u001b[0m | \u001b[0m50.1     \u001b[0m |\n",
      "| \u001b[0m12       \u001b[0m | \u001b[0m-0.003801\u001b[0m | \u001b[0m5.007    \u001b[0m | \u001b[0m14.31    \u001b[0m | \u001b[0m37.92    \u001b[0m | \u001b[0m9.441    \u001b[0m | \u001b[0m3.274    \u001b[0m | \u001b[0m74.75    \u001b[0m |\n",
      "| \u001b[0m13       \u001b[0m | \u001b[0m-0.003812\u001b[0m | \u001b[0m5.289    \u001b[0m | \u001b[0m14.35    \u001b[0m | \u001b[0m29.86    \u001b[0m | \u001b[0m2.617    \u001b[0m | \u001b[0m3.334    \u001b[0m | \u001b[0m65.6     \u001b[0m |\n",
      "| \u001b[0m14       \u001b[0m | \u001b[0m-0.003887\u001b[0m | \u001b[0m10.61    \u001b[0m | \u001b[0m12.44    \u001b[0m | \u001b[0m22.26    \u001b[0m | \u001b[0m13.41    \u001b[0m | \u001b[0m3.308    \u001b[0m | \u001b[0m84.47    \u001b[0m |\n",
      "| \u001b[0m15       \u001b[0m | \u001b[0m-0.00395 \u001b[0m | \u001b[0m12.08    \u001b[0m | \u001b[0m13.85    \u001b[0m | \u001b[0m84.33    \u001b[0m | \u001b[0m8.987    \u001b[0m | \u001b[0m3.551    \u001b[0m | \u001b[0m293.7    \u001b[0m |\n",
      "=================================================================================================\n",
      "Best MAPE: 0.17153249858231473\n",
      "Predicted values: [0.0045458  0.00450191 0.00476537 0.00439945 0.00422321 0.00412823\n",
      " 0.00410398 0.0037885  0.00366167 0.0036291  0.00353189 0.00343282\n",
      " 0.00338766 0.00345972 0.00350321 0.0033728  0.0034884  0.00338605\n",
      " 0.00338605 0.00348447 0.00342445 0.00353562 0.00350871 0.00348447\n",
      " 0.00342445 0.00341141 0.00339834 0.00343805 0.00341216 0.00341216\n",
      " 0.0033728  0.0033728  0.00334669 0.00333557 0.00333474 0.00350321\n",
      " 0.00366167 0.00382752 0.00384141 0.00423247 0.00423247 0.00432393\n",
      " 0.00454937 0.00500167 0.00523756 0.00536276 0.00536276 0.00527659\n",
      " 0.00533785 0.00527141 0.00529633 0.00520767 0.00518324 0.00507098\n",
      " 0.00467507 0.00412463 0.00375887 0.00369332 0.00365094 0.00345482\n",
      " 0.00336157 0.00333593 0.00315237 0.00261825 0.00261825 0.00261825\n",
      " 0.0026262  0.00258435 0.00260876 0.00260876 0.00260876 0.00259573\n",
      " 0.00259573]\n",
      "Best hyperparameters: {'max_depth': 6, 'max_features': 13, 'max_leaf_nodes': 30, 'min_samples_leaf': 14, 'min_samples_split': 8, 'n_estimators': 55}\n"
     ]
    }
   ],
   "source": [
    "predicted_values_6, best_params_6 = predict_next_period_volatility(df91, prediction_range_hours=73)\n",
    "print(\"Predicted values:\", predicted_values_6)\n",
    "print(\"Best hyperparameters:\", best_params_6)"
   ]
  },
  {
   "cell_type": "code",
   "execution_count": 188,
   "id": "08eb1765-a0cd-4f22-9893-0bccc07882cb",
   "metadata": {
    "tags": []
   },
   "outputs": [
    {
     "data": {
      "text/plain": [
       "0.12982412739487115"
      ]
     },
     "execution_count": 188,
     "metadata": {},
     "output_type": "execute_result"
    }
   ],
   "source": [
    "mean_absolute_percentage_error(volatility_values[20:], predicted_values_6[20:])"
   ]
  },
  {
   "cell_type": "markdown",
   "id": "23779191-4a32-49d1-bdb4-259a00fa484a",
   "metadata": {},
   "source": [
    "- mean_sample_leaf 20 > 버려"
   ]
  },
  {
   "cell_type": "code",
   "execution_count": 189,
   "id": "17fecab1-ec99-4c2d-b58b-50751cfcabd7",
   "metadata": {
    "tags": []
   },
   "outputs": [],
   "source": [
    "from sklearn.ensemble import RandomForestRegressor\n",
    "from bayes_opt import BayesianOptimization\n",
    "import pandas as pd\n",
    "from sklearn.metrics import mean_absolute_percentage_error\n",
    "\n",
    "def predict_next_period_volatility(df, prediction_range_hours):\n",
    "    # 데이터셋 복사\n",
    "    data = df.copy()\n",
    "    \n",
    "    # 시간 인덱스 설정\n",
    "    data.index = pd.to_datetime(data.index)\n",
    "    \n",
    "    # 특징과 타겟 설정\n",
    "    X = data.drop(columns=['volatility']) \n",
    "    y = data['volatility']  # 타겟\n",
    "    \n",
    "    # 베이지안 옵티마이제이션을 위한 목적 함수 정의\n",
    "    def rf_cv(n_estimators, max_depth, min_samples_split, min_samples_leaf, max_leaf_nodes, max_features):\n",
    "        # Ensure the parameters are integers\n",
    "        n_estimators = int(n_estimators)\n",
    "        max_depth = int(max_depth)\n",
    "        min_samples_split = int(min_samples_split)\n",
    "        min_samples_leaf = int(min_samples_leaf)\n",
    "        max_leaf_nodes = int(max_leaf_nodes)\n",
    "        max_features = int(max_features)\n",
    "\n",
    "        # 랜덤 포레스트 모델 생성\n",
    "        rf_model = RandomForestRegressor(\n",
    "            n_estimators=n_estimators,\n",
    "            max_depth=max_depth,\n",
    "            min_samples_split=min_samples_split,\n",
    "            min_samples_leaf=min_samples_leaf,\n",
    "            max_leaf_nodes=max_leaf_nodes,\n",
    "            max_features=max_features,\n",
    "            random_state=42\n",
    "        )\n",
    "\n",
    "        # 모델 학습\n",
    "        rf_model.fit(X, y)\n",
    "\n",
    "        # 마지막 prediction_range_hours만큼의 데이터를 사용하여 예측\n",
    "        X_predict = X.iloc[-prediction_range_hours:]\n",
    "        predicted_values = rf_model.predict(X_predict)\n",
    "\n",
    "        return -predicted_values.mean()  # 목적 함수 최소화\n",
    "\n",
    "    # 베이지안 옵티마이제이션을 위한 탐색 공간 설정\n",
    "    pbounds = {\n",
    "        'n_estimators': (50, 300),\n",
    "        'max_depth': (5, 20),\n",
    "        'min_samples_split': (2, 20),\n",
    "        'min_samples_leaf': (1, 20),\n",
    "        'max_leaf_nodes': (10, 100),\n",
    "        'max_features': (1, X.shape[1]) # 특징의 개수에 따라 max_features의 범위 설정\n",
    "    }\n",
    "\n",
    "    # 베이지안 옵티마이제이션 수행\n",
    "    optimizer = BayesianOptimization(\n",
    "        f=rf_cv,\n",
    "        pbounds=pbounds,\n",
    "        random_state=42,\n",
    "        verbose=2\n",
    "    )\n",
    "\n",
    "    optimizer.maximize(init_points=5, n_iter=10)\n",
    "\n",
    "    # 최적의 하이퍼파라미터\n",
    "    best_params = optimizer.max['params']\n",
    "    best_params = {key: int(value) for key, value in best_params.items()}  # 정수형으로 변환\n",
    "\n",
    "    # 최적의 하이퍼파라미터로 랜덤 포레스트 모델 생성 및 학습\n",
    "    rf_model = RandomForestRegressor(**best_params, random_state=42)\n",
    "    rf_model.fit(X, y)\n",
    "\n",
    "    # 마지막 prediction_range_hours만큼의 데이터를 사용하여 예측합니다.\n",
    "    X_predict = X.iloc[-prediction_range_hours:]\n",
    "    predicted_values = rf_model.predict(X_predict)\n",
    "    \n",
    "    # 예측값과 실제값 가져오기\n",
    "    actual_values = df[-prediction_range_hours:]['volatility'].values\n",
    "\n",
    "    # MAPE 계산\n",
    "    mape = mean_absolute_percentage_error(actual_values, predicted_values)\n",
    "\n",
    "    # 출력\n",
    "    print(\"Best MAPE:\", mape)\n",
    "    \n",
    "    return predicted_values, best_params\n",
    "\n",
    "# 사용 예시\n",
    "# predicted_values, best_params = predict_next_period_volatility(df91, prediction_range_hours=73)\n",
    "# print(\"Predicted values:\", predicted_values)\n",
    "# print(\"Best hyperparameters:\", best_params)\n"
   ]
  },
  {
   "cell_type": "code",
   "execution_count": 190,
   "id": "f2b4d12d-5922-4c10-acaf-1491583039d5",
   "metadata": {
    "tags": []
   },
   "outputs": [
    {
     "name": "stdout",
     "output_type": "stream",
     "text": [
      "|   iter    |  target   | max_depth | max_fe... | max_le... | min_sa... | min_sa... | n_esti... |\n",
      "-------------------------------------------------------------------------------------------------\n",
      "| \u001b[0m1        \u001b[0m | \u001b[0m-0.003957\u001b[0m | \u001b[0m10.62    \u001b[0m | \u001b[0m14.31    \u001b[0m | \u001b[0m75.88    \u001b[0m | \u001b[0m12.37    \u001b[0m | \u001b[0m4.808    \u001b[0m | \u001b[0m89.0     \u001b[0m |\n",
      "| \u001b[95m2        \u001b[0m | \u001b[95m-0.003832\u001b[0m | \u001b[95m5.871    \u001b[0m | \u001b[95m13.13    \u001b[0m | \u001b[95m64.1     \u001b[0m | \u001b[95m14.45    \u001b[0m | \u001b[95m2.371    \u001b[0m | \u001b[95m292.5    \u001b[0m |\n",
      "| \u001b[0m3        \u001b[0m | \u001b[0m-0.004272\u001b[0m | \u001b[0m17.49    \u001b[0m | \u001b[0m3.973    \u001b[0m | \u001b[0m26.36    \u001b[0m | \u001b[0m4.485    \u001b[0m | \u001b[0m7.476    \u001b[0m | \u001b[0m181.2    \u001b[0m |\n",
      "| \u001b[0m4        \u001b[0m | \u001b[0m-0.004051\u001b[0m | \u001b[0m11.48    \u001b[0m | \u001b[0m5.077    \u001b[0m | \u001b[0m65.07    \u001b[0m | \u001b[0m3.65     \u001b[0m | \u001b[0m7.259    \u001b[0m | \u001b[0m141.6    \u001b[0m |\n",
      "| \u001b[0m5        \u001b[0m | \u001b[0m-0.00386 \u001b[0m | \u001b[0m11.84    \u001b[0m | \u001b[0m11.99    \u001b[0m | \u001b[0m27.97    \u001b[0m | \u001b[0m10.77    \u001b[0m | \u001b[0m12.66    \u001b[0m | \u001b[0m61.61    \u001b[0m |\n",
      "| \u001b[0m6        \u001b[0m | \u001b[0m-0.004186\u001b[0m | \u001b[0m9.06     \u001b[0m | \u001b[0m2.137    \u001b[0m | \u001b[0m99.33    \u001b[0m | \u001b[0m3.968    \u001b[0m | \u001b[0m19.79    \u001b[0m | \u001b[0m294.3    \u001b[0m |\n",
      "| \u001b[95m7        \u001b[0m | \u001b[95m-0.003797\u001b[0m | \u001b[95m14.05    \u001b[0m | \u001b[95m13.44    \u001b[0m | \u001b[95m27.51    \u001b[0m | \u001b[95m12.47    \u001b[0m | \u001b[95m10.09    \u001b[0m | \u001b[95m59.15    \u001b[0m |\n",
      "| \u001b[0m8        \u001b[0m | \u001b[0m-0.003906\u001b[0m | \u001b[0m9.524    \u001b[0m | \u001b[0m14.01    \u001b[0m | \u001b[0m16.49    \u001b[0m | \u001b[0m17.68    \u001b[0m | \u001b[0m8.033    \u001b[0m | \u001b[0m51.1     \u001b[0m |\n",
      "| \u001b[0m9        \u001b[0m | \u001b[0m-0.003842\u001b[0m | \u001b[0m19.68    \u001b[0m | \u001b[0m14.63    \u001b[0m | \u001b[0m41.14    \u001b[0m | \u001b[0m18.17    \u001b[0m | \u001b[0m2.61     \u001b[0m | \u001b[0m66.75    \u001b[0m |\n",
      "| \u001b[0m10       \u001b[0m | \u001b[0m-0.003828\u001b[0m | \u001b[0m14.6     \u001b[0m | \u001b[0m11.24    \u001b[0m | \u001b[0m34.75    \u001b[0m | \u001b[0m1.986    \u001b[0m | \u001b[0m2.521    \u001b[0m | \u001b[0m50.67    \u001b[0m |\n",
      "| \u001b[0m11       \u001b[0m | \u001b[0m-0.00389 \u001b[0m | \u001b[0m9.613    \u001b[0m | \u001b[0m10.51    \u001b[0m | \u001b[0m37.09    \u001b[0m | \u001b[0m17.7     \u001b[0m | \u001b[0m4.31     \u001b[0m | \u001b[0m290.8    \u001b[0m |\n",
      "| \u001b[0m12       \u001b[0m | \u001b[0m-0.003897\u001b[0m | \u001b[0m18.1     \u001b[0m | \u001b[0m11.52    \u001b[0m | \u001b[0m45.32    \u001b[0m | \u001b[0m13.23    \u001b[0m | \u001b[0m19.93    \u001b[0m | \u001b[0m51.29    \u001b[0m |\n",
      "| \u001b[0m13       \u001b[0m | \u001b[0m-0.003844\u001b[0m | \u001b[0m6.889    \u001b[0m | \u001b[0m11.43    \u001b[0m | \u001b[0m55.7     \u001b[0m | \u001b[0m18.23    \u001b[0m | \u001b[0m7.797    \u001b[0m | \u001b[0m266.1    \u001b[0m |\n",
      "| \u001b[0m14       \u001b[0m | \u001b[0m-0.003815\u001b[0m | \u001b[0m17.06    \u001b[0m | \u001b[0m13.25    \u001b[0m | \u001b[0m34.0     \u001b[0m | \u001b[0m2.747    \u001b[0m | \u001b[0m18.21    \u001b[0m | \u001b[0m262.9    \u001b[0m |\n",
      "| \u001b[0m15       \u001b[0m | \u001b[0m-0.004338\u001b[0m | \u001b[0m5.316    \u001b[0m | \u001b[0m2.223    \u001b[0m | \u001b[0m23.46    \u001b[0m | \u001b[0m18.58    \u001b[0m | \u001b[0m9.388    \u001b[0m | \u001b[0m251.5    \u001b[0m |\n",
      "=================================================================================================\n",
      "Best MAPE: 0.18060108457577195\n",
      "Predicted values: [0.00462516 0.00458425 0.00481053 0.00447537 0.0043124  0.00414619\n",
      " 0.00410341 0.00374577 0.00364372 0.00361335 0.00352273 0.0034241\n",
      " 0.00340059 0.00345675 0.00349065 0.00338674 0.00348883 0.00341659\n",
      " 0.00341659 0.00347759 0.00344023 0.0035668  0.0035668  0.00349137\n",
      " 0.003454   0.00344023 0.00342805 0.00344023 0.00342877 0.00342877\n",
      " 0.00338674 0.00338674 0.00337456 0.00338842 0.00337456 0.00349065\n",
      " 0.00364372 0.00382685 0.00384245 0.00428315 0.00428315 0.00440924\n",
      " 0.0046488  0.00499867 0.00518124 0.00524906 0.00524906 0.00522032\n",
      " 0.00524906 0.00518042 0.00518042 0.005131   0.005131   0.0049893\n",
      " 0.0046183  0.00413642 0.00369111 0.00362973 0.00359023 0.00347726\n",
      " 0.00341156 0.00340074 0.0031989  0.00269003 0.00269003 0.00269003\n",
      " 0.00267909 0.00262768 0.00267061 0.00267061 0.00267061 0.00267061\n",
      " 0.00267061]\n",
      "Best hyperparameters: {'max_depth': 14, 'max_features': 13, 'max_leaf_nodes': 27, 'min_samples_leaf': 12, 'min_samples_split': 10, 'n_estimators': 59}\n"
     ]
    }
   ],
   "source": [
    "predicted_values_7, best_params_7 = predict_next_period_volatility(df91, prediction_range_hours=73)\n",
    "print(\"Predicted values:\", predicted_values_7)\n",
    "print(\"Best hyperparameters:\", best_params_7)"
   ]
  },
  {
   "cell_type": "code",
   "execution_count": 191,
   "id": "807fa884-1a03-4d9f-b82c-c884a82757da",
   "metadata": {
    "tags": []
   },
   "outputs": [
    {
     "data": {
      "text/plain": [
       "0.13115401747004235"
      ]
     },
     "execution_count": 191,
     "metadata": {},
     "output_type": "execute_result"
    }
   ],
   "source": [
    "mean_absolute_percentage_error(volatility_values[20:], predicted_values_7[20:])"
   ]
  },
  {
   "cell_type": "markdown",
   "id": "016b9c61-7575-41dd-8fd5-452be2bcdee1",
   "metadata": {},
   "source": [
    "- max_leaf 80으로 축소"
   ]
  },
  {
   "cell_type": "code",
   "execution_count": 192,
   "id": "08f074e2-1260-4cd8-87cc-62b54f493595",
   "metadata": {
    "tags": []
   },
   "outputs": [],
   "source": [
    "from sklearn.ensemble import RandomForestRegressor\n",
    "from bayes_opt import BayesianOptimization\n",
    "import pandas as pd\n",
    "from sklearn.metrics import mean_absolute_percentage_error\n",
    "\n",
    "def predict_next_period_volatility(df, prediction_range_hours):\n",
    "    # 데이터셋 복사\n",
    "    data = df.copy()\n",
    "    \n",
    "    # 시간 인덱스 설정\n",
    "    data.index = pd.to_datetime(data.index)\n",
    "    \n",
    "    # 특징과 타겟 설정\n",
    "    X = data.drop(columns=['volatility']) \n",
    "    y = data['volatility']  # 타겟\n",
    "    \n",
    "    # 베이지안 옵티마이제이션을 위한 목적 함수 정의\n",
    "    def rf_cv(n_estimators, max_depth, min_samples_split, min_samples_leaf, max_leaf_nodes, max_features):\n",
    "        # Ensure the parameters are integers\n",
    "        n_estimators = int(n_estimators)\n",
    "        max_depth = int(max_depth)\n",
    "        min_samples_split = int(min_samples_split)\n",
    "        min_samples_leaf = int(min_samples_leaf)\n",
    "        max_leaf_nodes = int(max_leaf_nodes)\n",
    "        max_features = int(max_features)\n",
    "\n",
    "        # 랜덤 포레스트 모델 생성\n",
    "        rf_model = RandomForestRegressor(\n",
    "            n_estimators=n_estimators,\n",
    "            max_depth=max_depth,\n",
    "            min_samples_split=min_samples_split,\n",
    "            min_samples_leaf=min_samples_leaf,\n",
    "            max_leaf_nodes=max_leaf_nodes,\n",
    "            max_features=max_features,\n",
    "            random_state=42\n",
    "        )\n",
    "\n",
    "        # 모델 학습\n",
    "        rf_model.fit(X, y)\n",
    "\n",
    "        # 마지막 prediction_range_hours만큼의 데이터를 사용하여 예측\n",
    "        X_predict = X.iloc[-prediction_range_hours:]\n",
    "        predicted_values = rf_model.predict(X_predict)\n",
    "\n",
    "        return -predicted_values.mean()  # 목적 함수 최소화\n",
    "\n",
    "    # 베이지안 옵티마이제이션을 위한 탐색 공간 설정\n",
    "    pbounds = {\n",
    "        'n_estimators': (50, 300),\n",
    "        'max_depth': (5, 20),\n",
    "        'min_samples_split': (2, 20),\n",
    "        'min_samples_leaf': (1, 15),\n",
    "        'max_leaf_nodes': (10, 80),\n",
    "        'max_features': (1, X.shape[1]) # 특징의 개수에 따라 max_features의 범위 설정\n",
    "    }\n",
    "\n",
    "    # 베이지안 옵티마이제이션 수행\n",
    "    optimizer = BayesianOptimization(\n",
    "        f=rf_cv,\n",
    "        pbounds=pbounds,\n",
    "        random_state=42,\n",
    "        verbose=2\n",
    "    )\n",
    "\n",
    "    optimizer.maximize(init_points=5, n_iter=10)\n",
    "\n",
    "    # 최적의 하이퍼파라미터\n",
    "    best_params = optimizer.max['params']\n",
    "    best_params = {key: int(value) for key, value in best_params.items()}  # 정수형으로 변환\n",
    "\n",
    "    # 최적의 하이퍼파라미터로 랜덤 포레스트 모델 생성 및 학습\n",
    "    rf_model = RandomForestRegressor(**best_params, random_state=42)\n",
    "    rf_model.fit(X, y)\n",
    "\n",
    "    # 마지막 prediction_range_hours만큼의 데이터를 사용하여 예측합니다.\n",
    "    X_predict = X.iloc[-prediction_range_hours:]\n",
    "    predicted_values = rf_model.predict(X_predict)\n",
    "    \n",
    "    # 예측값과 실제값 가져오기\n",
    "    actual_values = df[-prediction_range_hours:]['volatility'].values\n",
    "\n",
    "    # MAPE 계산\n",
    "    mape = mean_absolute_percentage_error(actual_values, predicted_values)\n",
    "\n",
    "    # 출력\n",
    "    print(\"Best MAPE:\", mape)\n",
    "    \n",
    "    return predicted_values, best_params\n",
    "\n",
    "# 사용 예시\n",
    "# predicted_values, best_params = predict_next_period_volatility(df91, prediction_range_hours=73)\n",
    "# print(\"Predicted values:\", predicted_values)\n",
    "# print(\"Best hyperparameters:\", best_params)\n"
   ]
  },
  {
   "cell_type": "code",
   "execution_count": 193,
   "id": "1beca097-56ed-467a-bfaa-d8a338e9c121",
   "metadata": {
    "tags": []
   },
   "outputs": [
    {
     "name": "stdout",
     "output_type": "stream",
     "text": [
      "|   iter    |  target   | max_depth | max_fe... | max_le... | min_sa... | min_sa... | n_esti... |\n",
      "-------------------------------------------------------------------------------------------------\n",
      "| \u001b[0m1        \u001b[0m | \u001b[0m-0.003931\u001b[0m | \u001b[0m10.62    \u001b[0m | \u001b[0m14.31    \u001b[0m | \u001b[0m61.24    \u001b[0m | \u001b[0m9.381    \u001b[0m | \u001b[0m4.808    \u001b[0m | \u001b[0m89.0     \u001b[0m |\n",
      "| \u001b[95m2        \u001b[0m | \u001b[95m-0.003833\u001b[0m | \u001b[95m5.871    \u001b[0m | \u001b[95m13.13    \u001b[0m | \u001b[95m52.08    \u001b[0m | \u001b[95m10.91    \u001b[0m | \u001b[95m2.371    \u001b[0m | \u001b[95m292.5    \u001b[0m |\n",
      "| \u001b[0m3        \u001b[0m | \u001b[0m-0.004287\u001b[0m | \u001b[0m17.49    \u001b[0m | \u001b[0m3.973    \u001b[0m | \u001b[0m22.73    \u001b[0m | \u001b[0m3.568    \u001b[0m | \u001b[0m7.476    \u001b[0m | \u001b[0m181.2    \u001b[0m |\n",
      "| \u001b[0m4        \u001b[0m | \u001b[0m-0.00408 \u001b[0m | \u001b[0m11.48    \u001b[0m | \u001b[0m5.077    \u001b[0m | \u001b[0m52.83    \u001b[0m | \u001b[0m2.953    \u001b[0m | \u001b[0m7.259    \u001b[0m | \u001b[0m141.6    \u001b[0m |\n",
      "| \u001b[0m5        \u001b[0m | \u001b[0m-0.003888\u001b[0m | \u001b[0m11.84    \u001b[0m | \u001b[0m11.99    \u001b[0m | \u001b[0m23.98    \u001b[0m | \u001b[0m8.199    \u001b[0m | \u001b[0m12.66    \u001b[0m | \u001b[0m61.61    \u001b[0m |\n",
      "| \u001b[0m6        \u001b[0m | \u001b[0m-0.004322\u001b[0m | \u001b[0m16.1     \u001b[0m | \u001b[0m1.449    \u001b[0m | \u001b[0m11.5     \u001b[0m | \u001b[0m1.506    \u001b[0m | \u001b[0m19.85    \u001b[0m | \u001b[0m294.9    \u001b[0m |\n",
      "| \u001b[0m7        \u001b[0m | \u001b[0m-0.003835\u001b[0m | \u001b[0m14.05    \u001b[0m | \u001b[0m13.44    \u001b[0m | \u001b[0m23.62    \u001b[0m | \u001b[0m9.454    \u001b[0m | \u001b[0m10.09    \u001b[0m | \u001b[0m59.15    \u001b[0m |\n",
      "| \u001b[0m8        \u001b[0m | \u001b[0m-0.003889\u001b[0m | \u001b[0m19.64    \u001b[0m | \u001b[0m11.16    \u001b[0m | \u001b[0m45.19    \u001b[0m | \u001b[0m11.65    \u001b[0m | \u001b[0m4.677    \u001b[0m | \u001b[0m58.33    \u001b[0m |\n",
      "| \u001b[0m9        \u001b[0m | \u001b[0m-0.003933\u001b[0m | \u001b[0m9.118    \u001b[0m | \u001b[0m11.65    \u001b[0m | \u001b[0m76.65    \u001b[0m | \u001b[0m14.45    \u001b[0m | \u001b[0m3.885    \u001b[0m | \u001b[0m280.7    \u001b[0m |\n",
      "| \u001b[0m10       \u001b[0m | \u001b[0m-0.00438 \u001b[0m | \u001b[0m19.41    \u001b[0m | \u001b[0m4.325    \u001b[0m | \u001b[0m11.0     \u001b[0m | \u001b[0m8.859    \u001b[0m | \u001b[0m8.411    \u001b[0m | \u001b[0m50.07    \u001b[0m |\n",
      "| \u001b[95m11       \u001b[0m | \u001b[95m-0.003786\u001b[0m | \u001b[95m7.462    \u001b[0m | \u001b[95m14.63    \u001b[0m | \u001b[95m33.99    \u001b[0m | \u001b[95m13.57    \u001b[0m | \u001b[95m8.543    \u001b[0m | \u001b[95m57.91    \u001b[0m |\n",
      "| \u001b[0m12       \u001b[0m | \u001b[0m-0.003786\u001b[0m | \u001b[0m15.12    \u001b[0m | \u001b[0m13.75    \u001b[0m | \u001b[0m34.13    \u001b[0m | \u001b[0m9.863    \u001b[0m | \u001b[0m6.701    \u001b[0m | \u001b[0m71.15    \u001b[0m |\n",
      "| \u001b[0m13       \u001b[0m | \u001b[0m-0.003863\u001b[0m | \u001b[0m8.473    \u001b[0m | \u001b[0m13.59    \u001b[0m | \u001b[0m49.16    \u001b[0m | \u001b[0m7.652    \u001b[0m | \u001b[0m18.79    \u001b[0m | \u001b[0m71.66    \u001b[0m |\n",
      "| \u001b[0m14       \u001b[0m | \u001b[0m-0.003872\u001b[0m | \u001b[0m13.87    \u001b[0m | \u001b[0m10.4     \u001b[0m | \u001b[0m31.25    \u001b[0m | \u001b[0m14.5     \u001b[0m | \u001b[0m3.18     \u001b[0m | \u001b[0m92.89    \u001b[0m |\n",
      "| \u001b[0m15       \u001b[0m | \u001b[0m-0.003935\u001b[0m | \u001b[0m10.19    \u001b[0m | \u001b[0m14.79    \u001b[0m | \u001b[0m67.13    \u001b[0m | \u001b[0m4.337    \u001b[0m | \u001b[0m17.71    \u001b[0m | \u001b[0m298.7    \u001b[0m |\n",
      "=================================================================================================\n",
      "Best MAPE: 0.1638638338785764\n",
      "Predicted values: [0.00449767 0.00447203 0.0046141  0.0044428  0.00434633 0.00423252\n",
      " 0.00423252 0.00383443 0.0036952  0.00365836 0.00349781 0.00343475\n",
      " 0.00339249 0.00343475 0.00346425 0.00339249 0.00343475 0.00335951\n",
      " 0.00335951 0.00343475 0.00339249 0.00343994 0.00343994 0.00343994\n",
      " 0.00339768 0.00337339 0.00335951 0.00340541 0.00339249 0.00339249\n",
      " 0.00339249 0.00339249 0.00335951 0.00334597 0.00335951 0.00346425\n",
      " 0.00372757 0.00387198 0.00387198 0.00424347 0.0042676  0.00438142\n",
      " 0.00449593 0.00493273 0.00518954 0.0053982  0.0053982  0.00529883\n",
      " 0.00536718 0.0052973  0.00532134 0.00521378 0.00519654 0.00515313\n",
      " 0.00478664 0.00425969 0.00372757 0.00369073 0.00372757 0.00345437\n",
      " 0.00337946 0.00336592 0.00313203 0.00259049 0.00259049 0.0025834\n",
      " 0.00256192 0.00253117 0.00255248 0.00255248 0.00255248 0.00255248\n",
      " 0.00255248]\n",
      "Best hyperparameters: {'max_depth': 7, 'max_features': 14, 'max_leaf_nodes': 33, 'min_samples_leaf': 13, 'min_samples_split': 8, 'n_estimators': 57}\n"
     ]
    }
   ],
   "source": [
    "predicted_values_8, best_params_8 = predict_next_period_volatility(df91, prediction_range_hours=73)\n",
    "print(\"Predicted values:\", predicted_values_8)\n",
    "print(\"Best hyperparameters:\", best_params_8)\n"
   ]
  },
  {
   "cell_type": "code",
   "execution_count": 194,
   "id": "76bfa938-dde9-44db-9908-dc91aeac0b61",
   "metadata": {
    "tags": []
   },
   "outputs": [
    {
     "data": {
      "text/plain": [
       "0.13144050266892257"
      ]
     },
     "execution_count": 194,
     "metadata": {},
     "output_type": "execute_result"
    }
   ],
   "source": [
    "mean_absolute_percentage_error(volatility_values[20:], predicted_values_8[20:])"
   ]
  },
  {
   "cell_type": "markdown",
   "id": "858272e3-65af-45e8-a84d-d18e0ebc6554",
   "metadata": {},
   "source": [
    "- max_features log2 > 폐기"
   ]
  },
  {
   "cell_type": "code",
   "execution_count": 195,
   "id": "b5d60b92-53e5-4c37-bb6b-2286f406b61f",
   "metadata": {
    "tags": []
   },
   "outputs": [],
   "source": [
    "from sklearn.ensemble import RandomForestRegressor\n",
    "from bayes_opt import BayesianOptimization\n",
    "import pandas as pd\n",
    "from sklearn.metrics import mean_absolute_percentage_error\n",
    "import numpy as np\n",
    "\n",
    "def predict_next_period_volatility(df, prediction_range_hours):\n",
    "    # 데이터셋 복사\n",
    "    data = df.copy()\n",
    "    \n",
    "    # 시간 인덱스 설정\n",
    "    data.index = pd.to_datetime(data.index)\n",
    "    \n",
    "    # 특징과 타겟 설정\n",
    "    X = data.drop(columns=['volatility']) \n",
    "    y = data['volatility']  # 타겟\n",
    "    \n",
    "    # 베이지안 옵티마이제이션을 위한 목적 함수 정의\n",
    "    def rf_cv(n_estimators, max_depth, min_samples_split, min_samples_leaf, max_leaf_nodes):\n",
    "        # Ensure the parameters are integers\n",
    "        n_estimators = int(n_estimators)\n",
    "        max_depth = int(max_depth)\n",
    "        min_samples_split = int(min_samples_split)\n",
    "        min_samples_leaf = int(min_samples_leaf)\n",
    "        max_leaf_nodes = int(max_leaf_nodes)\n",
    "\n",
    "        # 랜덤 포레스트 모델 생성\n",
    "        rf_model = RandomForestRegressor(\n",
    "            n_estimators=n_estimators,\n",
    "            max_depth=max_depth,\n",
    "            min_samples_split=min_samples_split,\n",
    "            min_samples_leaf=min_samples_leaf,\n",
    "            max_leaf_nodes=max_leaf_nodes,\n",
    "            max_features='log2',  # log2로 설정하여 과적합 예방\n",
    "            random_state=42\n",
    "        )\n",
    "\n",
    "        # 모델 학습\n",
    "        rf_model.fit(X, y)\n",
    "\n",
    "        # 마지막 prediction_range_hours만큼의 데이터를 사용하여 예측\n",
    "        X_predict = X.iloc[-prediction_range_hours:]\n",
    "        predicted_values = rf_model.predict(X_predict)\n",
    "\n",
    "        return -predicted_values.mean()  # 목적 함수 최소화\n",
    "\n",
    "    # 베이지안 옵티마이제이션을 위한 탐색 공간 설정\n",
    "    pbounds = {\n",
    "        'n_estimators': (50, 300),\n",
    "        'max_depth': (5, 15),\n",
    "        'min_samples_split': (2, 20),\n",
    "        'min_samples_leaf': (1, 10),\n",
    "        'max_leaf_nodes': (10, 100)\n",
    "    }\n",
    "\n",
    "    # 베이지안 옵티마이제이션 수행\n",
    "    optimizer = BayesianOptimization(\n",
    "        f=rf_cv,\n",
    "        pbounds=pbounds,\n",
    "        random_state=42,\n",
    "        verbose=2\n",
    "    )\n",
    "\n",
    "    optimizer.maximize(init_points=5, n_iter=10)\n",
    "\n",
    "    # 최적의 하이퍼파라미터\n",
    "    best_params = optimizer.max['params']\n",
    "    best_params = {key: int(value) for key, value in best_params.items()}  # 정수형으로 변환\n",
    "\n",
    "    # 최적의 하이퍼파라미터로 랜덤 포레스트 모델 생성 및 학습\n",
    "    rf_model = RandomForestRegressor(**best_params, max_features='log2', random_state=42)\n",
    "    rf_model.fit(X, y)\n",
    "\n",
    "    # 마지막 prediction_range_hours만큼의 데이터를 사용하여 예측합니다.\n",
    "    X_predict = X.iloc[-prediction_range_hours:]\n",
    "    predicted_values = rf_model.predict(X_predict)\n",
    "    \n",
    "    # 예측값과 실제값 가져오기\n",
    "    actual_values = df[-prediction_range_hours:]['volatility'].values\n",
    "\n",
    "    # MAPE 계산\n",
    "    mape = mean_absolute_percentage_error(actual_values, predicted_values)\n",
    "\n",
    "    # 출력\n",
    "    print(\"Best MAPE:\", mape)\n",
    "    \n",
    "    return predicted_values, best_params\n",
    "\n",
    "# 사용 예시\n",
    "# predicted_values, best_params = predict_next_period_volatility(df91, prediction_range_hours=73)\n",
    "# print(\"Predicted values:\", predicted_values)\n",
    "# print(\"Best hyperparameters:\", best_params)\n"
   ]
  },
  {
   "cell_type": "code",
   "execution_count": 196,
   "id": "b3c66945-89d1-4015-83ba-944d1182d395",
   "metadata": {
    "tags": []
   },
   "outputs": [
    {
     "name": "stdout",
     "output_type": "stream",
     "text": [
      "|   iter    |  target   | max_depth | max_le... | min_sa... | min_sa... | n_esti... |\n",
      "-------------------------------------------------------------------------------------\n",
      "| \u001b[0m1        \u001b[0m | \u001b[0m-0.004181\u001b[0m | \u001b[0m8.745    \u001b[0m | \u001b[0m95.56    \u001b[0m | \u001b[0m7.588    \u001b[0m | \u001b[0m12.78    \u001b[0m | \u001b[0m89.0     \u001b[0m |\n",
      "| \u001b[0m2        \u001b[0m | \u001b[0m-0.004334\u001b[0m | \u001b[0m6.56     \u001b[0m | \u001b[0m15.23    \u001b[0m | \u001b[0m8.796    \u001b[0m | \u001b[0m12.82    \u001b[0m | \u001b[0m227.0    \u001b[0m |\n",
      "| \u001b[0m3        \u001b[0m | \u001b[0m-0.004376\u001b[0m | \u001b[0m5.206    \u001b[0m | \u001b[0m97.29    \u001b[0m | \u001b[0m8.492    \u001b[0m | \u001b[0m5.822    \u001b[0m | \u001b[0m95.46    \u001b[0m |\n",
      "| \u001b[0m4        \u001b[0m | \u001b[0m-0.004287\u001b[0m | \u001b[0m6.834    \u001b[0m | \u001b[0m37.38    \u001b[0m | \u001b[0m5.723    \u001b[0m | \u001b[0m9.775    \u001b[0m | \u001b[0m122.8    \u001b[0m |\n",
      "| \u001b[0m5        \u001b[0m | \u001b[0m-0.004296\u001b[0m | \u001b[0m11.12    \u001b[0m | \u001b[0m22.55    \u001b[0m | \u001b[0m3.629    \u001b[0m | \u001b[0m8.595    \u001b[0m | \u001b[0m164.0    \u001b[0m |\n",
      "| \u001b[95m6        \u001b[0m | \u001b[95m-0.004178\u001b[0m | \u001b[95m8.871    \u001b[0m | \u001b[95m72.2     \u001b[0m | \u001b[95m3.322    \u001b[0m | \u001b[95m16.98    \u001b[0m | \u001b[95m202.5    \u001b[0m |\n",
      "| \u001b[0m7        \u001b[0m | \u001b[0m-0.004312\u001b[0m | \u001b[0m14.06    \u001b[0m | \u001b[0m19.48    \u001b[0m | \u001b[0m2.325    \u001b[0m | \u001b[0m18.66    \u001b[0m | \u001b[0m242.7    \u001b[0m |\n",
      "| \u001b[0m8        \u001b[0m | \u001b[0m-0.004343\u001b[0m | \u001b[0m10.84    \u001b[0m | \u001b[0m14.3     \u001b[0m | \u001b[0m1.322    \u001b[0m | \u001b[0m3.881    \u001b[0m | \u001b[0m108.3    \u001b[0m |\n",
      "| \u001b[95m9        \u001b[0m | \u001b[95m-0.00414 \u001b[0m | \u001b[95m9.686    \u001b[0m | \u001b[95m99.37    \u001b[0m | \u001b[95m9.297    \u001b[0m | \u001b[95m9.773    \u001b[0m | \u001b[95m128.9    \u001b[0m |\n",
      "| \u001b[95m10       \u001b[0m | \u001b[95m-0.00413 \u001b[0m | \u001b[95m10.98    \u001b[0m | \u001b[95m70.8     \u001b[0m | \u001b[95m2.997    \u001b[0m | \u001b[95m17.97    \u001b[0m | \u001b[95m201.5    \u001b[0m |\n",
      "| \u001b[95m11       \u001b[0m | \u001b[95m-0.00413 \u001b[0m | \u001b[95m11.39    \u001b[0m | \u001b[95m71.79    \u001b[0m | \u001b[95m1.116    \u001b[0m | \u001b[95m17.28    \u001b[0m | \u001b[95m198.3    \u001b[0m |\n",
      "| \u001b[0m12       \u001b[0m | \u001b[0m-0.004139\u001b[0m | \u001b[0m14.12    \u001b[0m | \u001b[0m67.22    \u001b[0m | \u001b[0m6.146    \u001b[0m | \u001b[0m14.36    \u001b[0m | \u001b[0m199.6    \u001b[0m |\n",
      "| \u001b[0m13       \u001b[0m | \u001b[0m-0.004168\u001b[0m | \u001b[0m12.87    \u001b[0m | \u001b[0m63.58    \u001b[0m | \u001b[0m5.647    \u001b[0m | \u001b[0m19.07    \u001b[0m | \u001b[0m191.7    \u001b[0m |\n",
      "| \u001b[0m14       \u001b[0m | \u001b[0m-0.004161\u001b[0m | \u001b[0m12.05    \u001b[0m | \u001b[0m57.25    \u001b[0m | \u001b[0m1.473    \u001b[0m | \u001b[0m17.7     \u001b[0m | \u001b[0m202.9    \u001b[0m |\n",
      "| \u001b[0m15       \u001b[0m | \u001b[0m-0.004137\u001b[0m | \u001b[0m10.68    \u001b[0m | \u001b[0m88.92    \u001b[0m | \u001b[0m6.108    \u001b[0m | \u001b[0m19.35    \u001b[0m | \u001b[0m81.16    \u001b[0m |\n",
      "=====================================================================================\n",
      "Best MAPE: 0.15867877084762486\n",
      "Predicted values: [0.00481383 0.00467156 0.00470126 0.00437417 0.0042471  0.0041031\n",
      " 0.00416906 0.00392622 0.00389217 0.00392079 0.0036308  0.003479\n",
      " 0.00357902 0.00368112 0.00368309 0.00353545 0.00386433 0.00372889\n",
      " 0.00378182 0.00396721 0.00377975 0.00402857 0.00381187 0.00372462\n",
      " 0.00368273 0.00366913 0.00367533 0.0039051  0.00369203 0.00365227\n",
      " 0.00334952 0.00338581 0.0033953  0.00338052 0.00343597 0.00401183\n",
      " 0.00481923 0.00477377 0.00480801 0.00509282 0.0051798  0.00552395\n",
      " 0.00543991 0.00562369 0.00573581 0.00583565 0.00592695 0.00588524\n",
      " 0.00592501 0.00569789 0.0056525  0.00548558 0.00537874 0.00531251\n",
      " 0.00493141 0.00459605 0.00456761 0.00460955 0.00447128 0.00390828\n",
      " 0.00349457 0.00339633 0.00318922 0.00285389 0.00293126 0.00278226\n",
      " 0.00266508 0.00258925 0.00277192 0.00281272 0.002863   0.00283697\n",
      " 0.00276158]\n",
      "Best hyperparameters: {'max_depth': 11, 'max_leaf_nodes': 71, 'min_samples_leaf': 1, 'min_samples_split': 17, 'n_estimators': 198}\n"
     ]
    }
   ],
   "source": [
    "predicted_values_9, best_params_9 = predict_next_period_volatility(df91, prediction_range_hours=73)\n",
    "print(\"Predicted values:\", predicted_values_9)\n",
    "print(\"Best hyperparameters:\", best_params_9)\n"
   ]
  },
  {
   "cell_type": "code",
   "execution_count": 197,
   "id": "6a6299ba-2cd0-4d65-a00a-447fa29ddb57",
   "metadata": {
    "tags": []
   },
   "outputs": [
    {
     "data": {
      "text/plain": [
       "0.13999434663687726"
      ]
     },
     "execution_count": 197,
     "metadata": {},
     "output_type": "execute_result"
    }
   ],
   "source": [
    "mean_absolute_percentage_error(volatility_values[20:], predicted_values_9[20:])"
   ]
  },
  {
   "cell_type": "code",
   "execution_count": 3,
   "id": "55710561-dd38-41c1-bcb8-6f62da0ac471",
   "metadata": {
    "tags": []
   },
   "outputs": [],
   "source": [
    "import pandas as pd\n",
    "import numpy as np\n",
    "\n",
    "submission = pd.read_csv('[ASCENDxBDA] submission.csv')"
   ]
  },
  {
   "cell_type": "code",
   "execution_count": 4,
   "id": "b64e7db0-52a2-41ce-8bd1-e07bea161c89",
   "metadata": {
    "tags": []
   },
   "outputs": [
    {
     "data": {
      "text/html": [
       "<div>\n",
       "<style scoped>\n",
       "    .dataframe tbody tr th:only-of-type {\n",
       "        vertical-align: middle;\n",
       "    }\n",
       "\n",
       "    .dataframe tbody tr th {\n",
       "        vertical-align: top;\n",
       "    }\n",
       "\n",
       "    .dataframe thead th {\n",
       "        text-align: right;\n",
       "    }\n",
       "</style>\n",
       "<table border=\"1\" class=\"dataframe\">\n",
       "  <thead>\n",
       "    <tr style=\"text-align: right;\">\n",
       "      <th></th>\n",
       "      <th>Unnamed: 0</th>\n",
       "      <th>pred_volatility</th>\n",
       "    </tr>\n",
       "  </thead>\n",
       "  <tbody>\n",
       "    <tr>\n",
       "      <th>0</th>\n",
       "      <td>2024-01-28 0:00</td>\n",
       "      <td>0</td>\n",
       "    </tr>\n",
       "    <tr>\n",
       "      <th>1</th>\n",
       "      <td>2024-01-28 1:00</td>\n",
       "      <td>0</td>\n",
       "    </tr>\n",
       "    <tr>\n",
       "      <th>2</th>\n",
       "      <td>2024-01-28 2:00</td>\n",
       "      <td>0</td>\n",
       "    </tr>\n",
       "    <tr>\n",
       "      <th>3</th>\n",
       "      <td>2024-01-28 3:00</td>\n",
       "      <td>0</td>\n",
       "    </tr>\n",
       "    <tr>\n",
       "      <th>4</th>\n",
       "      <td>2024-01-28 4:00</td>\n",
       "      <td>0</td>\n",
       "    </tr>\n",
       "    <tr>\n",
       "      <th>...</th>\n",
       "      <td>...</td>\n",
       "      <td>...</td>\n",
       "    </tr>\n",
       "    <tr>\n",
       "      <th>68</th>\n",
       "      <td>2024-01-30 20:00</td>\n",
       "      <td>0</td>\n",
       "    </tr>\n",
       "    <tr>\n",
       "      <th>69</th>\n",
       "      <td>2024-01-30 21:00</td>\n",
       "      <td>0</td>\n",
       "    </tr>\n",
       "    <tr>\n",
       "      <th>70</th>\n",
       "      <td>2024-01-30 22:00</td>\n",
       "      <td>0</td>\n",
       "    </tr>\n",
       "    <tr>\n",
       "      <th>71</th>\n",
       "      <td>2024-01-30 23:00</td>\n",
       "      <td>0</td>\n",
       "    </tr>\n",
       "    <tr>\n",
       "      <th>72</th>\n",
       "      <td>2024-01-31 0:00</td>\n",
       "      <td>0</td>\n",
       "    </tr>\n",
       "  </tbody>\n",
       "</table>\n",
       "<p>73 rows × 2 columns</p>\n",
       "</div>"
      ],
      "text/plain": [
       "          Unnamed: 0  pred_volatility\n",
       "0    2024-01-28 0:00                0\n",
       "1    2024-01-28 1:00                0\n",
       "2    2024-01-28 2:00                0\n",
       "3    2024-01-28 3:00                0\n",
       "4    2024-01-28 4:00                0\n",
       "..               ...              ...\n",
       "68  2024-01-30 20:00                0\n",
       "69  2024-01-30 21:00                0\n",
       "70  2024-01-30 22:00                0\n",
       "71  2024-01-30 23:00                0\n",
       "72   2024-01-31 0:00                0\n",
       "\n",
       "[73 rows x 2 columns]"
      ]
     },
     "execution_count": 4,
     "metadata": {},
     "output_type": "execute_result"
    }
   ],
   "source": [
    "submission"
   ]
  },
  {
   "cell_type": "code",
   "execution_count": 7,
   "id": "d54fcb72-902e-4382-a6e0-bc5f14121b3f",
   "metadata": {
    "tags": []
   },
   "outputs": [
    {
     "ename": "SyntaxError",
     "evalue": "invalid syntax. Perhaps you forgot a comma? (3527840333.py, line 1)",
     "output_type": "error",
     "traceback": [
      "\u001b[0;36m  Cell \u001b[0;32mIn[7], line 1\u001b[0;36m\u001b[0m\n\u001b[0;31m    Predicted_values = [0.00481383 0.00467156 0.00470126 0.00437417 0.0042471  0.0041031\u001b[0m\n\u001b[0m                        ^\u001b[0m\n\u001b[0;31mSyntaxError\u001b[0m\u001b[0;31m:\u001b[0m invalid syntax. Perhaps you forgot a comma?\n"
     ]
    }
   ],
   "source": [
    "Predicted_values = [0.00481383 0.00467156 0.00470126 0.00437417 0.0042471  0.0041031\n",
    " 0.00416906 0.00392622 0.00389217 0.00392079 0.0036308  0.003479\n",
    " 0.00357902 0.00368112 0.00368309 0.00353545 0.00386433 0.00372889\n",
    " 0.00378182 0.00396721 0.00377975 0.00402857 0.00381187 0.00372462\n",
    " 0.00368273 0.00366913 0.00367533 0.0039051  0.00369203 0.00365227\n",
    " 0.00334952 0.00338581 0.0033953  0.00338052 0.00343597 0.00401183\n",
    " 0.00481923 0.00477377 0.00480801 0.00509282 0.0051798  0.00552395\n",
    " 0.00543991 0.00562369 0.00573581 0.00583565 0.00592695 0.00588524\n",
    " 0.00592501 0.00569789 0.0056525  0.00548558 0.00537874 0.00531251\n",
    " 0.00493141 0.00459605 0.00456761 0.00460955 0.00447128 0.00390828\n",
    " 0.00349457 0.00339633 0.00318922 0.00285389 0.00293126 0.00278226\n",
    " 0.00266508 0.00258925 0.00277192 0.00281272 0.002863   0.00283697\n",
    " 0.00276158]"
   ]
  },
  {
   "cell_type": "code",
   "execution_count": null,
   "id": "d9399fff-57dd-4c19-9973-c7c6f49a3602",
   "metadata": {},
   "outputs": [],
   "source": []
  }
 ],
 "metadata": {
  "kernelspec": {
   "display_name": "Python 3 (ipykernel)",
   "language": "python",
   "name": "python3"
  },
  "language_info": {
   "codemirror_mode": {
    "name": "ipython",
    "version": 3
   },
   "file_extension": ".py",
   "mimetype": "text/x-python",
   "name": "python",
   "nbconvert_exporter": "python",
   "pygments_lexer": "ipython3",
   "version": "3.11.4"
  }
 },
 "nbformat": 4,
 "nbformat_minor": 5
}
