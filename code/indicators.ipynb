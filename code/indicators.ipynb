{
 "cells": [
  {
   "cell_type": "markdown",
   "id": "286ee579-5c51-4aad-884d-910a3225e96e",
   "metadata": {},
   "source": [
    "## btc_price_with_indicators"
   ]
  },
  {
   "cell_type": "code",
   "execution_count": 4,
   "id": "69ac58d8-cf11-47a3-afca-c868c86e7c1f",
   "metadata": {
    "tags": []
   },
   "outputs": [],
   "source": [
    "import pandas as pd\n",
    "import numpy as np\n",
    "\n",
    "# 데이터 불러오기, 시계열데이터로 변환\n",
    "df=pd.read_csv('../data/BIT_2023_1차.csv')\n",
    "df.set_index('time', inplace=True)\n",
    "df.index=pd.to_datetime(df.index)"
   ]
  },
  {
   "cell_type": "code",
   "execution_count": 5,
   "id": "559326cd-55c0-4740-94fa-477bf21f13f5",
   "metadata": {
    "tags": []
   },
   "outputs": [],
   "source": [
    "# MACD 함수\n",
    "def MACD(df, short_window, long_window, signal_window):\n",
    "    \n",
    "    df[f'Short_MA_{short_window}'] = df['Close'].ewm(span=short_window, adjust=False).mean()\n",
    "    df[f'Long_MA_{long_window}'] = df['Close'].ewm(span=long_window, adjust=False).mean()\n",
    "    df[f'MACD_{short_window}{long_window}'] = df[f'Short_MA_{short_window}'] - df[f'Long_MA_{long_window}']\n",
    "    df[f'Signal_Line_{signal_window}'] = df[f'MACD_{short_window}{long_window}'].ewm(span=signal_window, adjust=False).mean()\n",
    "    df[f'MACD_Oscillator{short_window}{long_window}'] = df[f'MACD_{short_window}{long_window}'] - df[f'Signal_Line_{signal_window}']\n",
    "    \n",
    "# Stochastic Oscillator 함수\n",
    "def cal_stoc_os(df, period=14, m=3): # period = 14 or 20\n",
    "    \n",
    "    # 최근 N일간의 최고가(H)와 최저가(L)\n",
    "    df['highest_high'] = df['High'].rolling(window=period).max()\n",
    "    df['lowest_low'] = df['Low'].rolling(window=period).min()\n",
    "    \n",
    "    # %K 계산\n",
    "    df['%K'] = (df['Close'] - df['lowest_low']) / (df['highest_high'] - df['lowest_low']) * 100\n",
    "    \n",
    "    # %D 계산\n",
    "    df['%D'] = df['%K'].rolling(m).mean()\n",
    "    \n",
    "# ATR 함수\n",
    "def calculate_atr(df, period=14):\n",
    "    # True Range 계산\n",
    "    df['high-low'] = df['High'] - df['Low']\n",
    "    df['high-close'] = abs(df['High'] - df['Close'].shift())\n",
    "    df['low-close'] = abs(df['Low'] - df['Close'].shift())\n",
    "    \n",
    "    df['true_range'] = df[['high-low', 'high-close', 'low-close']].max(axis=1)\n",
    "    \n",
    "    # ATR 계산\n",
    "    df['atr'] = df['true_range'].rolling(window=period, min_periods=1).mean()\n",
    "    \n",
    "    # 임시 열 삭제\n",
    "    df.drop(['high-low', 'high-close', 'low-close', 'true_range'], axis=1, inplace=True)\n",
    "\n",
    "def bollinger_bands(df, window=20, num_std_dev=2):\n",
    "    \n",
    "    # 이동평균 계산\n",
    "    df['rolling_mean'] = df['price'].rolling(window=window).mean()\n",
    "\n",
    "    # 표준편차 계산\n",
    "    df['rolling_std'] = df['price'].rolling(window=window).std()\n",
    "\n",
    "    # 볼린저 밴드 상단 및 하단 계산\n",
    "    df['upper_band'] = df['rolling_mean'] + (num_std_dev * df['rolling_std'])\n",
    "    df['lower_band'] = df['rolling_mean'] - (num_std_dev * df['rolling_std'])\n",
    "\n",
    "    # 필요없는 컬럼 삭제\n",
    "    df.drop(['rolling_mean', 'rolling_std'], axis=1, inplace=True)"
   ]
  },
  {
   "cell_type": "code",
   "execution_count": 6,
   "id": "b071e588-a606-4b65-894f-e840ceca9d95",
   "metadata": {
    "tags": []
   },
   "outputs": [],
   "source": [
    "MACD(df, 6, 13, 4) #단기추세 감지 but 노이즈에 민감할 가능성 있음\n",
    "MACD(df, 12, 26, 9) #일반적인 window 계수 but 변동성이 큰 시장에선 느리게 반응할 수 있음\n",
    "calculate_atr(df)\n",
    "cal_stoc_os(df)\n",
    "bollinger_bands(df)"
   ]
  },
  {
   "cell_type": "code",
   "execution_count": 7,
   "id": "cc41cc0e-cb04-4ba5-8329-ccaf2f5a0610",
   "metadata": {
    "tags": []
   },
   "outputs": [
    {
     "data": {
      "text/plain": [
       "Index(['Open', 'High', 'Low', 'Close', 'Volume', 'returns', 'volatility',\n",
       "       'price', 'quote_qty', 'is_buyer_maker', 'quote_qty_cal', 'Short_MA_6',\n",
       "       'Long_MA_13', 'MACD_613', 'Signal_Line_4', 'MACD_Oscillator613',\n",
       "       'Short_MA_12', 'Long_MA_26', 'MACD_1226', 'Signal_Line_9',\n",
       "       'MACD_Oscillator1226', 'atr', 'highest_high', 'lowest_low', '%K', '%D',\n",
       "       'upper_band', 'lower_band'],\n",
       "      dtype='object')"
      ]
     },
     "execution_count": 7,
     "metadata": {},
     "output_type": "execute_result"
    }
   ],
   "source": [
    "df.columns"
   ]
  },
  {
   "cell_type": "code",
   "execution_count": 11,
   "id": "0733672e-17bc-4756-8196-032712498283",
   "metadata": {
    "tags": []
   },
   "outputs": [],
   "source": [
    "df.to_csv('../data/BIT_2023_2차.csv', encoding = 'utf-8-sig')"
   ]
  }
 ],
 "metadata": {
  "kernelspec": {
   "display_name": "Python 3 (ipykernel)",
   "language": "python",
   "name": "python3"
  },
  "language_info": {
   "codemirror_mode": {
    "name": "ipython",
    "version": 3
   },
   "file_extension": ".py",
   "mimetype": "text/x-python",
   "name": "python",
   "nbconvert_exporter": "python",
   "pygments_lexer": "ipython3",
   "version": "3.11.4"
  }
 },
 "nbformat": 4,
 "nbformat_minor": 5
}
