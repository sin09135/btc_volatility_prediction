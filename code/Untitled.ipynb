{
 "cells": [
  {
   "cell_type": "code",
   "execution_count": null,
   "id": "337d7fdc-df80-48ef-be2e-82c8d5129c16",
   "metadata": {},
   "outputs": [],
   "source": [
    "# auto_arima\n",
    "df_returns_v = df['volatility'].dropna()\n",
    "autoarima_model = pm.auto_arima(df_returns_v, suppress_warnings=True)\n",
    "print(autoarima_model)\n",
    "\n",
    "# 결측치 보간을 위한 ARIMA 모델 훈련 함수\n",
    "\n",
    "def interpolate_arima(data, order):\n",
    "    \n",
    "    # 결측치 보간 전 ARIMA 모델 훈련\n",
    "    model = sm.tsa.ARIMA(data.dropna(), order=order)  # p, d, q는 ARIMA 모델의 차수\n",
    "    results = model.fit()\n",
    "\n",
    "\n",
    "    # 보간할 결측치 선택\n",
    "    missing_indices = data[data.isnull()].index\n",
    "\n",
    "    # 결측치 보간\n",
    "    for idx in missing_indices:\n",
    "        # ARIMA 모델을 사용하여 결측치 예측\n",
    "        predicted_value = results.get_forecast(steps=1).predicted_mean.iloc[0]  # 예측 결과의 첫 번째 값을 사용\n",
    "\n",
    "        # 결측치 보간\n",
    "        data[idx] = predicted_value\n",
    "\n",
    "\n",
    "\n",
    "        # 시계열 데이터에 대한 결측치 보간\n",
    "interpolate_arima(df['volatility'], (0, 1, 1))"
   ]
  }
 ],
 "metadata": {
  "kernelspec": {
   "display_name": "Python 3 (ipykernel)",
   "language": "python",
   "name": "python3"
  },
  "language_info": {
   "codemirror_mode": {
    "name": "ipython",
    "version": 3
   },
   "file_extension": ".py",
   "mimetype": "text/x-python",
   "name": "python",
   "nbconvert_exporter": "python",
   "pygments_lexer": "ipython3",
   "version": "3.11.4"
  }
 },
 "nbformat": 4,
 "nbformat_minor": 5
}
