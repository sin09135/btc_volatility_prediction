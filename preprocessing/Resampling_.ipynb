{
 "cells": [
  {
   "cell_type": "markdown",
   "id": "19d1de69-390e-4c1f-8d24-1d26e380866b",
   "metadata": {
    "tags": []
   },
   "source": [
    "## Create Monthly Hourly Resampled Data_2"
   ]
  },
  {
   "cell_type": "markdown",
   "id": "4ddf5ae0-2046-4d1e-9e45-449c511ac861",
   "metadata": {},
   "source": [
    "- Individual Resampling due to Memory Constraints"
   ]
  },
  {
   "cell_type": "code",
   "execution_count": 1,
   "id": "742ca718-1250-487d-a405-65dbe08bbd42",
   "metadata": {
    "tags": []
   },
   "outputs": [],
   "source": [
    "import pandas as pd\n",
    "\n",
    "PATH = '../data/BTCUSDT-trades-2023-'\n",
    "\n",
    "data = pd.read_csv(PATH + '10.csv', usecols=['time', 'price', 'quote_qty', 'is_buyer_maker'])\n",
    "\n",
    "# 'time' column to datetime format\n",
    "data['time'] = pd.to_datetime(data['time'], unit='ms')\n",
    "\n",
    "# Resample data\n",
    "pqi = data.resample('1H', on='time').agg({\n",
    "    'price': 'mean',\n",
    "    'quote_qty': 'std',\n",
    "    'is_buyer_maker': 'sum'\n",
    "})\n",
    "\n",
    "# Reset index\n",
    "pqi = pqi.reset_index()\n",
    "\n",
    "# Save the result to a CSV file\n",
    "pqi.to_csv('../data/BTC_resample_10.csv', index=False, encoding='utf-8-sig')"
   ]
  },
  {
   "cell_type": "markdown",
   "id": "4ef13dfe-bcc5-48b5-a929-bca4a4c367f3",
   "metadata": {},
   "source": [
    "- Concatenate Files for September to December"
   ]
  },
  {
   "cell_type": "code",
   "execution_count": 5,
   "id": "14551e7c-7b97-411f-84ac-0d7d7c17e0aa",
   "metadata": {},
   "outputs": [
    {
     "data": {
      "text/html": [
       "<div>\n",
       "<style scoped>\n",
       "    .dataframe tbody tr th:only-of-type {\n",
       "        vertical-align: middle;\n",
       "    }\n",
       "\n",
       "    .dataframe tbody tr th {\n",
       "        vertical-align: top;\n",
       "    }\n",
       "\n",
       "    .dataframe thead th {\n",
       "        text-align: right;\n",
       "    }\n",
       "</style>\n",
       "<table border=\"1\" class=\"dataframe\">\n",
       "  <thead>\n",
       "    <tr style=\"text-align: right;\">\n",
       "      <th></th>\n",
       "      <th>time</th>\n",
       "      <th>price</th>\n",
       "      <th>quote_qty</th>\n",
       "      <th>is_buyer_maker</th>\n",
       "    </tr>\n",
       "  </thead>\n",
       "  <tbody>\n",
       "    <tr>\n",
       "      <th>0</th>\n",
       "      <td>2023-09-01 00:00:00</td>\n",
       "      <td>25998.922245</td>\n",
       "      <td>9071.287840</td>\n",
       "      <td>38493</td>\n",
       "    </tr>\n",
       "    <tr>\n",
       "      <th>1</th>\n",
       "      <td>2023-09-01 01:00:00</td>\n",
       "      <td>25992.438113</td>\n",
       "      <td>17323.335999</td>\n",
       "      <td>35165</td>\n",
       "    </tr>\n",
       "    <tr>\n",
       "      <th>2</th>\n",
       "      <td>2023-09-01 02:00:00</td>\n",
       "      <td>26032.346499</td>\n",
       "      <td>15488.880027</td>\n",
       "      <td>31919</td>\n",
       "    </tr>\n",
       "    <tr>\n",
       "      <th>3</th>\n",
       "      <td>2023-09-01 03:00:00</td>\n",
       "      <td>26053.253665</td>\n",
       "      <td>8552.732634</td>\n",
       "      <td>23689</td>\n",
       "    </tr>\n",
       "    <tr>\n",
       "      <th>4</th>\n",
       "      <td>2023-09-01 04:00:00</td>\n",
       "      <td>26052.753551</td>\n",
       "      <td>6628.824384</td>\n",
       "      <td>26118</td>\n",
       "    </tr>\n",
       "  </tbody>\n",
       "</table>\n",
       "</div>"
      ],
      "text/plain": [
       "                  time         price     quote_qty  is_buyer_maker\n",
       "0  2023-09-01 00:00:00  25998.922245   9071.287840           38493\n",
       "1  2023-09-01 01:00:00  25992.438113  17323.335999           35165\n",
       "2  2023-09-01 02:00:00  26032.346499  15488.880027           31919\n",
       "3  2023-09-01 03:00:00  26053.253665   8552.732634           23689\n",
       "4  2023-09-01 04:00:00  26052.753551   6628.824384           26118"
      ]
     },
     "execution_count": 5,
     "metadata": {},
     "output_type": "execute_result"
    }
   ],
   "source": [
    "PATH = '../data/BTC_resample_'\n",
    "\n",
    "months = ['09', '10', '11', '12']  # Assuming you want to concatenate files for these months\n",
    "dfs = []\n",
    "\n",
    "for month in months:\n",
    "    df = pd.read_csv(f'{PATH}{month}.csv')  # Use f-string to include the month variable\n",
    "    dfs.append(df)\n",
    "\n",
    "# Concatenate the DataFrames into a single DataFrame\n",
    "result = pd.concat(dfs, ignore_index=True)\n",
    "\n",
    "result.head()"
   ]
  },
  {
   "cell_type": "code",
   "execution_count": 6,
   "id": "25fa2b5a-33a7-4454-83e8-bcd45260f912",
   "metadata": {
    "tags": []
   },
   "outputs": [
    {
     "name": "stdout",
     "output_type": "stream",
     "text": [
      "<class 'pandas.core.frame.DataFrame'>\n",
      "RangeIndex: 2928 entries, 0 to 2927\n",
      "Data columns (total 4 columns):\n",
      " #   Column          Non-Null Count  Dtype  \n",
      "---  ------          --------------  -----  \n",
      " 0   time            2928 non-null   object \n",
      " 1   price           2923 non-null   float64\n",
      " 2   quote_qty       2923 non-null   float64\n",
      " 3   is_buyer_maker  2928 non-null   int64  \n",
      "dtypes: float64(2), int64(1), object(1)\n",
      "memory usage: 91.6+ KB\n"
     ]
    }
   ],
   "source": [
    "result.info()"
   ]
  },
  {
   "cell_type": "code",
   "execution_count": 7,
   "id": "bf576321-edfa-4495-b1a5-58f752bcf2a4",
   "metadata": {
    "tags": []
   },
   "outputs": [
    {
     "data": {
      "text/html": [
       "<div>\n",
       "<style scoped>\n",
       "    .dataframe tbody tr th:only-of-type {\n",
       "        vertical-align: middle;\n",
       "    }\n",
       "\n",
       "    .dataframe tbody tr th {\n",
       "        vertical-align: top;\n",
       "    }\n",
       "\n",
       "    .dataframe thead th {\n",
       "        text-align: right;\n",
       "    }\n",
       "</style>\n",
       "<table border=\"1\" class=\"dataframe\">\n",
       "  <thead>\n",
       "    <tr style=\"text-align: right;\">\n",
       "      <th></th>\n",
       "      <th>time</th>\n",
       "      <th>price</th>\n",
       "      <th>quote_qty</th>\n",
       "      <th>is_buyer_maker</th>\n",
       "    </tr>\n",
       "  </thead>\n",
       "  <tbody>\n",
       "    <tr>\n",
       "      <th>0</th>\n",
       "      <td>2023-09-01 00:00:00</td>\n",
       "      <td>25998.922245</td>\n",
       "      <td>9071.287840</td>\n",
       "      <td>38493</td>\n",
       "    </tr>\n",
       "    <tr>\n",
       "      <th>1</th>\n",
       "      <td>2023-09-01 01:00:00</td>\n",
       "      <td>25992.438113</td>\n",
       "      <td>17323.335999</td>\n",
       "      <td>35165</td>\n",
       "    </tr>\n",
       "    <tr>\n",
       "      <th>2</th>\n",
       "      <td>2023-09-01 02:00:00</td>\n",
       "      <td>26032.346499</td>\n",
       "      <td>15488.880027</td>\n",
       "      <td>31919</td>\n",
       "    </tr>\n",
       "    <tr>\n",
       "      <th>3</th>\n",
       "      <td>2023-09-01 03:00:00</td>\n",
       "      <td>26053.253665</td>\n",
       "      <td>8552.732634</td>\n",
       "      <td>23689</td>\n",
       "    </tr>\n",
       "    <tr>\n",
       "      <th>4</th>\n",
       "      <td>2023-09-01 04:00:00</td>\n",
       "      <td>26052.753551</td>\n",
       "      <td>6628.824384</td>\n",
       "      <td>26118</td>\n",
       "    </tr>\n",
       "  </tbody>\n",
       "</table>\n",
       "</div>"
      ],
      "text/plain": [
       "                  time         price     quote_qty  is_buyer_maker\n",
       "0  2023-09-01 00:00:00  25998.922245   9071.287840           38493\n",
       "1  2023-09-01 01:00:00  25992.438113  17323.335999           35165\n",
       "2  2023-09-01 02:00:00  26032.346499  15488.880027           31919\n",
       "3  2023-09-01 03:00:00  26053.253665   8552.732634           23689\n",
       "4  2023-09-01 04:00:00  26052.753551   6628.824384           26118"
      ]
     },
     "execution_count": 7,
     "metadata": {},
     "output_type": "execute_result"
    }
   ],
   "source": [
    "result.head()"
   ]
  },
  {
   "cell_type": "code",
   "execution_count": 8,
   "id": "c33f7097-485b-4a92-858d-ef0ddceb790c",
   "metadata": {
    "tags": []
   },
   "outputs": [],
   "source": [
    "result.to_csv('../data/BIT_2023_9101112.csv', index=False, encoding='utf-8-sig')"
   ]
  }
 ],
 "metadata": {
  "kernelspec": {
   "display_name": "Python 3 (ipykernel)",
   "language": "python",
   "name": "python3"
  },
  "language_info": {
   "codemirror_mode": {
    "name": "ipython",
    "version": 3
   },
   "file_extension": ".py",
   "mimetype": "text/x-python",
   "name": "python",
   "nbconvert_exporter": "python",
   "pygments_lexer": "ipython3",
   "version": "3.11.4"
  }
 },
 "nbformat": 4,
 "nbformat_minor": 5
}
