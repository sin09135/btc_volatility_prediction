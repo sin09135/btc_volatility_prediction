{
 "cells": [
  {
   "cell_type": "code",
   "execution_count": 1,
   "id": "0b0a65ac-3bc7-43ed-b449-058f6a04d54b",
   "metadata": {
    "tags": []
   },
   "outputs": [
    {
     "data": {
      "text/html": [
       "<div>\n",
       "<style scoped>\n",
       "    .dataframe tbody tr th:only-of-type {\n",
       "        vertical-align: middle;\n",
       "    }\n",
       "\n",
       "    .dataframe tbody tr th {\n",
       "        vertical-align: top;\n",
       "    }\n",
       "\n",
       "    .dataframe thead th {\n",
       "        text-align: right;\n",
       "    }\n",
       "</style>\n",
       "<table border=\"1\" class=\"dataframe\">\n",
       "  <thead>\n",
       "    <tr style=\"text-align: right;\">\n",
       "      <th></th>\n",
       "      <th>id</th>\n",
       "      <th>price</th>\n",
       "      <th>qty</th>\n",
       "      <th>quote_qty</th>\n",
       "      <th>time</th>\n",
       "      <th>is_buyer_maker</th>\n",
       "    </tr>\n",
       "  </thead>\n",
       "  <tbody>\n",
       "    <tr>\n",
       "      <th>0</th>\n",
       "      <td>3520593365</td>\n",
       "      <td>28454.8</td>\n",
       "      <td>0.009</td>\n",
       "      <td>256.0932</td>\n",
       "      <td>1680307200158</td>\n",
       "      <td>True</td>\n",
       "    </tr>\n",
       "    <tr>\n",
       "      <th>1</th>\n",
       "      <td>3610094716</td>\n",
       "      <td>27494.1</td>\n",
       "      <td>0.001</td>\n",
       "      <td>27.4941</td>\n",
       "      <td>1682384979351</td>\n",
       "      <td>False</td>\n",
       "    </tr>\n",
       "    <tr>\n",
       "      <th>2</th>\n",
       "      <td>3520593366</td>\n",
       "      <td>28454.8</td>\n",
       "      <td>0.027</td>\n",
       "      <td>768.2796</td>\n",
       "      <td>1680307200165</td>\n",
       "      <td>True</td>\n",
       "    </tr>\n",
       "    <tr>\n",
       "      <th>3</th>\n",
       "      <td>3610094717</td>\n",
       "      <td>27494.1</td>\n",
       "      <td>0.041</td>\n",
       "      <td>1127.2581</td>\n",
       "      <td>1682384979445</td>\n",
       "      <td>False</td>\n",
       "    </tr>\n",
       "    <tr>\n",
       "      <th>4</th>\n",
       "      <td>3520593367</td>\n",
       "      <td>28454.8</td>\n",
       "      <td>0.005</td>\n",
       "      <td>142.2740</td>\n",
       "      <td>1680307200165</td>\n",
       "      <td>True</td>\n",
       "    </tr>\n",
       "  </tbody>\n",
       "</table>\n",
       "</div>"
      ],
      "text/plain": [
       "           id    price    qty  quote_qty           time  is_buyer_maker\n",
       "0  3520593365  28454.8  0.009   256.0932  1680307200158            True\n",
       "1  3610094716  27494.1  0.001    27.4941  1682384979351           False\n",
       "2  3520593366  28454.8  0.027   768.2796  1680307200165            True\n",
       "3  3610094717  27494.1  0.041  1127.2581  1682384979445           False\n",
       "4  3520593367  28454.8  0.005   142.2740  1680307200165            True"
      ]
     },
     "execution_count": 1,
     "metadata": {},
     "output_type": "execute_result"
    }
   ],
   "source": [
    "import pandas as pd\n",
    "\n",
    "PATH = '../data/BTCUSDT-trades-2023-'\n",
    "data = pd.read_csv(PATH + '04.csv')\n",
    "data.head()"
   ]
  },
  {
   "cell_type": "code",
   "execution_count": 2,
   "id": "369acb4d-3cb0-4a2f-804b-963212c7d443",
   "metadata": {
    "tags": []
   },
   "outputs": [],
   "source": [
    "def convert_tick_to_ohlcv(data):\n",
    "    \"\"\"\n",
    "    Converts given Binance tick data into 1-hour interval OHLCV (Open, High, Low, Close, Volume) data.\n",
    "    :param data: DataFrame with Tick data\n",
    "    :return: DataFrame with the Open, High, Low, Close, Volume values\n",
    "    \"\"\"\n",
    "\n",
    "    data['time'] = pd.to_datetime(data['time'], unit='ms')\n",
    "    ohlcv = data.resample('1H', on='time').agg({\n",
    "        'price': ['first', 'max', 'min', 'last'],\n",
    "        'qty': 'sum',\n",
    "        \n",
    "})\n",
    "\n",
    "    ohlcv.columns = ['Open', 'High', 'Low', 'Close', 'Volume']\n",
    "    return ohlcv\n",
    "\n",
    "def calculate_volatility(data, window=20):\n",
    "    \"\"\"\n",
    "    Calculate the rolling volatility using the standard deviation of returns.\n",
    "    :param data: DataFrame with OHLCV data\n",
    "    :param window: The number of periods to use for calculating the standard deviation\n",
    "    :return: DataFrame with the volatility values\n",
    "    \"\"\"\n",
    "\n",
    "    # Calculate daily returns\n",
    "    data['returns'] = data['Close'].pct_change()\n",
    "\n",
    "    # Calculate the rolling standard deviation of returns\n",
    "    data['volatility'] = data['returns'].rolling(window=window).std()\n",
    "\n",
    "    return data"
   ]
  },
  {
   "cell_type": "markdown",
   "id": "fa457d32-790a-4d96-abe0-eeb0595301c4",
   "metadata": {},
   "source": [
    "- convert_tick_to_ohlcv 함수:\n",
    "주어진 Binance 틱 데이터를 받아서 1시간 간격으로 리샘플링하여 OHLCV 데이터로 변환합니다.\n",
    "틱 데이터의 'time' 열을 밀리초 단위에서 일반적인 날짜 및 시간 형식으로 변환합니다.\n",
    "'price' 열의 첫 번째 값(Open), 최대 값(High), 최소 값(Low), 마지막 값(Close)을 계산하고, 'qty' 열은 합산하여 Volume을 계산합니다.\n",
    "최종적으로 'Open', 'High', 'Low', 'Close', 'Volume'으로 구성된 DataFrame을 반환합니다.\n",
    "\n",
    "- calculate_volatility 함수:\n",
    "OHLCV 데이터를 받아서 주어진 기간(window)에 대한 변동성을 계산합니다. 기본값은 20일입니다.\n",
    "'Close' 가격의 일일 수익률을 계산합니다. (pct_change() 메서드를 사용하여 전일 대비 변화율을 계산)\n",
    "계산된 일일 수익률을 이용하여 이동 표준 편차(rolling standard deviation)를 계산합니다. (rolling(window=window).std() 메서드를 사용하여 이동 표준 편차를 계산)\n",
    "계산된 변동성 값을 'volatility' 열에 추가합니다.\n",
    "최종적으로 변동성이 추가된 DataFrame을 반환합니다."
   ]
  },
  {
   "cell_type": "code",
   "execution_count": null,
   "id": "fa7b282e-9ffb-4936-b970-b3a66472def6",
   "metadata": {
    "tags": []
   },
   "outputs": [],
   "source": [
    "import pandas as pd\n",
    "\n",
    "PATH = '../data/BTCUSDT-trades-2023-'\n",
    "data = pd.read_csv(PATH + '04.csv')\n",
    "data.head()\n",
    "\n",
    "def convert_tick_to_ohlcv(data):\n",
    "    \"\"\"\n",
    "    Converts given Binance tick data into 1-hour interval OHLCV (Open, High, Low, Close, Volume) data.\n",
    "    :param data: DataFrame with Tick data\n",
    "    :return: DataFrame with the Open, High, Low, Close, Volume values\n",
    "    \"\"\"\n",
    "\n",
    "    data['time'] = pd.to_datetime(data['time'], unit='ms')\n",
    "    ohlcv = data.resample('1H', on='time').agg({\n",
    "        'price': ['first', 'max', 'min', 'last'],\n",
    "        'qty': 'sum'\n",
    "})\n",
    "\n",
    "    ohlcv.columns = ['Open', 'High', 'Low', 'Close', 'Volume']\n",
    "    return ohlcv\n",
    "\n",
    "def calculate_volatility(data, window=20):\n",
    "    \"\"\"\n",
    "    Calculate the rolling volatility using the standard deviation of returns.\n",
    "    :param data: DataFrame with OHLCV data\n",
    "    :param window: The number of periods to use for calculating the standard deviation\n",
    "    :return: DataFrame with the volatility values\n",
    "    \"\"\"\n",
    "\n",
    "    # Calculate daily returns\n",
    "    data['returns'] = data['Close'].pct_change()\n",
    "\n",
    "    # Calculate the rolling standard deviation of returns\n",
    "    data['volatility'] = data['returns'].rolling(window=window).std()\n",
    "\n",
    "    return data\n",
    "\n",
    "ohlcv_data = convert_tick_to_ohlcv(data)\n",
    "volatility_data = calculate_volatility(ohlcv_data)\n",
    "volatility_data = volatility_data.reset_index()\n",
    "volatility_data.to_csv('../data/BIT_202304.csv', index = False, encoding = 'utf-8-sig')"
   ]
  },
  {
   "cell_type": "code",
   "execution_count": null,
   "id": "6fecbeef-5727-4f5d-84f7-5007f6f6dc1f",
   "metadata": {
    "tags": []
   },
   "outputs": [],
   "source": [
    "volatility_data = volatility_data.reset_index()"
   ]
  },
  {
   "cell_type": "code",
   "execution_count": null,
   "id": "8d07b68a-6e9c-4308-8822-607d8c20bea6",
   "metadata": {
    "tags": []
   },
   "outputs": [],
   "source": [
    "volatility_data.to_csv('../data/BIT_202304.csv', index = False, encoding = 'utf-8-sig')"
   ]
  }
 ],
 "metadata": {
  "kernelspec": {
   "display_name": "Python 3 (ipykernel)",
   "language": "python",
   "name": "python3"
  },
  "language_info": {
   "codemirror_mode": {
    "name": "ipython",
    "version": 3
   },
   "file_extension": ".py",
   "mimetype": "text/x-python",
   "name": "python",
   "nbconvert_exporter": "python",
   "pygments_lexer": "ipython3",
   "version": "3.11.4"
  }
 },
 "nbformat": 4,
 "nbformat_minor": 5
}
