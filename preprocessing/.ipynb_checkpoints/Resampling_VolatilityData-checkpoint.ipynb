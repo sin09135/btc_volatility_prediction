{
 "cells": [
  {
   "cell_type": "markdown",
   "id": "5f3a9ad1-21d4-44df-b189-f81c0cb79f0b",
   "metadata": {},
   "source": [
    "## Create Monthly Hourly Resampled Data_1\n",
    "- volatility"
   ]
  },
  {
   "cell_type": "code",
   "execution_count": 1,
   "id": "9d25cbd9-e411-4c5d-b625-199c153ae68d",
   "metadata": {
    "tags": []
   },
   "outputs": [],
   "source": [
    "import pandas as pd\n",
    "\n",
    "PATH = '../data/BTCUSDT-trades-2023-'\n",
    "\n",
    "# Tick 데이터 읽기 시 메모리 최적화\n",
    "data = pd.read_csv(PATH + '06.csv', dtype={'time': 'int', 'price': 'float', 'qty': 'float'})\n",
    "def convert_tick_to_ohlcv(data):\n",
    "    \"\"\"\n",
    "    Binance 틱 데이터를 1시간 간격 OHLCV (Open, High, Low, Close, Volume) 데이터로 변환합니다.\n",
    "    :param data: 틱 데이터를 담고 있는 DataFrame\n",
    "    :return: Open, High, Low, Close, Volume 값을 포함한 DataFrame\n",
    "    \"\"\"\n",
    "\n",
    "    # 'time' 열을 밀리초(ms)에서 datetime 형식으로 변환\n",
    "    data['time'] = pd.to_datetime(data['time'], unit='ms')\n",
    "\n",
    "    # 1시간 간격으로 리샘플링하여 OHLCV 데이터 생성\n",
    "    ohlcv = data.resample('1H', on='time').agg({\n",
    "        'price': ['first', 'max', 'min', 'last'],\n",
    "        'qty': 'sum',\n",
    "        'quote_qty': 'std',\n",
    "        'is_buyer_market': 'sum'\n",
    "    })\n",
    "\n",
    "    # 열 이름 변경\n",
    "    ohlcv.columns = ['Open', 'High', 'Low', 'Close', 'Volume', 'quote_qty', 'is_buyer_market']\n",
    "    return ohlcv\n",
    "\n",
    "\n",
    "def calculate_volatility(data, window=20):\n",
    "    \"\"\"\n",
    "    수익률의 표준 편차를 사용하여 롤링 변동성을 계산합니다.\n",
    "    :param data: OHLCV 데이터를 담고 있는 DataFrame\n",
    "    :param window: 표준 편차 계산에 사용할 기간\n",
    "    :return: 변동성 값을 포함한 DataFrame\n",
    "    \"\"\"\n",
    "\n",
    "    # 일별 수익률 계산\n",
    "    data['returns'] = data['Close'].pct_change()\n",
    "\n",
    "    # 수익률의 롤링 표준 편차 계산\n",
    "    data['volatility'] = data['returns'].rolling(window=window, min_periods=1).std()\n",
    "\n",
    "    return data\n",
    "\n",
    "# OHLCV 변환\n",
    "ohlcv_data = convert_tick_to_ohlcv(data)\n",
    "\n",
    "# 변동성 계산\n",
    "volatility_data = calculate_volatility(ohlcv_data)\n",
    "\n",
    "# 인덱스 재설정\n",
    "volatility_data = volatility_data.reset_index()\n",
    "\n",
    "# CSV 파일로 저장 (UTF-8 인코딩)\n",
    "volatility_data.to_csv('../data/BIT_202306.csv', index=False, encoding='utf-8-sig')\n"
   ]
  },
  {
   "cell_type": "code",
   "execution_count": null,
   "id": "c192728b-a0a4-440a-8469-8351e99754f2",
   "metadata": {},
   "outputs": [],
   "source": [
    "import pandas as pd\n",
    "\n",
    "PATH = '../data/BIT_2023'\n",
    "\n",
    "dfs = []\n",
    "\n",
    "months = [1, 2, 3, 4, 5, 6, 7, 8, 9, 10, 11, 12]\n",
    "for month in months:\n",
    "    file_name = f'{month:02d}.csv'\n",
    "    data = pd.read_csv(PATH + file_name)\n",
    "    dfs.append(data)\n",
    "    \n",
    "result_data = pd.concat(dfs, ignore_index=True)\n",
    "result_data.head()"
   ]
  },
  {
   "cell_type": "code",
   "execution_count": null,
   "id": "33c3d216-2207-44f8-a0f0-29ecb5e09f19",
   "metadata": {},
   "outputs": [],
   "source": []
  }
 ],
 "metadata": {
  "kernelspec": {
   "display_name": "Python 3 (ipykernel)",
   "language": "python",
   "name": "python3"
  },
  "language_info": {
   "codemirror_mode": {
    "name": "ipython",
    "version": 3
   },
   "file_extension": ".py",
   "mimetype": "text/x-python",
   "name": "python",
   "nbconvert_exporter": "python",
   "pygments_lexer": "ipython3",
   "version": "3.11.4"
  }
 },
 "nbformat": 4,
 "nbformat_minor": 5
}
